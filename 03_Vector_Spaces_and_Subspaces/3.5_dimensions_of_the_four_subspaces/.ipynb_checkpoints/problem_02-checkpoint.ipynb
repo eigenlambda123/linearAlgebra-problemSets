{
 "cells": [
  {
   "cell_type": "markdown",
   "id": "0e5c25d2-8146-44dc-8073-86de860644d6",
   "metadata": {},
   "source": [
    "### **Problems**\n",
    "\n",
    "Find bases and dimensions for the four subspaces associated with $A$ and $B$:\n",
    "\n",
    "$$\n",
    "A = \\begin{bmatrix}\n",
    "1 & 2 & 4 \\\\\n",
    "2 & 4 & 8\n",
    "\\end{bmatrix},\n",
    "\\quad\n",
    "B = \\begin{bmatrix}\n",
    "1 & 2 & 4 \\\\\n",
    "2 & 5 & 8\n",
    "\\end{bmatrix}.\n",
    "$$\n"
   ]
  },
  {
   "cell_type": "markdown",
   "id": "779938d2-2f05-4ad6-bb4c-2f3879301691",
   "metadata": {},
   "source": [
    "---\n",
    "\n",
    "### **Solutions**\n",
    "\n",
    "Here are bases and dimensions for the four fundamental subspaces of each matrix.\n",
    "\n",
    "#### For $A=\\begin{bmatrix}1&2&4\\\\2&4&8\\end{bmatrix}$  $(2\\times 3)$\n",
    "\n",
    "* **Rank:** rows are dependent $(\\text{row}_2=2\\,\\text{row}_1)\\Rightarrow \\operatorname{rank}(A)=1$.\n",
    "\n",
    "* **Column space** $\\mathcal C(A)\\subset\\mathbb R^2$:\n",
    "  A basis is $\\Big\\{\\begin{bmatrix}1\\\\2\\end{bmatrix}\\Big\\},\\qquad \\dim=1.$\n",
    "\n",
    "* **Row space** $\\mathcal C(A^\\top)\\subset\\mathbb R^3$:\n",
    "  A basis is $\\Big\\{\\begin{bmatrix}1&2&4\\end{bmatrix}\\Big\\},\\qquad \\dim=1.$\n",
    "\n",
    "* **Nullspace** $\\mathcal N(A)\\subset\\mathbb R^3$: solve $x_1+2x_2+4x_3=0$.\n",
    "  With $x_2=s,\\ x_3=t$, $x_1=-2s-4t$, so\n",
    "  $\\mathcal N(A)=\\operatorname{span}\\left\\{\\begin{bmatrix}-2\\\\1\\\\0\\end{bmatrix},\\begin{bmatrix}-4\\\\0\\\\1\\end{bmatrix}\\right\\},\\qquad \\dim=2.$\n",
    "\n",
    "* **Left nullspace** $\\mathcal N(A^\\top)\\subset\\mathbb R^2$: solve $A^\\top y=0\\Rightarrow y_1+2y_2=0$.\n",
    "  $\\mathcal N(A^\\top)=\\operatorname{span}\\left\\{\\begin{bmatrix}-2\\\\1\\end{bmatrix}\\right\\},\\qquad \\dim=1.$\n",
    "\n",
    "\n",
    "#### For $B=\\begin{bmatrix}1&2&4\\\\2&5&8\\end{bmatrix}$  $(2\\times 3)$\n",
    "\n",
    "* **Rank:** rows are independent $\\Rightarrow \\operatorname{rank}(B)=2$.\n",
    "\n",
    "* **Column space** $\\mathcal C(B)\\subset\\mathbb R^2$: pivot columns 1 and 2.\n",
    "  $\\mathcal C(B)=\\operatorname{span}\\left\\{\\begin{bmatrix}1\\\\2\\end{bmatrix},\\begin{bmatrix}2\\\\5\\end{bmatrix}\\right\\},\\qquad \\dim=2.$\n",
    "\n",
    "* **Row space** $\\mathcal C(B^\\top)\\subset\\mathbb R^3$: rows are independent.\n",
    "  $\\mathcal C(B^\\top)=\\operatorname{span}\\left\\{\\begin{bmatrix}1&2&4\\end{bmatrix},\\begin{bmatrix}2&5&8\\end{bmatrix}\\right\\},\\qquad \\dim=2.$\n",
    "\n",
    "* **Nullspace** $\\mathcal N(B)\\subset\\mathbb R^3$: solve\n",
    "\n",
    "  $$\n",
    "  \\begin{cases}\n",
    "  x_1+2x_2+4x_3=0,\\\\\n",
    "  2x_1+5x_2+8x_3=0\n",
    "  \\end{cases}\\Rightarrow x_2=0,\\ x_1=-4x_3.\n",
    "  $$\n",
    "\n",
    "  $\\mathcal N(B)=\\operatorname{span}\\left\\{\\begin{bmatrix}-4\\\\0\\\\1\\end{bmatrix}\\right\\},\\qquad \\dim=1.$\n",
    "\n",
    "* **Left nullspace** $\\mathcal N(B^\\top)\\subset\\mathbb R^2$:\n",
    "  $\\dim=2-\\operatorname{rank}(B)=0,\\quad \\mathcal N(B^\\top)=\\{\\mathbf{0}\\}.$\n"
   ]
  }
 ],
 "metadata": {
  "kernelspec": {
   "display_name": "Python 3 (ipykernel)",
   "language": "python",
   "name": "python3"
  },
  "language_info": {
   "codemirror_mode": {
    "name": "ipython",
    "version": 3
   },
   "file_extension": ".py",
   "mimetype": "text/x-python",
   "name": "python",
   "nbconvert_exporter": "python",
   "pygments_lexer": "ipython3",
   "version": "3.12.6"
  }
 },
 "nbformat": 4,
 "nbformat_minor": 5
}
