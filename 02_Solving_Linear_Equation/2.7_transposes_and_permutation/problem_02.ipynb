{
 "cells": [
  {
   "cell_type": "markdown",
   "id": "ffd8b73f-3d54-4763-ba8e-1aae219e89b1",
   "metadata": {},
   "source": [
    "### **Problems**  \n",
    "Verify the following matrix properties for:  \n",
    "$$ A = \\begin{bmatrix} 1 & 0 \\\\ 2 & 1 \\end{bmatrix}, \\quad B = \\begin{bmatrix} 1 & 3 \\\\ 0 & 1 \\end{bmatrix}, \\quad AB = \\begin{bmatrix} 1 & 3 \\\\ 2 & 7 \\end{bmatrix} $$\n",
    "\n",
    "**Tasks:**  \n",
    "(a) Show that $(AB)^\\top = B^\\top A^\\top$ but $(AB)^\\top \\neq A^\\top B^\\top$.  \n",
    "(b) Show that $AA^\\top \\neq A^\\top A$.  \n",
    "(c) Fill in the blank: \"But both of those matrices are ______.\"  "
   ]
  },
  {
   "cell_type": "markdown",
   "id": "67594103-573b-4bba-8530-fbf4bf00c152",
   "metadata": {},
   "source": [
    "---\n",
    "\n",
    "### **Solutions**  \n",
    "\n",
    "#### **(a) Transpose of Product $(AB)^\\top$**  \n",
    "- Compute $(AB)^\\top$:  \n",
    "  $$ (AB)^\\top = \\begin{bmatrix} 1 & 2 \\\\ 3 & 7 \\end{bmatrix} $$  \n",
    "- Compute $B^\\top A^\\top$:  \n",
    "  $$ B^\\top = \\begin{bmatrix} 1 & 0 \\\\ 3 & 1 \\end{bmatrix}, \\quad A^\\top = \\begin{bmatrix} 1 & 2 \\\\ 0 & 1 \\end{bmatrix} $$  \n",
    "  $$ B^\\top A^\\top = \\begin{bmatrix} 1 \\cdot 1 + 0 \\cdot 0 & 1 \\cdot 2 + 0 \\cdot 1 \\\\ 3 \\cdot 1 + 1 \\cdot 0 & 3 \\cdot 2 + 1 \\cdot 1 \\end{bmatrix} = \\begin{bmatrix} 1 & 2 \\\\ 3 & 7 \\end{bmatrix} $$  \n",
    "  **Result:** $(AB)^\\top = B^\\top A^\\top$ ✓  \n",
    "\n",
    "- Compute $A^\\top B^\\top$:  \n",
    "  $$ A^\\top B^\\top = \\begin{bmatrix} 1 \\cdot 1 + 2 \\cdot 3 & 1 \\cdot 0 + 2 \\cdot 1 \\\\ 0 \\cdot 1 + 1 \\cdot 3 & 0 \\cdot 0 + 1 \\cdot 1 \\end{bmatrix} = \\begin{bmatrix} 7 & 2 \\\\ 3 & 1 \\end{bmatrix} $$  \n",
    "  **Result:** $(AB)^\\top \\neq A^\\top B^\\top$ ✓  \n",
    "\n",
    "#### **(b) Compare $AA^\\top$ and $A^\\top A$**  \n",
    "- Compute $AA^\\top$:  \n",
    "  $$ AA^\\top = \\begin{bmatrix} 1 & 0 \\\\ 2 & 1 \\end{bmatrix} \\begin{bmatrix} 1 & 2 \\\\ 0 & 1 \\end{bmatrix} = \\begin{bmatrix} 1 & 2 \\\\ 2 & 5 \\end{bmatrix} $$  \n",
    "- Compute $A^\\top A$:  \n",
    "  $$ A^\\top A = \\begin{bmatrix} 1 & 2 \\\\ 0 & 1 \\end{bmatrix} \\begin{bmatrix} 1 & 0 \\\\ 2 & 1 \\end{bmatrix} = \\begin{bmatrix} 5 & 2 \\\\ 2 & 1 \\end{bmatrix} $$  \n",
    "  **Result:** $AA^\\top \\neq A^\\top A$ ✓  \n",
    "\n",
    "#### **(c) Fill in the Blank**  \n",
    "\"Both of those matrices are **symmetric**.\"  "
   ]
  }
 ],
 "metadata": {
  "kernelspec": {
   "display_name": "Python 3 (ipykernel)",
   "language": "python",
   "name": "python3"
  },
  "language_info": {
   "codemirror_mode": {
    "name": "ipython",
    "version": 3
   },
   "file_extension": ".py",
   "mimetype": "text/x-python",
   "name": "python",
   "nbconvert_exporter": "python",
   "pygments_lexer": "ipython3",
   "version": "3.12.6"
  }
 },
 "nbformat": 4,
 "nbformat_minor": 5
}
