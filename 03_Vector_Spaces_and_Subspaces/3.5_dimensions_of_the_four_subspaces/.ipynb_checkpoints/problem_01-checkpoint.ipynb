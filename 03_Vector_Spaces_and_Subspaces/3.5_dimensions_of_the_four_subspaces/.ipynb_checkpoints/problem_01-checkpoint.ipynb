{
 "cells": [
  {
   "cell_type": "markdown",
   "id": "94dac567-fe87-4b5d-ba4d-067a64e66f7b",
   "metadata": {},
   "source": [
    "### **Problems**\n",
    "\n",
    "**(a)** If a $7 \\times 9$ matrix has rank $5$, what are the dimensions of the four subspaces?  \n",
    "What is the sum of all four dimensions?  \n",
    "\n",
    "**(b)** If a $3 \\times 4$ matrix has rank $3$, what are its column space and left nullspace?\n"
   ]
  },
  {
   "cell_type": "markdown",
   "id": "9db09141-d3c5-4c2c-bd6d-57bbe7dec730",
   "metadata": {},
   "source": [
    "---\n",
    "\n",
    "### **Solutions**\n",
    "\n",
    "**(a)** Let \\$A\\$ be \\$7\\times 9\\$ with \\$\\operatorname{rank}(A)=5\\$.\n",
    "\n",
    "* Column space (in \\$\\mathbb{R}^7\\$): $\\dim(\\mathcal{C}(A))=\\operatorname{rank}(A)=5.$\n",
    "* Row space (in \\$\\mathbb{R}^9\\$): $\\dim(\\mathcal{C}(A^\\top))=\\operatorname{rank}(A)=5.$\n",
    "* Nullspace (in \\$\\mathbb{R}^9\\$): by rank–nullity, $\\dim(\\mathcal{N}(A))=n-\\operatorname{rank}(A)=9-5=4.$\n",
    "* Left nullspace (in \\$\\mathbb{R}^7\\$): $\\dim(\\mathcal{N}(A^\\top))=m-\\operatorname{rank}(A)=7-5=2.$\n",
    "\n",
    "Sum of all four dimensions:\n",
    "$5+5+4+2=16=m+n.$\n",
    "\n",
    "**(b)** Let \\$A\\$ be \\$3\\times 4\\$ with \\$\\operatorname{rank}(A)=3\\$.\n",
    "\n",
    "* Column space: it’s a \\$3\\$-dimensional subspace of \\$\\mathbb{R}^3\\$, hence\n",
    "  $\\mathcal{C}(A)=\\mathbb{R}^3.$\n",
    "* Left nullspace: $\\dim(\\mathcal{N}(A^\\top))=m-\\operatorname{rank}(A)=3-3=0,$\n",
    "  so $\\mathcal{N}(A^\\top)=\\{\\mathbf{0}\\}\\subset\\mathbb{R}^3.$\n"
   ]
  }
 ],
 "metadata": {
  "kernelspec": {
   "display_name": "Python 3 (ipykernel)",
   "language": "python",
   "name": "python3"
  },
  "language_info": {
   "codemirror_mode": {
    "name": "ipython",
    "version": 3
   },
   "file_extension": ".py",
   "mimetype": "text/x-python",
   "name": "python",
   "nbconvert_exporter": "python",
   "pygments_lexer": "ipython3",
   "version": "3.12.6"
  }
 },
 "nbformat": 4,
 "nbformat_minor": 5
}
