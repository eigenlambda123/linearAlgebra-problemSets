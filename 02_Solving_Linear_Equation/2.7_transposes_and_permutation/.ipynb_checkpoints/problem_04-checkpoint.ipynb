{
 "cells": [
  {
   "cell_type": "markdown",
   "id": "fe93da87-aa9c-4edb-9da8-78a82a301f62",
   "metadata": {},
   "source": [
    "### **Problems**\n",
    "Show that $A^2 = 0$ is possible, but $A^\\top A = 0$ is not possible (unless $A$ is the zero matrix).  \n",
    "\n",
    "**I used:**  \n",
    "$$ A = \\begin{bmatrix} 0 & 0 \\\\ 1 & 0 \\end{bmatrix} $$"
   ]
  },
  {
   "cell_type": "markdown",
   "id": "726eb9a7-e3f3-4321-9c1b-5e8be55c60c7",
   "metadata": {},
   "source": [
    "### **Solutions**\n",
    "\n",
    "#### **Part (a): $A^2 = 0$ is possible**\n",
    "Compute $A^2$:  \n",
    "$$\n",
    "A^2 = \\begin{bmatrix} 0 & 0 \\\\ 1 & 0 \\end{bmatrix} \\begin{bmatrix} 0 & 0 \\\\ 1 & 0 \\end{bmatrix} = \\boxed{\\begin{bmatrix} 0 & 0 \\\\ 0 & 0 \\end{bmatrix}}  \n",
    "$$  \n",
    "**Conclusion:** This non-zero matrix satisfies $A^2 = 0$ (it is nilpotent).\n",
    "\n",
    "\n",
    "#### **Part (b): $A^\\top A = 0$ requires $A = 0$**  \n",
    "1. Compute $A^\\top A$ for the given $A$:  \n",
    "   $$\n",
    "   A^\\top A = \\begin{bmatrix} 0 & 1 \\\\ 0 & 0 \\end{bmatrix} \\begin{bmatrix} 0 & 0 \\\\ 1 & 0 \\end{bmatrix} = \\boxed{\\begin{bmatrix} 1 & 0 \\\\ 0 & 0 \\end{bmatrix}} \\neq 0\n",
    "   $$\n",
    "\n",
    "2. **General Proof**:  \n",
    "   For any real matrix $A$, the diagonal entries of $A^\\top A$ are sums of squares:  \n",
    "   $$ (A^\\top A)_{ii} = \\sum_{k} a_{ki}^2. $$  \n",
    "   If $A^\\top A = 0$, all diagonal entries must be zero, implying every $a_{ki} = 0$.  \n",
    "\n",
    "**Conclusion:**  \n",
    "$$ A^\\top A = 0 \\iff A = \\boxed{\\begin{bmatrix} 0 & 0 \\\\ 0 & 0 \\end{bmatrix}} $$\n"
   ]
  }
 ],
 "metadata": {
  "kernelspec": {
   "display_name": "Python 3 (ipykernel)",
   "language": "python",
   "name": "python3"
  },
  "language_info": {
   "codemirror_mode": {
    "name": "ipython",
    "version": 3
   },
   "file_extension": ".py",
   "mimetype": "text/x-python",
   "name": "python",
   "nbconvert_exporter": "python",
   "pygments_lexer": "ipython3",
   "version": "3.12.6"
  }
 },
 "nbformat": 4,
 "nbformat_minor": 5
}
