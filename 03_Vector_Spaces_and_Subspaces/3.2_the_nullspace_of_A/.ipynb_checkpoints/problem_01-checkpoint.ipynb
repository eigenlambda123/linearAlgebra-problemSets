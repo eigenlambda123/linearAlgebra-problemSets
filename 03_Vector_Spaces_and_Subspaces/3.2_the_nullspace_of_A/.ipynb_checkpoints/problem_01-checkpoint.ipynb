{
 "cells": [
  {
   "cell_type": "markdown",
   "id": "bc5ce4a9-e93e-49a5-83a0-c2cf9415cbc9",
   "metadata": {},
   "source": [
    "\n",
    "\n",
    "### **Problem (a)**\n",
    "Reduce matrix $A$ to echelon form $U$:\n",
    "$$\n",
    "A = \\begin{bmatrix} \n",
    "1 & 2 & 2 & 4 & 6 \\\\ \n",
    "1 & 2 & 3 & 6 & 9 \\\\ \n",
    "0 & 0 & 1 & 2 & 3 \n",
    "\\end{bmatrix}\n",
    "$$\n",
    "\n",
    "### **Solution**\n",
    "1. $R_2 \\leftarrow R_2 - R_1$:\n",
    "   $$\\begin{bmatrix} \n",
    "   1 & 2 & 2 & 4 & 6 \\\\ \n",
    "   0 & 0 & 1 & 2 & 3 \\\\ \n",
    "   0 & 0 & 1 & 2 & 3 \n",
    "   \\end{bmatrix}$$\n",
    "\n",
    "2. $R_3 \\leftarrow R_3 - R_2$ yields echelon form:\n",
    "   $$U = \\begin{bmatrix} \n",
    "   1 & 2 & 2 & 4 & 6 \\\\ \n",
    "   0 & 0 & 1 & 2 & 3 \\\\ \n",
    "   0 & 0 & 0 & 0 & 0 \n",
    "   \\end{bmatrix}$$\n",
    "\n",
    "**Pivots**: Columns 1 and 3  \n",
    "**Free variables**: $\\boxed{x_2, x_4, x_5}$"
   ]
  },
  {
   "cell_type": "markdown",
   "id": "f93e36d6-d71a-450a-b1ee-c72eb0ffad79",
   "metadata": {},
   "source": [
    "---\n",
    "\n",
    "### **Problem (b)**\n",
    "Reduce matrix $B$ to echelon form $U$:\n",
    "$$\n",
    "B = \\begin{bmatrix} \n",
    "2 & 4 & 2 \\\\ \n",
    "0 & 4 & 4 \\\\ \n",
    "0 & 8 & 8 \n",
    "\\end{bmatrix}\n",
    "$$\n",
    "\n",
    "### **Solution**\n",
    "1. $R_1 \\leftarrow \\frac{1}{2}R_1$:\n",
    "   $$\\begin{bmatrix} \n",
    "   1 & 2 & 1 \\\\ \n",
    "   0 & 4 & 4 \\\\ \n",
    "   0 & 8 & 8 \n",
    "   \\end{bmatrix}$$\n",
    "\n",
    "2. $R_3 \\leftarrow R_3 - 2R_2$ yields echelon form:\n",
    "   $$U = \\begin{bmatrix} \n",
    "   1 & 2 & 1 \\\\ \n",
    "   0 & 4 & 4 \\\\ \n",
    "   0 & 0 & 0 \n",
    "   \\end{bmatrix}$$\n",
    "\n",
    "**Pivots**: Columns 1 and 2  \n",
    "**Free variable**: $\\boxed{x_3}$"
   ]
  }
 ],
 "metadata": {
  "kernelspec": {
   "display_name": "Python 3 (ipykernel)",
   "language": "python",
   "name": "python3"
  },
  "language_info": {
   "codemirror_mode": {
    "name": "ipython",
    "version": 3
   },
   "file_extension": ".py",
   "mimetype": "text/x-python",
   "name": "python",
   "nbconvert_exporter": "python",
   "pygments_lexer": "ipython3",
   "version": "3.12.6"
  }
 },
 "nbformat": 4,
 "nbformat_minor": 5
}
