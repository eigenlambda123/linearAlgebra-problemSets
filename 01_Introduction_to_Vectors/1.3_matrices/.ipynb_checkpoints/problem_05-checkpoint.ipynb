{
 "cells": [
  {
   "cell_type": "markdown",
   "id": "3af740ab-8a16-4d65-b845-211f7aef6292",
   "metadata": {},
   "source": [
    "### **Problems**\n",
    "\n",
    "The rows of that matrix $W$ produce three vectors (_I write them as columns_):\n",
    "\n",
    "$$\n",
    "\\mathbf{r}_{1} = \\begin{bmatrix} 1 \\\\ 4 \\\\ 7 \\end{bmatrix} \\quad\n",
    "\\mathbf{r}_{2} = \\begin{bmatrix} 2 \\\\ 5 \\\\ 8 \\end{bmatrix} \\quad\n",
    "\\mathbf{r}_{3} = \\begin{bmatrix} 3 \\\\ 6 \\\\ 9 \\end{bmatrix}.\n",
    "$$\n",
    "\n",
    "Linear algebra says that these vectors must also lie in a plane. There must be many combinations with $y_{1}\\mathbf{r}_{1} + y_{2}\\mathbf{r}_{2} + y_{3}\\mathbf{r}_{3} = \\mathbf{0}$. Find two sets of $y$'s."
   ]
  },
  {
   "cell_type": "code",
   "execution_count": null,
   "id": "6edffb58-f900-4c8b-adbc-f07e2d70a077",
   "metadata": {},
   "outputs": [],
   "source": []
  }
 ],
 "metadata": {
  "kernelspec": {
   "display_name": "Python 3 (ipykernel)",
   "language": "python",
   "name": "python3"
  },
  "language_info": {
   "codemirror_mode": {
    "name": "ipython",
    "version": 3
   },
   "file_extension": ".py",
   "mimetype": "text/x-python",
   "name": "python",
   "nbconvert_exporter": "python",
   "pygments_lexer": "ipython3",
   "version": "3.12.6"
  }
 },
 "nbformat": 4,
 "nbformat_minor": 5
}
