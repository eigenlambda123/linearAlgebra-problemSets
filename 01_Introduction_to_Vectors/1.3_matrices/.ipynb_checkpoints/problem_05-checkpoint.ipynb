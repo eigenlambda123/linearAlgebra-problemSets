{
 "cells": [
  {
   "cell_type": "markdown",
   "id": "3af740ab-8a16-4d65-b845-211f7aef6292",
   "metadata": {},
   "source": [
    "### **Problems**\n",
    "\n",
    "The rows of that matrix $W$ produce three vectors (_I write them as columns_):\n",
    "\n",
    "$$\n",
    "\\mathbf{r}_{1} = \\begin{bmatrix} 1 \\\\ 4 \\\\ 7 \\end{bmatrix} \\quad\n",
    "\\mathbf{r}_{2} = \\begin{bmatrix} 2 \\\\ 5 \\\\ 8 \\end{bmatrix} \\quad\n",
    "\\mathbf{r}_{3} = \\begin{bmatrix} 3 \\\\ 6 \\\\ 9 \\end{bmatrix}.\n",
    "$$\n",
    "\n",
    "Linear algebra says that these vectors must also lie in a plane. There must be many combinations with $y_{1}\\mathbf{r}_{1} + y_{2}\\mathbf{r}_{2} + y_{3}\\mathbf{r}_{3} = \\mathbf{0}$. Find two sets of $y$'s."
   ]
  },
  {
   "cell_type": "markdown",
   "id": "17f3071c-c77d-4a0c-9e3f-031d99dc0d48",
   "metadata": {},
   "source": [
    "---\n",
    "\n",
    "### **Solutions**\n",
    "\n",
    "The vectors are linearly dependent. Solving the system:\n",
    "\n",
    "From $y_1 + 2y_2 + 3y_3 = 0$ and $4y_1 + 5y_2 + 6y_3 = 0$, we get:\n",
    "- $y_2 = -2y_3$\n",
    "- $y_1 = y_3$\n",
    "\n",
    "So the general solution is $(y_1, y_2, y_3) = (t, -2t, t)$ for any scalar $t$.\n",
    "\n",
    "**Two sets of $y$'s:**\n",
    "1. $(1, -2, 1)$\n",
    "2. $(-1, 2, -1)$\n",
    "\n",
    "Both satisfy $y_1\\mathbf{r}_1 + y_2\\mathbf{r}_2 + y_3\\mathbf{r}_3 = \\mathbf{0}$."
   ]
  }
 ],
 "metadata": {
  "kernelspec": {
   "display_name": "Python 3 (ipykernel)",
   "language": "python",
   "name": "python3"
  },
  "language_info": {
   "codemirror_mode": {
    "name": "ipython",
    "version": 3
   },
   "file_extension": ".py",
   "mimetype": "text/x-python",
   "name": "python",
   "nbconvert_exporter": "python",
   "pygments_lexer": "ipython3",
   "version": "3.12.6"
  }
 },
 "nbformat": 4,
 "nbformat_minor": 5
}
