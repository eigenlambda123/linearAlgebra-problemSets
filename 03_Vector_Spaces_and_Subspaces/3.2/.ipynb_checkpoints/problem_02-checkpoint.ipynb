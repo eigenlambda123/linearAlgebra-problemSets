{
 "cells": [
  {
   "cell_type": "markdown",
   "id": "1ebe4d4c-305e-453d-8c7e-48ca09423194",
   "metadata": {},
   "source": [
    "### **Part (a): Matrix $A$**\n",
    "\n",
    "### Given\n",
    "Echelon form from Problem 1(a):\n",
    "$$\n",
    "U = \\begin{bmatrix} \n",
    "1 & 2 & 2 & 4 & 6 \\\\ \n",
    "0 & 0 & 1 & 2 & 3 \\\\ \n",
    "0 & 0 & 0 & 0 & 0 \n",
    "\\end{bmatrix}\n",
    "$$\n",
    "Free variables: $x_2$, $x_4$, $x_5$\n",
    "\n",
    "### **Special Solutions**\n",
    "1. **For $x_2=1$** ($x_4=0$, $x_5=0$):\n",
    "   - From row 2: $x_3 = -2x_4 - 3x_5 = 0$\n",
    "   - From row 1: $x_1 = -2x_2 - 2x_3 - 4x_4 - 6x_5 = -2$\n",
    "   - Solution: $\\boxed{\\begin{bmatrix} -2 \\\\ 1 \\\\ 0 \\\\ 0 \\\\ 0 \\end{bmatrix}}$\n",
    "\n",
    "2. **For $x_4=1$** ($x_2=0$, $x_5=0$):\n",
    "   - From row 2: $x_3 = -2$\n",
    "   - From row 1: $x_1 = -2x_3 -4 = 0$\n",
    "   - Solution: $\\boxed{\\begin{bmatrix} 0 \\\\ 0 \\\\ -2 \\\\ 1 \\\\ 0 \\end{bmatrix}}$\n",
    "\n",
    "3. **For $x_5=1$** ($x_2=0$, $x_4=0$):\n",
    "   - From row 2: $x_3 = -3$\n",
    "   - From row 1: $x_1 = -2x_3 -6 = 0$\n",
    "   - Solution: $\\boxed{\\begin{bmatrix} 0 \\\\ 0 \\\\ -3 \\\\ 0 \\\\ 1 \\end{bmatrix}}$"
   ]
  },
  {
   "cell_type": "markdown",
   "id": "c6b26b5e-98a0-44a6-a34e-f4c3804a5d69",
   "metadata": {},
   "source": [
    "---\n",
    "\n",
    "### **Part (b): Matrix $B$**\n",
    "\n",
    "### Given\n",
    "Echelon form from Problem 1(b):\n",
    "$$\n",
    "U = \\begin{bmatrix} \n",
    "1 & 2 & 1 \\\\ \n",
    "0 & 4 & 4 \\\\ \n",
    "0 & 0 & 0 \n",
    "\\end{bmatrix}\n",
    "$$\n",
    "Free variable: $x_3$\n",
    "\n",
    "### **Special Solution**\n",
    "**For $x_3=1$**:\n",
    "- From row 2: $4x_2 = -4x_3 \\Rightarrow x_2 = -1$\n",
    "- From row 1: $x_1 = -2x_2 -x_3 = 1$\n",
    "- Solution: $\\boxed{\\begin{bmatrix} 1 \\\\ -1 \\\\ 1 \\end{bmatrix}}$"
   ]
  }
 ],
 "metadata": {
  "kernelspec": {
   "display_name": "Python 3 (ipykernel)",
   "language": "python",
   "name": "python3"
  },
  "language_info": {
   "codemirror_mode": {
    "name": "ipython",
    "version": 3
   },
   "file_extension": ".py",
   "mimetype": "text/x-python",
   "name": "python",
   "nbconvert_exporter": "python",
   "pygments_lexer": "ipython3",
   "version": "3.12.6"
  }
 },
 "nbformat": 4,
 "nbformat_minor": 5
}
