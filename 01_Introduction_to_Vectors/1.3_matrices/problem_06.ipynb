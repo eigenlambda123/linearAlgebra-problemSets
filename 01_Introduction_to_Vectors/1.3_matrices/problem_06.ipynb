{
 "cells": [
  {
   "cell_type": "markdown",
   "id": "b771b676-6186-44c0-ad9f-efb8452e267b",
   "metadata": {},
   "source": [
    "### **Problems**\n",
    "\n",
    "Which numbers $c$ give dependent columns so a combination of columns equals zero?\n",
    "\n",
    "$$\n",
    "\\begin{bmatrix}\n",
    "1 & 1 & 0 \\\\\n",
    "3 & 2 & 1 \\\\\n",
    "7 & 4 & c\n",
    "\\end{bmatrix}\n",
    "\\quad\n",
    "\\begin{bmatrix}\n",
    "1 & 0 & c \\\\\n",
    "1 & 1 & 0 \\\\\n",
    "0 & 1 & 1\n",
    "\\end{bmatrix}\n",
    "\\quad\n",
    "\\begin{bmatrix}\n",
    "c & c & c \\\\\n",
    "2 & 1 & 5 \\\\\n",
    "3 & 3 & 6\n",
    "\\end{bmatrix}\n",
    "$$\n",
    "\n",
    "maybe always independent for $c \\neq 0$?"
   ]
  },
  {
   "cell_type": "code",
   "execution_count": null,
   "id": "477fec22-a416-451b-a5d7-06b5e49c578a",
   "metadata": {},
   "outputs": [],
   "source": []
  }
 ],
 "metadata": {
  "kernelspec": {
   "display_name": "Python 3 (ipykernel)",
   "language": "python",
   "name": "python3"
  },
  "language_info": {
   "codemirror_mode": {
    "name": "ipython",
    "version": 3
   },
   "file_extension": ".py",
   "mimetype": "text/x-python",
   "name": "python",
   "nbconvert_exporter": "python",
   "pygments_lexer": "ipython3",
   "version": "3.12.6"
  }
 },
 "nbformat": 4,
 "nbformat_minor": 5
}
