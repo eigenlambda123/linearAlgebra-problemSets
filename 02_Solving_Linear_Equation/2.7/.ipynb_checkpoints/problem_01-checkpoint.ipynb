{
 "cells": [
  {
   "cell_type": "markdown",
   "id": "b13a5e4c-3119-4a34-bc9f-aadd71ae9776",
   "metadata": {},
   "source": [
    "### Problems  \n",
    "Find the following matrices for the given matrices \\( A \\):\n",
    "\n",
    "#### **Part 1:**  \n",
    "For  \n",
    "$$ A = \\begin{bmatrix} 1 & 0 \\\\ 9 & 3 \\end{bmatrix}, $$  \n",
    "\n",
    "**Compute:**\n",
    "\n",
    "(a) $A^T$ (Transpose)  \n",
    "(b) $A^{-1}$ (Inverse)  \n",
    "(c) $(A^{-1})^T$ (Transpose of the Inverse)  \n",
    "(d) $(A^T)^{-1}$ (Inverse of the Transpose)  \n",
    "\n",
    "#### **Part 2:**  \n",
    "For  \n",
    "$$ A = \\begin{bmatrix} 1 & c \\\\ c & 0 \\end{bmatrix}, $$  \n",
    "compute the same four matrices as above.  \n",
    "\n"
   ]
  },
  {
   "cell_type": "markdown",
   "id": "be053a25-4044-4c2f-b778-cc03f0e5b951",
   "metadata": {},
   "source": [
    "---\n",
    "### Solutions\n",
    "\n",
    "#### **Part 1: For Matrix $A = \\begin{bmatrix} 1 & 0 \\\\ 9 & 3 \\end{bmatrix}$**\n",
    "\n",
    "1. **Transpose $A^T$:**\n",
    "   $$ A^T = \\boxed{\\begin{bmatrix} 1 & 9 \\\\ 0 & 3 \\end{bmatrix}} $$\n",
    "\n",
    "2. **Inverse $A^{-1}$:**\n",
    "   - $\\det(A) = (1)(3) - (0)(9) = 3$\n",
    "   $$ A^{-1} = \\frac{1}{3}\\begin{bmatrix} 3 & 0 \\\\ -9 & 1 \\end{bmatrix} = \\boxed{\\begin{bmatrix} 1 & 0 \\\\ -3 & \\frac{1}{3} \\end{bmatrix}} $$\n",
    "\n",
    "3. **$(A^{-1})^T$:**\n",
    "   $$ (A^{-1})^T = \\boxed{\\begin{bmatrix} 1 & -3 \\\\ 0 & \\frac{1}{3} \\end{bmatrix}} $$\n",
    "\n",
    "4. **$(A^T)^{-1}$:**\n",
    "   $$ (A^T)^{-1} = (A^{-1})^T = \\boxed{\\begin{bmatrix} 1 & -3 \\\\ 0 & \\frac{1}{3} \\end{bmatrix}} $$\n",
    "\n",
    "**Verification:**\n",
    "- $AA^{-1} = \\begin{bmatrix} 1 & 0 \\\\ 9 & 3 \\end{bmatrix}\\begin{bmatrix} 1 & 0 \\\\ -3 & \\frac{1}{3} \\end{bmatrix} = I$ ✓\n",
    "\n",
    "\n",
    "#### **Part 2: For Matrix $A = \\begin{bmatrix} 1 & c \\\\ c & 0 \\end{bmatrix}$**\n",
    "\n",
    "1. **Transpose $A^T$:**\n",
    "   $$ A^T = \\boxed{\\begin{bmatrix} 1 & c \\\\ c & 0 \\end{bmatrix}} \\quad \\text{(Symmetric)} $$\n",
    "\n",
    "2. **Inverse $A^{-1}$ (if $c \\neq 0$):**\n",
    "   - $\\det(A) = -c^2$\n",
    "   $$ A^{-1} = -\\frac{1}{c^2}\\begin{bmatrix} 0 & -c \\\\ -c & 1 \\end{bmatrix} = \\boxed{\\begin{bmatrix} 0 & \\frac{1}{c} \\\\ \\frac{1}{c} & -\\frac{1}{c^2} \\end{bmatrix}} $$\n",
    "\n",
    "3. **$(A^{-1})^T$:**\n",
    "   $$ (A^{-1})^T = \\boxed{\\begin{bmatrix} 0 & \\frac{1}{c} \\\\ \\frac{1}{c} & -\\frac{1}{c^2} \\end{bmatrix}} $$\n",
    "\n",
    "4. **$(A^T)^{-1}$:**\n",
    "   $$ (A^T)^{-1} = A^{-1} = \\boxed{\\begin{bmatrix} 0 & \\frac{1}{c} \\\\ \\frac{1}{c} & -\\frac{1}{c^2} \\end{bmatrix}} $$\n",
    "\n",
    "**Verification (for $c \\neq 0$):**\n",
    "- $AA^{-1} = \\begin{bmatrix} 1 & c \\\\ c & 0 \\end{bmatrix}\\begin{bmatrix} 0 & \\frac{1}{c} \\\\ \\frac{1}{c} & -\\frac{1}{c^2} \\end{bmatrix} = I$ ✓\n"
   ]
  }
 ],
 "metadata": {
  "kernelspec": {
   "display_name": "Python 3 (ipykernel)",
   "language": "python",
   "name": "python3"
  },
  "language_info": {
   "codemirror_mode": {
    "name": "ipython",
    "version": 3
   },
   "file_extension": ".py",
   "mimetype": "text/x-python",
   "name": "python",
   "nbconvert_exporter": "python",
   "pygments_lexer": "ipython3",
   "version": "3.12.6"
  }
 },
 "nbformat": 4,
 "nbformat_minor": 5
}
