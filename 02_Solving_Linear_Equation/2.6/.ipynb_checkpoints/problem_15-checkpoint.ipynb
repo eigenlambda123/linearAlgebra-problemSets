{
 "cells": [
  {
   "cell_type": "markdown",
   "id": "425f1040-93af-4a62-93aa-7e0a1c045a1a",
   "metadata": {},
   "source": [
    "### Problems\n",
    "Solve the system $LU\\mathbf{x} = \\mathbf{b}$ where:\n",
    "$$\n",
    "L = \\begin{bmatrix} 1 & 0 \\\\ 4 & 1 \\end{bmatrix}, \\quad \n",
    "U = \\begin{bmatrix} 2 & 4 \\\\ 0 & 1 \\end{bmatrix}, \\quad \n",
    "\\mathbf{b} = \\begin{bmatrix} 2 \\\\ 11 \\end{bmatrix}\n",
    "$$\n",
    "\n",
    "**Tasks:**\n",
    "\n",
    "(a) Solve $L\\mathbf{c} = \\mathbf{b}$ to find $\\mathbf{c}$.\n",
    "\n",
    "(b) Solve $U\\mathbf{x} = \\mathbf{c}$ to find $\\mathbf{x}$.\n",
    "\n",
    "(c) Verify by multiplying $LU$ and solving $A\\mathbf{x} = \\mathbf{b}$ directly."
   ]
  },
  {
   "cell_type": "markdown",
   "id": "17a5d145-82eb-485f-91d0-9a6e4cebde10",
   "metadata": {},
   "source": [
    "---\n",
    "\n",
    "### Solutions\n",
    "\n",
    "#### (a) Solve $L\\mathbf{c} = \\mathbf{b}$ (Forward Substitution)\n",
    "$$\n",
    "\\begin{bmatrix} 1 & 0 \\\\ 4 & 1 \\end{bmatrix} \n",
    "\\begin{bmatrix} c_1 \\\\ c_2 \\end{bmatrix} = \n",
    "\\begin{bmatrix} 2 \\\\ 11 \\end{bmatrix}\n",
    "$$\n",
    "\n",
    "- **Row 1:** $1c_1 + 0c_2 = 2 \\implies c_1 = \\boxed{2}$\n",
    "- **Row 2:** $4c_1 + 1c_2 = 11 \\implies 4(2) + c_2 = 11 \\implies c_2 = \\boxed{3}$\n",
    "\n",
    "**Solution:**  \n",
    "$$\n",
    "\\mathbf{c} = \\boxed{\\begin{bmatrix} 2 \\\\ 3 \\end{bmatrix}}\n",
    "$$\n",
    "\n",
    "#### (b) Solve $U\\mathbf{x} = \\mathbf{c}$ (Back Substitution)\n",
    "$$\n",
    "\\begin{bmatrix} 2 & 4 \\\\ 0 & 1 \\end{bmatrix} \n",
    "\\begin{bmatrix} x_1 \\\\ x_2 \\end{bmatrix} = \n",
    "\\begin{bmatrix} 2 \\\\ 3 \\end{bmatrix}\n",
    "$$\n",
    "\n",
    "- **Row 2:** $0x_1 + 1x_2 = 3 \\implies x_2 = \\boxed{3}$\n",
    "- **Row 1:** $2x_1 + 4x_2 = 2 \\implies 2x_1 + 4(3) = 2 \\implies x_1 = \\boxed{-5}$\n",
    "\n",
    "**Solution:**  \n",
    "$$\n",
    "\\mathbf{x} = \\boxed{\\begin{bmatrix} -5 \\\\ 3 \\end{bmatrix}}\n",
    "$$\n",
    "\n",
    "#### (c) Verification\n",
    "1. **Compute $A = LU$:**\n",
    "   $$\n",
    "   LU = \\begin{bmatrix} 1 & 0 \\\\ 4 & 1 \\end{bmatrix} \n",
    "   \\begin{bmatrix} 2 & 4 \\\\ 0 & 1 \\end{bmatrix} = \n",
    "   \\boxed{\\begin{bmatrix} 2 & 4 \\\\ 8 & 17 \\end{bmatrix}} = A\n",
    "   $$\n",
    "\n",
    "2. **Solve $A\\mathbf{x} = \\mathbf{b}$ directly:**\n",
    "   $$\n",
    "   \\begin{bmatrix} 2 & 4 \\\\ 8 & 17 \\end{bmatrix} \n",
    "   \\begin{bmatrix} x_1 \\\\ x_2 \\end{bmatrix} = \n",
    "   \\begin{bmatrix} 2 \\\\ 11 \\end{bmatrix}\n",
    "   $$\n",
    "   - **Row 1:** $2x_1 + 4x_2 = 2$  \n",
    "   - **Row 2:** $8x_1 + 17x_2 = 11$  \n",
    "   Solving yields the same solution: $\\mathbf{x} = \\boxed{\\begin{bmatrix} -5 \\\\ 3 \\end{bmatrix}} \\quad \\checkmark$\n"
   ]
  }
 ],
 "metadata": {
  "kernelspec": {
   "display_name": "Python 3 (ipykernel)",
   "language": "python",
   "name": "python3"
  },
  "language_info": {
   "codemirror_mode": {
    "name": "ipython",
    "version": 3
   },
   "file_extension": ".py",
   "mimetype": "text/x-python",
   "name": "python",
   "nbconvert_exporter": "python",
   "pygments_lexer": "ipython3",
   "version": "3.12.6"
  }
 },
 "nbformat": 4,
 "nbformat_minor": 5
}
