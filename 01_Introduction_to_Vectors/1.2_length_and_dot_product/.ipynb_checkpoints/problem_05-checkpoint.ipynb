{
 "cells": [
  {
   "cell_type": "markdown",
   "id": "c44fa818-edc2-44bd-a2ba-64c0a9a0fdcb",
   "metadata": {},
   "source": [
    "### **Problems**\n",
    "\n",
    "Find unit vectors $\\mathbf{u}_1$ and $\\mathbf{u}_2$ in the directions of $\\mathbf{v} = (1,3)$ and $\\mathbf{w} = (2,1,2)$.\n",
    "\n",
    "Find unit vectors $\\mathbf{U}_1$ and $\\mathbf{U}_2$ that are perpendicular to $\\mathbf{u}_1$ and $\\mathbf{u}_2$."
   ]
  },
  {
   "cell_type": "markdown",
   "id": "5ec0116d-7aa4-4531-8743-89687b2294bf",
   "metadata": {},
   "source": [
    "---\n",
    "\n",
    "### **Solutions**\n",
    "\n",
    "A unit vector in the direction of a vector $\\mathbf{a}$ is $\\mathbf{u} = \\frac{\\mathbf{a}}{\\|\\mathbf{a}\\|}$.\n",
    "\n",
    "**(a) For $\\mathbf{v} = (1,3)$:**\n",
    "- Magnitude: $\\|\\mathbf{v}\\| = \\sqrt{1^2 + 3^2} = \\sqrt{10}$\n",
    "- Unit vector: $\\mathbf{u}_1 = \\frac{1}{\\sqrt{10}}(1, 3)$\n",
    "\n",
    "**(b) For $\\mathbf{w} = (2,1,2)$:**\n",
    "- Magnitude: $\\|\\mathbf{w}\\| = \\sqrt{2^2 + 1^2 + 2^2} = \\sqrt{9} = 3$\n",
    "- Unit vector: $\\mathbf{u}_2 = \\frac{1}{3}(2, 1, 2)$\n",
    "\n",
    "**(c) Perpendicular unit vectors:**\n",
    "- In 2D, a vector perpendicular to $(a, b)$ is $(-b, a)$ or $(b, -a)$.\n",
    "  - $\\mathbf{U}_1 = \\frac{1}{\\sqrt{10}}(3, -1)$ or $\\frac{1}{\\sqrt{10}}(-3, 1)$\n",
    "\n",
    "- In 3D, infinitely many vectors are perpendicular to a given vector. One perpendicular to $(2, 1, 2)$ can be found by setting the dot product to zero.\n",
    "  - A simple choice: $\\mathbf{U}_2 = \\frac{1}{\\sqrt{5}}(1, -2, 0)$ (after normalization)"
   ]
  }
 ],
 "metadata": {
  "kernelspec": {
   "display_name": "Python 3 (ipykernel)",
   "language": "python",
   "name": "python3"
  },
  "language_info": {
   "codemirror_mode": {
    "name": "ipython",
    "version": 3
   },
   "file_extension": ".py",
   "mimetype": "text/x-python",
   "name": "python",
   "nbconvert_exporter": "python",
   "pygments_lexer": "ipython3",
   "version": "3.12.6"
  }
 },
 "nbformat": 4,
 "nbformat_minor": 5
}
