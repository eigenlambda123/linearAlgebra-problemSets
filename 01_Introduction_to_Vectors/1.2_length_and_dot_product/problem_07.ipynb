{
 "cells": [
  {
   "cell_type": "markdown",
   "id": "9ccf590d-b317-4de6-a59f-eaccac4755c4",
   "metadata": {},
   "source": [
    "### **Problems**\n",
    "\n",
    "Find the angle $\\theta$ (from its cosine) between these pairs of vectors:\n",
    "\n",
    "**(a)** $\\mathbf{v} = \\begin{bmatrix} 1 \\\\ \\sqrt{3} \\end{bmatrix}$ and $\\mathbf{w} = \\begin{bmatrix} 1 \\\\ 0 \\end{bmatrix}$  \n",
    "**(b)** $\\mathbf{v} = \\begin{bmatrix} 2 \\\\ -1 \\end{bmatrix}$ and $\\mathbf{w} = \\begin{bmatrix} 2 \\\\ -1 \\end{bmatrix}$  \n",
    "**(c)** $\\mathbf{v} = \\begin{bmatrix} 1 \\\\ \\sqrt{3} \\end{bmatrix}$ and $\\mathbf{w} = \\begin{bmatrix} -1 \\\\ \\sqrt{3} \\end{bmatrix}$  \n",
    "**(d)** $\\mathbf{v} = \\begin{bmatrix} 3 \\\\ 1 \\end{bmatrix}$ and $\\mathbf{w} = \\begin{bmatrix} -1 \\\\ -2 \\end{bmatrix}$"
   ]
  },
  {
   "cell_type": "code",
   "execution_count": null,
   "id": "8288b4e2-ece0-4f02-8ff2-19e41de7c0ab",
   "metadata": {},
   "outputs": [],
   "source": []
  }
 ],
 "metadata": {
  "kernelspec": {
   "display_name": "Python 3 (ipykernel)",
   "language": "python",
   "name": "python3"
  },
  "language_info": {
   "codemirror_mode": {
    "name": "ipython",
    "version": 3
   },
   "file_extension": ".py",
   "mimetype": "text/x-python",
   "name": "python",
   "nbconvert_exporter": "python",
   "pygments_lexer": "ipython3",
   "version": "3.12.6"
  }
 },
 "nbformat": 4,
 "nbformat_minor": 5
}
