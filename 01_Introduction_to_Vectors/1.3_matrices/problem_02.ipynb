{
 "cells": [
  {
   "cell_type": "markdown",
   "id": "df029fb2-4586-4955-b8c7-47fe1494ec5b",
   "metadata": {},
   "source": [
    "### **Problems**\n",
    "\n",
    "Solve these equations $S\\mathbf{y} = \\mathbf{b}$ with $\\mathbf{s}_1, \\mathbf{s}_2, \\mathbf{s}_3$ in the columns of $S$:\n",
    "\n",
    "$$\n",
    "\\begin{bmatrix}\n",
    "1 & 0 & 0 \\\\\n",
    "1 & 1 & 0 \\\\\n",
    "1 & 1 & 1\n",
    "\\end{bmatrix}\n",
    "\\begin{bmatrix}\n",
    "y_1 \\\\\n",
    "y_2 \\\\\n",
    "y_3\n",
    "\\end{bmatrix}\n",
    "=\n",
    "\\begin{bmatrix}\n",
    "1 \\\\\n",
    "1 \\\\\n",
    "1\n",
    "\\end{bmatrix}\n",
    "\\quad \\text{and} \\quad \n",
    "\\begin{bmatrix}\n",
    "1 & 0 & 0 \\\\\n",
    "1 & 1 & 0 \\\\\n",
    "1 & 1 & 1\n",
    "\\end{bmatrix}\n",
    "\\begin{bmatrix}\n",
    "y_1 \\\\\n",
    "y_2 \\\\\n",
    "y_3\n",
    "\\end{bmatrix}\n",
    "=\n",
    "\\begin{bmatrix}\n",
    "1 \\\\\n",
    "4 \\\\\n",
    "9\n",
    "\\end{bmatrix}.\n",
    "$$\n",
    "\n",
    "$S$ is a sum matrix. The sum of the first 5 odd numbers is \\_\\_\\_\\_\\_\\_."
   ]
  },
  {
   "cell_type": "code",
   "execution_count": null,
   "id": "82cec1df-75fe-414d-88d8-d08a69b7a8d3",
   "metadata": {},
   "outputs": [],
   "source": []
  }
 ],
 "metadata": {
  "kernelspec": {
   "display_name": "Python 3 (ipykernel)",
   "language": "python",
   "name": "python3"
  },
  "language_info": {
   "codemirror_mode": {
    "name": "ipython",
    "version": 3
   },
   "file_extension": ".py",
   "mimetype": "text/x-python",
   "name": "python",
   "nbconvert_exporter": "python",
   "pygments_lexer": "ipython3",
   "version": "3.12.6"
  }
 },
 "nbformat": 4,
 "nbformat_minor": 5
}
