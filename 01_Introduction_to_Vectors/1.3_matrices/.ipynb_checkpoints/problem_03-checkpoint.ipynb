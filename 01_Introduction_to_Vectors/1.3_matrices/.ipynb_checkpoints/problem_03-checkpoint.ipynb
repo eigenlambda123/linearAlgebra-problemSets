{
 "cells": [
  {
   "cell_type": "markdown",
   "id": "f50ac935-c7e3-4b74-ae8f-acaee6a537e9",
   "metadata": {},
   "source": [
    "### **Problems**\n",
    "\n",
    "Solve these three equations for $y_1, y_2, y_3$ in terms of $c_1, c_2, c_3$:\n",
    "\n",
    "$$\n",
    "S\\mathbf{y} = \\mathbf{c} \\qquad \n",
    "\\begin{bmatrix}\n",
    "1 & 0 & 0 \\\\\n",
    "1 & 1 & 0 \\\\\n",
    "1 & 1 & 1\n",
    "\\end{bmatrix}\n",
    "\\begin{bmatrix}\n",
    "y_1 \\\\\n",
    "y_2 \\\\\n",
    "y_3\n",
    "\\end{bmatrix}\n",
    "=\n",
    "\\begin{bmatrix}\n",
    "c_1 \\\\\n",
    "c_2 \\\\\n",
    "c_3\n",
    "\\end{bmatrix}.\n",
    "$$\n",
    "\n",
    "Write the solution $\\mathbf{y}$ as a matrix $A = S^{-1}$ times the vector $\\mathbf{c}$. Are the columns of $S$ independent or dependent?"
   ]
  },
  {
   "cell_type": "markdown",
   "id": "17529d3c-21b1-4b2a-9b25-5d682edd93f0",
   "metadata": {},
   "source": [
    "---\n",
    "\n",
    "### **Solutions**\n",
    "\n",
    "\n",
    "**(a) Solving the system:**\n",
    "- Row 1: $y_1 = c_1$\n",
    "- Row 2: $y_1 + y_2 = c_2 \\Rightarrow y_2 = c_2 - y_1 = c_2 - c_1$\n",
    "- Row 3: $y_1 + y_2 + y_3 = c_3 \\Rightarrow y_3 = c_3 - y_1 - y_2 = c_3 - c_1 - (c_2 - c_1) = c_3 - c_2$\n",
    "\n",
    "**Solution:**\n",
    "$$\n",
    "\\mathbf{y} = \\begin{bmatrix}\n",
    "y_1 \\\\\n",
    "y_2 \\\\\n",
    "y_3\n",
    "\\end{bmatrix} = \\begin{bmatrix}\n",
    "c_1 \\\\\n",
    "c_2 - c_1 \\\\\n",
    "c_3 - c_2\n",
    "\\end{bmatrix}\n",
    "$$\n",
    "\n",
    "**(b) Matrix form ($A = S^{-1}$):**\n",
    "$$\n",
    "\\mathbf{y} = A\\mathbf{c} = \\begin{bmatrix}\n",
    "1 & 0 & 0 \\\\\n",
    "-1 & 1 & 0 \\\\\n",
    "0 & -1 & 1\n",
    "\\end{bmatrix}\n",
    "\\begin{bmatrix}\n",
    "c_1 \\\\\n",
    "c_2 \\\\\n",
    "c_3\n",
    "\\end{bmatrix}\n",
    "$$\n",
    "\n",
    "**(c) Column independence:** The columns of $S$ are **independent** (they form a basis for $\\mathbb{R}^3$)."
   ]
  }
 ],
 "metadata": {
  "kernelspec": {
   "display_name": "Python 3 (ipykernel)",
   "language": "python",
   "name": "python3"
  },
  "language_info": {
   "codemirror_mode": {
    "name": "ipython",
    "version": 3
   },
   "file_extension": ".py",
   "mimetype": "text/x-python",
   "name": "python",
   "nbconvert_exporter": "python",
   "pygments_lexer": "ipython3",
   "version": "3.12.6"
  }
 },
 "nbformat": 4,
 "nbformat_minor": 5
}
