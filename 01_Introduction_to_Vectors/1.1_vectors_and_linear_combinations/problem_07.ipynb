{
 "cells": [
  {
   "cell_type": "markdown",
   "id": "81707fb4-018c-44a8-bdef-12a8a6218f0c",
   "metadata": {},
   "source": [
    "### **Problems**\n",
    "\n",
    "In the $xy$ plane mark all nine of these linear combinations:\n",
    "\n",
    "$$\n",
    "c\\begin{bmatrix} 2 \\\\ 1 \\end{bmatrix} + d\\begin{bmatrix} 0 \\\\ 1 \\end{bmatrix} \\quad \\text{with} \\quad c = 0,1,2 \\quad \\text{and} \\quad d = 0,1,2.\n",
    "$$"
   ]
  },
  {
   "cell_type": "code",
   "execution_count": null,
   "id": "7a9f1c2d-3d3e-4ee4-82a8-693c3c1ecbb0",
   "metadata": {},
   "outputs": [],
   "source": []
  }
 ],
 "metadata": {
  "kernelspec": {
   "display_name": "Python 3 (ipykernel)",
   "language": "python",
   "name": "python3"
  },
  "language_info": {
   "codemirror_mode": {
    "name": "ipython",
    "version": 3
   },
   "file_extension": ".py",
   "mimetype": "text/x-python",
   "name": "python",
   "nbconvert_exporter": "python",
   "pygments_lexer": "ipython3",
   "version": "3.12.6"
  }
 },
 "nbformat": 4,
 "nbformat_minor": 5
}
