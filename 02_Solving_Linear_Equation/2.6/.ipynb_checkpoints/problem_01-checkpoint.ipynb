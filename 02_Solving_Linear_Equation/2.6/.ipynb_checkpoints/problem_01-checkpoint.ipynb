{
 "cells": [
  {
   "cell_type": "markdown",
   "id": "f161b0c9-4825-40fe-9c4b-67a8defb15dd",
   "metadata": {},
   "source": [
    "### Problems\n",
    "\n",
    "Forward elimination changes the system $A\\mathbf{x} = \\mathbf{b}$ where:\n",
    "$$ A = \\begin{bmatrix} 1 & 1 \\\\ 1 & 2 \\end{bmatrix}, \\quad \\mathbf{b} = \\begin{bmatrix} 5 \\\\ 7 \\end{bmatrix} $$\n",
    "to triangular form $U\\mathbf{x} = \\mathbf{c}$:\n",
    "$$ U = \\begin{bmatrix} 1 & 1 \\\\ 0 & 1 \\end{bmatrix}, \\quad \\mathbf{c} = \\begin{bmatrix} 5 \\\\ 2 \\end{bmatrix} $$\n",
    "\n",
    "The elimination steps are:\n",
    "$$\n",
    "\\begin{aligned}\n",
    "x + y &= 5 \\quad \\text{(unchanged)} \\\\\n",
    "x + 2y &= 7 \\quad \\rightarrow \\quad y = 2 \\quad \\text{(after elimination)}\n",
    "\\end{aligned}\n",
    "$$\n",
    "\n",
    "**Questions:**\n",
    "\n",
    "(a) The elimination subtracted $\\ell_{21} = \\boxed{?}$ times row 1 from row 2.\n",
    "\n",
    "(b) The reverse step uses matrix $L = \\begin{bmatrix} 1 & 0 \\\\ \\boxed{?} & 1 \\end{bmatrix}$.\n",
    "\n",
    "(c) Multiply $L$ times the triangular system:\n",
    "\n",
    "   $$ L \\begin{bmatrix} 1 & 1 \\\\ 0 & 1 \\end{bmatrix} \\begin{bmatrix} x \\\\ y \\end{bmatrix} = L \\begin{bmatrix} 5 \\\\ 2 \\end{bmatrix} \\quad \\text{gives} \\quad \\boxed{?} = \\boxed{?} $$\n",
    "4. Conceptually, $L$ multiplies $U\\mathbf{x} = \\mathbf{c}$ to give $\\boxed{?}$."
   ]
  },
  {
   "cell_type": "markdown",
   "id": "df76b3b8-3fb3-4874-824f-948013bc3c7e",
   "metadata": {},
   "source": [
    "---\n",
    "\n",
    "### Solutions\n",
    "\n",
    "(a) **Elimination multiplier**:\n",
    "   $$ \\ell_{21} = \\boxed{1} $$\n",
    "\n",
    "(b) **Lower triangular matrix**:\n",
    "   $$ L = \\boxed{\\begin{bmatrix} 1 & 0 \\\\ 1 & 1 \\end{bmatrix}} $$\n",
    "\n",
    "(c) **Matrix multiplication**:\n",
    "   $$ \\boxed{\\begin{bmatrix} 1 & 1 \\\\ 1 & 2 \\end{bmatrix} \\begin{bmatrix} x \\\\ y \\end{bmatrix}} = \\boxed{\\begin{bmatrix} 5 \\\\ 7 \\end{bmatrix}} $$\n",
    "\n",
    "(d) **Conceptual relationship**:\n",
    "   $$ \\boxed{A\\mathbf{x} = \\mathbf{b}} $$"
   ]
  }
 ],
 "metadata": {
  "kernelspec": {
   "display_name": "Python 3 (ipykernel)",
   "language": "python",
   "name": "python3"
  },
  "language_info": {
   "codemirror_mode": {
    "name": "ipython",
    "version": 3
   },
   "file_extension": ".py",
   "mimetype": "text/x-python",
   "name": "python",
   "nbconvert_exporter": "python",
   "pygments_lexer": "ipython3",
   "version": "3.12.6"
  }
 },
 "nbformat": 4,
 "nbformat_minor": 5
}
