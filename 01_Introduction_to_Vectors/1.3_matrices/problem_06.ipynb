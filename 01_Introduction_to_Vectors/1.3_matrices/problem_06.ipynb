{
 "cells": [
  {
   "cell_type": "markdown",
   "id": "b771b676-6186-44c0-ad9f-efb8452e267b",
   "metadata": {},
   "source": [
    "### **Problems**\n",
    "\n",
    "Which numbers $c$ give dependent columns so a combination of columns equals zero?\n",
    "\n",
    "$$\n",
    "\\begin{bmatrix}\n",
    "1 & 1 & 0 \\\\\n",
    "3 & 2 & 1 \\\\\n",
    "7 & 4 & c\n",
    "\\end{bmatrix}\n",
    "\\quad\n",
    "\\begin{bmatrix}\n",
    "1 & 0 & c \\\\\n",
    "1 & 1 & 0 \\\\\n",
    "0 & 1 & 1\n",
    "\\end{bmatrix}\n",
    "\\quad\n",
    "\\begin{bmatrix}\n",
    "c & c & c \\\\\n",
    "2 & 1 & 5 \\\\\n",
    "3 & 3 & 6\n",
    "\\end{bmatrix}\n",
    "$$\n",
    "\n",
    "maybe always independent for $c \\neq 0$?"
   ]
  },
  {
   "cell_type": "markdown",
   "id": "96bd3181-6e10-4e48-8513-d89e52bfe14d",
   "metadata": {},
   "source": [
    "---\n",
    "\n",
    "### **Solutions**\n",
    "\n",
    "**Matrix 1:**\n",
    "Find $x,y,z$ such that $x\\begin{bmatrix}1\\\\3\\\\7\\end{bmatrix} + y\\begin{bmatrix}1\\\\2\\\\4\\end{bmatrix} + z\\begin{bmatrix}0\\\\1\\\\c\\end{bmatrix} = \\begin{bmatrix}0\\\\0\\\\0\\end{bmatrix}$\n",
    "\n",
    "From first two rows:\n",
    "- $x + y = 0$ ⇒ $y = -x$\n",
    "- $3x + 2y + z = 0$ ⇒ $3x - 2x + z = 0$ ⇒ $x + z = 0$ ⇒ $z = -x$\n",
    "\n",
    "Third row: $7x + 4y + cz = 0$ ⇒ $7x - 4x - cx = 0$ ⇒ $(3 - c)x = 0$\n",
    "\n",
    "Dependent when $3 - c = 0$ ⇒ **$c = 3$**\n",
    "\n",
    "**Matrix 2:**\n",
    "$x\\begin{bmatrix}1\\\\1\\\\0\\end{bmatrix} + y\\begin{bmatrix}0\\\\1\\\\1\\end{bmatrix} + z\\begin{bmatrix}c\\\\0\\\\1\\end{bmatrix} = \\begin{bmatrix}0\\\\0\\\\0\\end{bmatrix}$\n",
    "\n",
    "From rows:\n",
    "- $x + cz = 0$\n",
    "- $x + y = 0$ ⇒ $y = -x$\n",
    "- $y + z = 0$ ⇒ $-x + z = 0$ ⇒ $z = x$\n",
    "\n",
    "Substitute into first: $x + c(x) = 0$ ⇒ $(1 + c)x = 0$\n",
    "\n",
    "Dependent when $1 + c = 0$ ⇒ **$c = -1$**\n",
    "\n",
    "**Matrix 3:**\n",
    "Columns are dependent for **$c = 0$** (all columns become zero vector)."
   ]
  }
 ],
 "metadata": {
  "kernelspec": {
   "display_name": "Python 3 (ipykernel)",
   "language": "python",
   "name": "python3"
  },
  "language_info": {
   "codemirror_mode": {
    "name": "ipython",
    "version": 3
   },
   "file_extension": ".py",
   "mimetype": "text/x-python",
   "name": "python",
   "nbconvert_exporter": "python",
   "pygments_lexer": "ipython3",
   "version": "3.12.6"
  }
 },
 "nbformat": 4,
 "nbformat_minor": 5
}
