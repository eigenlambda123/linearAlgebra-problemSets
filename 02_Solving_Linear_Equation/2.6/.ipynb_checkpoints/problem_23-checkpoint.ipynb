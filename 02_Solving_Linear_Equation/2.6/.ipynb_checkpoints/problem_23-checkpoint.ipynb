{
 "cells": [
  {
   "cell_type": "markdown",
   "id": "124bab0a-762c-4558-bbdd-611a76c46de8",
   "metadata": {},
   "source": [
    "### Problem\n",
    "**Easy but important.** If matrix $A$ has pivots $5$, $9$, and $3$ (with no row exchanges), what are the pivots for the upper-left $2 \\times 2$ submatrix $A_2$ (obtained by removing row 3 and column 3)?  \n",
    "\n",
    "**Given:**  \n",
    "- Pivots of $A$: $5$, $9$, $3$ (in order).  \n",
    "- No row exchanges performed during elimination.  \n",
    "\n",
    "**Question:**  \n",
    "Find the pivots of the submatrix:  \n",
    "$$\n",
    "A_2 = \\begin{bmatrix} \n",
    "a_{11} & a_{12} \\\\ \n",
    "a_{21} & a_{22} \n",
    "\\end{bmatrix}\n",
    "$$\n",
    " "
   ]
  },
  {
   "cell_type": "markdown",
   "id": "bdb32f20-abb3-4c44-93c2-69403a53031e",
   "metadata": {},
   "source": [
    "\n",
    "---\n",
    "### Solution\n",
    "1. Pivots are the diagonal entries of $U$ in $A = LU$.  \n",
    "2. For a matrix with no row exchanges, the pivots of any leading principal submatrix are the **first $k$ pivots** of the original matrix.  \n",
    "3. Thus, for the $2 \\times 2$ submatrix $A_2$, the pivots are the first two pivots of $A$.  \n",
    "\n",
    "**Final Answer:**  \n",
    "The pivots of $A_2$ are $\\boxed{5}$ and $\\boxed{9}$. "
   ]
  }
 ],
 "metadata": {
  "kernelspec": {
   "display_name": "Python 3 (ipykernel)",
   "language": "python",
   "name": "python3"
  },
  "language_info": {
   "codemirror_mode": {
    "name": "ipython",
    "version": 3
   },
   "file_extension": ".py",
   "mimetype": "text/x-python",
   "name": "python",
   "nbconvert_exporter": "python",
   "pygments_lexer": "ipython3",
   "version": "3.12.6"
  }
 },
 "nbformat": 4,
 "nbformat_minor": 5
}
