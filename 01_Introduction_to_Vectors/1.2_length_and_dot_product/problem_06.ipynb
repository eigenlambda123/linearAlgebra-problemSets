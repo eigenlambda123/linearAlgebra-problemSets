{
 "cells": [
  {
   "cell_type": "markdown",
   "id": "2fb6683e-8702-4366-aad6-a76aefb20ef3",
   "metadata": {},
   "source": [
    "### **Problems**\n",
    "\n",
    "**(a)** Describe every vector $\\mathbf{w} = (w_1, w_2)$ that is perpendicular to $\\mathbf{v} = (2, -1)$.\n",
    "\n",
    "**(b)** All vectors perpendicular to $\\mathbf{V} = (1, 1, 1)$ lie on a \\_\\_\\_\\_\\_\\_ in 3 dimensions.\n",
    "\n",
    "**(c)** The vectors perpendicular to both $(1, 1, 1)$ and $(1, 2, 3)$ lie on a \\_\\_\\_\\_\\_\\_."
   ]
  },
  {
   "cell_type": "code",
   "execution_count": null,
   "id": "bc128202-664f-4384-96e7-019d1688028a",
   "metadata": {},
   "outputs": [],
   "source": []
  }
 ],
 "metadata": {
  "kernelspec": {
   "display_name": "Python 3 (ipykernel)",
   "language": "python",
   "name": "python3"
  },
  "language_info": {
   "codemirror_mode": {
    "name": "ipython",
    "version": 3
   },
   "file_extension": ".py",
   "mimetype": "text/x-python",
   "name": "python",
   "nbconvert_exporter": "python",
   "pygments_lexer": "ipython3",
   "version": "3.12.6"
  }
 },
 "nbformat": 4,
 "nbformat_minor": 5
}
