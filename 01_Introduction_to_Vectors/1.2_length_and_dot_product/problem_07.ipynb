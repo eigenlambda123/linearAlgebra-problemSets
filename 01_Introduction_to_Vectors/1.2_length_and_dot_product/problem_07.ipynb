{
 "cells": [
  {
   "cell_type": "markdown",
   "id": "9ccf590d-b317-4de6-a59f-eaccac4755c4",
   "metadata": {},
   "source": [
    "### **Problems**\n",
    "\n",
    "Find the angle $\\theta$ (from its cosine) between these pairs of vectors:\n",
    "\n",
    "**(a)** $\\mathbf{v} = \\begin{bmatrix} 1 \\\\ \\sqrt{3} \\end{bmatrix}$ and $\\mathbf{w} = \\begin{bmatrix} 1 \\\\ 0 \\end{bmatrix}$  \n",
    "**(b)** $\\mathbf{v} = \\begin{bmatrix} 2 \\\\ 2 \\\\ -1 \\end{bmatrix}$ and $\\mathbf{w} = \\begin{bmatrix} 2 \\\\ -1 \\\\ 2 \\end{bmatrix}$  \n",
    "**(c)** $\\mathbf{v} = \\begin{bmatrix} 1 \\\\ \\sqrt{3} \\end{bmatrix}$ and $\\mathbf{w} = \\begin{bmatrix} -1 \\\\ \\sqrt{3} \\end{bmatrix}$  \n",
    "**(d)** $\\mathbf{v} = \\begin{bmatrix} 3 \\\\ 1 \\end{bmatrix}$ and $\\mathbf{w} = \\begin{bmatrix} -1 \\\\ -2 \\end{bmatrix}$"
   ]
  },
  {
   "cell_type": "markdown",
   "id": "2352a614-d257-4443-8064-1add56043eb3",
   "metadata": {},
   "source": [
    "---\n",
    "\n",
    "### **Solutions**\n",
    "\n",
    "Use the formula: $\\cos\\theta = \\frac{\\mathbf{v} \\cdot \\mathbf{w}}{\\|\\mathbf{v}\\|\\|\\mathbf{w}\\|}$.\n",
    "\n",
    "**(a)**\n",
    "- Dot: $1\\cdot1 + \\sqrt{3}\\cdot0 = 1$\n",
    "- Norms: $\\|\\mathbf{v}\\| = \\sqrt{1+3}=2$, $\\|\\mathbf{w}\\|=1$\n",
    "- $\\cos\\theta = 1/2 \\implies \\theta = 60^\\circ$\n",
    "\n",
    "**(b)**\n",
    "\n",
    "- Dot: $\\mathbf{v} \\cdot \\mathbf{w} = (2)(2) + (2)(-1) + (-1)(2) = 4 - 2 - 2 = 0$\n",
    "- Norms:\n",
    "  - $\\|\\mathbf{v}\\| = \\sqrt{2^2 + 2^2 + (-1)^2} = \\sqrt{4 + 4 + 1} = \\sqrt{9} = 3$\n",
    "  - $\\|\\mathbf{w}\\| = \\sqrt{2^2 + (-1)^2 + 2^2} = \\sqrt{4 + 1 + 4} = \\sqrt{9} = 3$\n",
    "-  $\\cos\\theta = \\frac{0}{3 \\cdot 3} = 0$\n",
    "\n",
    "$\\theta = 90^\\circ$ (The vectors are perpendicular)\n",
    "\n",
    "**(c)**\n",
    "- Dot: $1\\cdot(-1) + \\sqrt{3}\\cdot\\sqrt{3} = -1 + 3 = 2$\n",
    "- Norms: $\\|\\mathbf{v}\\|=2$, $\\|\\mathbf{w}\\|=\\sqrt{1+3}=2$\n",
    "- $\\cos\\theta = 2/4 = 1/2 \\implies \\theta = 60^\\circ$\n",
    "\n",
    "**(d)**\n",
    "- Dot: $3\\cdot(-1) + 1\\cdot(-2) = -3 -2 = -5$\n",
    "- Norms: $\\|\\mathbf{v}\\|=\\sqrt{9+1}=\\sqrt{10}$, $\\|\\mathbf{w}\\|=\\sqrt{1+4}=\\sqrt{5}$\n",
    "- $\\cos\\theta = \\frac{-5}{\\sqrt{10}\\sqrt{5}} = \\frac{-5}{\\sqrt{50}} = -\\frac{5}{5\\sqrt{2}} = -\\frac{1}{\\sqrt{2}}$\n",
    "- $\\theta = 135^\\circ$"
   ]
  }
 ],
 "metadata": {
  "kernelspec": {
   "display_name": "Python 3 (ipykernel)",
   "language": "python",
   "name": "python3"
  },
  "language_info": {
   "codemirror_mode": {
    "name": "ipython",
    "version": 3
   },
   "file_extension": ".py",
   "mimetype": "text/x-python",
   "name": "python",
   "nbconvert_exporter": "python",
   "pygments_lexer": "ipython3",
   "version": "3.12.6"
  }
 },
 "nbformat": 4,
 "nbformat_minor": 5
}
