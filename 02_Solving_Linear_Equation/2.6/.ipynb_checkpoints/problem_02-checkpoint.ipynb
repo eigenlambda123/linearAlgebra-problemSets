{
 "cells": [
  {
   "cell_type": "markdown",
   "id": "4e0ee55b-cca1-4908-9792-889265b0b1db",
   "metadata": {},
   "source": [
    "### Problems\n",
    "From Problem 1, we have:\n",
    "- Lower triangular system: $L\\mathbf{c} = \\mathbf{b}$\n",
    "- Upper triangular system: $U\\mathbf{x} = \\mathbf{c}$\n",
    "\n",
    "**Given:**\n",
    "$$ L = \\begin{bmatrix} 1 & 0 \\\\ 1 & 1 \\end{bmatrix}, \\quad U = \\begin{bmatrix} 1 & 1 \\\\ 0 & 1 \\end{bmatrix}, \\quad \\mathbf{b} = \\begin{bmatrix} 5 \\\\ 7 \\end{bmatrix}, \\quad \\mathbf{c} = \\begin{bmatrix} 5 \\\\ 2 \\end{bmatrix} $$\n",
    "\n",
    "**Tasks:**\n",
    "    \n",
    "(a) Write down both triangular systems explicitly\n",
    "\n",
    "(b) Verify that $\\mathbf{c} = (5,2)$ solves $L\\mathbf{c} = \\mathbf{b}$\n",
    "\n",
    "(c) Find $\\mathbf{x}$ that solves $U\\mathbf{x} = \\mathbf{c}$"
   ]
  },
  {
   "cell_type": "markdown",
   "id": "76a5d5a8-d78b-4360-a3df-6c9d2b7db413",
   "metadata": {},
   "source": [
    "\n",
    "---\n",
    "\n",
    "### Solutions\n",
    "\n",
    "(a) **Triangular Systems:**\n",
    "   $$ L\\mathbf{c} = \\mathbf{b} \\implies \\begin{bmatrix} 1 & 0 \\\\ 1 & 1 \\end{bmatrix} \\begin{bmatrix} c_1 \\\\ c_2 \\end{bmatrix} = \\begin{bmatrix} 5 \\\\ 7 \\end{bmatrix} $$\n",
    "   $$ U\\mathbf{x} = \\mathbf{c} \\implies \\begin{bmatrix} 1 & 1 \\\\ 0 & 1 \\end{bmatrix} \\begin{bmatrix} x \\\\ y \\end{bmatrix} = \\begin{bmatrix} 5 \\\\ 2 \\end{bmatrix} $$\n",
    "\n",
    "(b) **Verify $\\mathbf{c} = (5,2)$ solves $L\\mathbf{c} = \\mathbf{b}$:**\n",
    "   $$ \\begin{bmatrix} 1 & 0 \\\\ 1 & 1 \\end{bmatrix} \\begin{bmatrix} 5 \\\\ 2 \\end{bmatrix} = \\begin{bmatrix} 1(5) + 0(2) \\\\ 1(5) + 1(2) \\end{bmatrix} = \\begin{bmatrix} 5 \\\\ 7 \\end{bmatrix} = \\mathbf{b} \\quad \\checkmark $$\n",
    "\n",
    "(c) **Solve $U\\mathbf{x} = \\mathbf{c}$ for $\\mathbf{x}$:**\n",
    "   From the second row:\n",
    "   $$ 0x + 1y = 2 \\implies y = 2 $$\n",
    "   From the first row:\n",
    "   $$ 1x + 1y = 5 \\implies x + 2 = 5 \\implies x = 3 $$\n",
    "   Thus:\n",
    "   $$ \\mathbf{x} = \\boxed{\\begin{bmatrix} 3 \\\\ 2 \\end{bmatrix}} $$"
   ]
  }
 ],
 "metadata": {
  "kernelspec": {
   "display_name": "Python 3 (ipykernel)",
   "language": "python",
   "name": "python3"
  },
  "language_info": {
   "codemirror_mode": {
    "name": "ipython",
    "version": 3
   },
   "file_extension": ".py",
   "mimetype": "text/x-python",
   "name": "python",
   "nbconvert_exporter": "python",
   "pygments_lexer": "ipython3",
   "version": "3.12.6"
  }
 },
 "nbformat": 4,
 "nbformat_minor": 5
}
