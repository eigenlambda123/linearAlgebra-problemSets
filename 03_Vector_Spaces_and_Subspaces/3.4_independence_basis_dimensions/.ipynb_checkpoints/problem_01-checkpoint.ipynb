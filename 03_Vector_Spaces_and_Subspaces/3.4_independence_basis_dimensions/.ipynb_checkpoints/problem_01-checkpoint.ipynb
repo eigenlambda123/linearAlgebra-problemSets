{
 "cells": [
  {
   "cell_type": "markdown",
   "id": "6eb8f6db-f470-4279-93f5-cc80d4f03cc0",
   "metadata": {},
   "source": [
    "### **Problems**\n",
    "\n",
    "Show that $v_1, v_2, v_3$ are independent but $v_1, v_2, v_3, v_4$ are dependent:\n",
    "\n",
    "$$\n",
    "v_1 = \\begin{bmatrix} 1 \\\\ 0 \\\\ 0 \\end{bmatrix}, \\quad \n",
    "v_2 = \\begin{bmatrix} 1 \\\\ 1 \\\\ 0 \\end{bmatrix}, \\quad \n",
    "v_3 = \\begin{bmatrix} 1 \\\\ 1 \\\\ 1 \\end{bmatrix}, \\quad \n",
    "v_4 = \\begin{bmatrix} 2 \\\\ 3 \\\\ 4 \\end{bmatrix}.\n",
    "$$\n",
    "\n",
    "Solve $c_1 v_1 + c_2 v_2 + c_3 v_3 + c_4 v_4 = 0$ or $Ax = 0$. The $v$'s go in the columns of $A$."
   ]
  },
  {
   "cell_type": "markdown",
   "id": "9b790cf0-277a-479b-a636-003cf752d17d",
   "metadata": {},
   "source": [
    "---\n",
    "\n",
    "### **Solutions**\n",
    "\n",
    "#### **(a)** Show $\\{v_1, v_2, v_3\\}$ are independent\n",
    "\n",
    "**System to solve:**\n",
    "$$\n",
    "c_1\\begin{bmatrix}1\\\\0\\\\0\\end{bmatrix} + c_2\\begin{bmatrix}1\\\\1\\\\0\\end{bmatrix} + c_3\\begin{bmatrix}1\\\\1\\\\1\\end{bmatrix} = \\begin{bmatrix}0\\\\0\\\\0\\end{bmatrix}\n",
    "$$\n",
    "\n",
    "**This gives:**\n",
    "1. $c_1 + c_2 + c_3 = 0$ (first row)\n",
    "2. $c_2 + c_3 = 0$ (second row)\n",
    "3. $c_3 = 0$ (third row)\n",
    "\n",
    "**Solving:**\n",
    "1. From equation 3: $\\boxed{c_3 = 0}$\n",
    "2. Substitute into equation 2: $c_2 + 0 = 0 \\Rightarrow \\boxed{c_2 = 0}$\n",
    "3. Substitute into equation 1: $c_1 + 0 + 0 = 0 \\Rightarrow \\boxed{c_1 = 0}$\n",
    "\n",
    "**Conclusion:** Only solution is $c_1 = c_2 = c_3 = 0$, so the vectors are **linearly independent**.\n",
    "\n",
    "#### **(b)** Show $\\{v_1, v_2, v_3, v_4\\}$ are dependent\n",
    "\n",
    "**System to solve:**\n",
    "$$\n",
    "c_1\\begin{bmatrix}1\\\\0\\\\0\\end{bmatrix} + c_2\\begin{bmatrix}1\\\\1\\\\0\\end{bmatrix} + c_3\\begin{bmatrix}1\\\\1\\\\1\\end{bmatrix} + c_4\\begin{bmatrix}2\\\\3\\\\4\\end{bmatrix} = \\begin{bmatrix}0\\\\0\\\\0\\end{bmatrix}\n",
    "$$\n",
    "\n",
    "**This gives:**\n",
    "1. $c_1 + c_2 + c_3 + 2c_4 = 0$ (first row)\n",
    "2. $c_2 + c_3 + 3c_4 = 0$ (second row)\n",
    "3. $c_3 + 4c_4 = 0$ (third row)\n",
    "\n",
    "**Solving:**\n",
    "1. From equation 3: $c_3 = -4c_4$\n",
    "2. Substitute into equation 2: $c_2 - 4c_4 + 3c_4 = 0 \\Rightarrow c_2 = c_4$\n",
    "3. Substitute into equation 1: $c_1 + c_4 - 4c_4 + 2c_4 = 0 \\Rightarrow c_1 = c_4$\n",
    "\n",
    "**Non-trivial solution:** Let $c_4 = 1$, then:\n",
    "- $c_3 = -4$\n",
    "- $c_2 = 1$\n",
    "- $c_1 = 1$\n",
    "\n",
    "**Verification:**\n",
    "$$\n",
    "1\\begin{bmatrix}1\\\\0\\\\0\\end{bmatrix} + 1\\begin{bmatrix}1\\\\1\\\\0\\end{bmatrix} -4\\begin{bmatrix}1\\\\1\\\\1\\end{bmatrix} + 1\\begin{bmatrix}2\\\\3\\\\4\\end{bmatrix} = \\begin{bmatrix}0\\\\0\\\\0\\end{bmatrix}\n",
    "$$\n",
    "\n",
    "**Conclusion:** Exists non-zero solution ($c_1=1$, $c_2=1$, $c_3=-4$, $c_4=1$), so the vectors are **linearly dependent**.\n"
   ]
  }
 ],
 "metadata": {
  "kernelspec": {
   "display_name": "Python 3 (ipykernel)",
   "language": "python",
   "name": "python3"
  },
  "language_info": {
   "codemirror_mode": {
    "name": "ipython",
    "version": 3
   },
   "file_extension": ".py",
   "mimetype": "text/x-python",
   "name": "python",
   "nbconvert_exporter": "python",
   "pygments_lexer": "ipython3",
   "version": "3.12.6"
  }
 },
 "nbformat": 4,
 "nbformat_minor": 5
}
