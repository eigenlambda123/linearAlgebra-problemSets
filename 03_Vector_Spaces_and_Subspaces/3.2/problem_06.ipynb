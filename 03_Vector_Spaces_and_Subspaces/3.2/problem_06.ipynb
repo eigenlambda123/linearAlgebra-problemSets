{
 "cells": [
  {
   "cell_type": "markdown",
   "id": "f992e2b5-2ad4-46d5-acd8-bd3a3a877915",
   "metadata": {},
   "source": [
    "### **Problems**\n",
    "\n",
    "#### Part (a)\n",
    "Construct a 4×7 echelon matrix with pivots in columns 2, 4, 5, containing as many 1's as possible.\n",
    "\n",
    "#### Part (b)\n",
    "Construct a 4×7 echelon matrix with pivots in columns 1, 3, 6, 7, containing as many 1's as possible.\n",
    "\n",
    "#### Part (c)\n",
    "Construct a 4×7 echelon matrix with pivots in columns 4 and 6, containing as many 1's as possible."
   ]
  },
  {
   "cell_type": "markdown",
   "id": "96f44b0b-1122-4f52-8b8c-64f561ac8e2c",
   "metadata": {},
   "source": [
    "---\n",
    "### **Solutions**\n",
    "\n",
    "#### Part (a)\n",
    "**Pivot Columns**: 2, 4, 5  \n",
    "**Matrix**:\n",
    "$$\n",
    "U = \\begin{bmatrix} \n",
    "0 & \\boxed{1} & 1 & 1 & 1 & 1 & 1 \\\\ \n",
    "0 & 0 & 0 & \\boxed{1} & 1 & 1 & 1 \\\\ \n",
    "0 & 0 & 0 & 0 & \\boxed{1} & 1 & 1 \\\\ \n",
    "0 & 0 & 0 & 0 & 0 & 0 & 0 \n",
    "\\end{bmatrix}\n",
    "$$\n",
    "**Total 1's**: 13 (3 pivot + 10 non-pivot)\n",
    "\n",
    "\n",
    "#### Part (b)\n",
    "**Pivot Columns**: 1, 3, 6, 7  \n",
    "**Matrix**:\n",
    "$$\n",
    "U = \\begin{bmatrix} \n",
    "\\boxed{1} & 1 & 1 & 1 & 1 & 1 & 1 \\\\ \n",
    "0 & 0 & \\boxed{1} & 1 & 1 & 1 & 1 \\\\ \n",
    "0 & 0 & 0 & 0 & 0 & \\boxed{1} & 1 \\\\ \n",
    "0 & 0 & 0 & 0 & 0 & 0 & \\boxed{1} \n",
    "\\end{bmatrix}\n",
    "$$\n",
    "**Total 1's**: 16 (4 pivot + 12 non-pivot)\n",
    "\n",
    "\n",
    "#### Part (c)\n",
    "**Pivot Columns**: 4, 6  \n",
    "**Matrix**:\n",
    "$$\n",
    "U = \\begin{bmatrix} \n",
    "0 & 0 & 0 & \\boxed{1} & 1 & 1 & 1 \\\\ \n",
    "0 & 0 & 0 & 0 & 0 & \\boxed{1} & 1 \\\\ \n",
    "0 & 0 & 0 & 0 & 0 & 0 & 0 \\\\ \n",
    "0 & 0 & 0 & 0 & 0 & 0 & 0 \n",
    "\\end{bmatrix}\n",
    "$$\n",
    "**Total 1's**: 6 (2 pivot + 4 non-pivot)\n",
    "\n",
    "### Construction Rules:\n",
    "1. Pivots (boxed) must be 1's\n",
    "2. Additional 1's can be placed:\n",
    "   - Right of pivots in the same row\n",
    "   - Below pivots in the same column\n",
    "3. All entries left of pivots must be zero"
   ]
  }
 ],
 "metadata": {
  "kernelspec": {
   "display_name": "Python 3 (ipykernel)",
   "language": "python",
   "name": "python3"
  },
  "language_info": {
   "codemirror_mode": {
    "name": "ipython",
    "version": 3
   },
   "file_extension": ".py",
   "mimetype": "text/x-python",
   "name": "python",
   "nbconvert_exporter": "python",
   "pygments_lexer": "ipython3",
   "version": "3.12.6"
  }
 },
 "nbformat": 4,
 "nbformat_minor": 5
}
