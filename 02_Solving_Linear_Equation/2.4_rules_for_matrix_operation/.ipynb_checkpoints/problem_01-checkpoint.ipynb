{
 "cells": [
  {
   "cell_type": "markdown",
   "id": "1d334ccd-343d-4fea-866b-024fc6c4436e",
   "metadata": {},
   "source": [
    "### **Problem**\n",
    "\n",
    "Let the matrices be defined as:\n",
    "\n",
    "* \\$A\\$: \\$3 \\times 5\\$\n",
    "* \\$B\\$: \\$5 \\times 3\\$\n",
    "* \\$C\\$: \\$5 \\times 1\\$\n",
    "* \\$D\\$: \\$3 \\times 1\\$\n",
    "\n",
    "All entries are 1.\n",
    "\n",
    "Determine which of the following matrix operations are **valid** (i.e., dimensions are compatible), and if valid, state the resulting **matrix size**."
   ]
  },
  {
   "cell_type": "markdown",
   "id": "73af1a14-977a-443c-a975-07e70f4e418e",
   "metadata": {},
   "source": [
    "---"
   ]
  },
  {
   "cell_type": "markdown",
   "id": "6027f3ad-9b95-40ef-a962-d91c3eef7115",
   "metadata": {},
   "source": [
    "### **Solutions**\n",
    "\n",
    "### **(a) \\$BA\\$ → \\$5 \\times 5\\$**\n",
    "\n",
    "Each entry in the result is the dot product of a \\$1 \\times 3\\$ row of \\$B\\$ with a \\$3 \\times 1\\$ column of \\$A\\$:\n",
    "Since each entry is 1: \\$1 \\cdot 1 + 1 \\cdot 1 + 1 \\cdot 1 = 3\\$\n",
    "\n",
    "So the resulting matrix is:\n",
    "\n",
    "$$\n",
    "BA = \\begin{bmatrix}\n",
    "3 & 3 & 3 & 3 & 3 \\\\\n",
    "3 & 3 & 3 & 3 & 3 \\\\\n",
    "3 & 3 & 3 & 3 & 3 \\\\\n",
    "3 & 3 & 3 & 3 & 3 \\\\\n",
    "3 & 3 & 3 & 3 & 3 \\\\\n",
    "\\end{bmatrix}\n",
    "$$\n",
    "\n",
    "### **(b) \\$AB\\$ → \\$3 \\times 3\\$**\n",
    "\n",
    "Each entry is the dot product of a \\$1 \\times 5\\$ row of \\$A\\$ with a \\$5 \\times 1\\$ column of \\$B\\$:\n",
    "\\$1 \\cdot 1 + 1 \\cdot 1 + 1 \\cdot 1 + 1 \\cdot 1 + 1 \\cdot 1 = 5\\$\n",
    "\n",
    "$$\n",
    "AB = \\begin{bmatrix}\n",
    "5 & 5 & 5 \\\\\n",
    "5 & 5 & 5 \\\\\n",
    "5 & 5 & 5 \\\\\n",
    "\\end{bmatrix}\n",
    "$$\n",
    "\n",
    "\n",
    "### **(c) \\$ABD\\$ → \\$3 \\times 1\\$**\n",
    "\n",
    "We already know:\n",
    "\n",
    "* \\$AB\\$ is a \\$3 \\times 3\\$ matrix of all 5s\n",
    "* \\$D\\$ is a \\$3 \\times 1\\$ matrix of all 1s\n",
    "\n",
    "Each entry in \\$ABD\\$ is the dot product of a \\$1 \\times 3\\$ row of \\$AB\\$ with \\$D\\$:\n",
    "\\$5 \\cdot 1 + 5 \\cdot 1 + 5 \\cdot 1 = 15\\$\n",
    "\n",
    "$$\n",
    "ABD = \\begin{bmatrix}\n",
    "15 \\\\\n",
    "15 \\\\\n",
    "15 \\\\\n",
    "\\end{bmatrix}\n",
    "$$\n",
    "\n",
    "\n",
    "### **(d) \\$DC\\$** → **Invalid**\n",
    "\n",
    "* \\$D\\$: \\$3 \\times 1\\$\n",
    "* \\$C\\$: \\$5 \\times 1\\$\n",
    "  Cannot multiply: inner dimensions don't match (\\$1 \\ne 5\\$)\n",
    "\n",
    "\n",
    "### **(e) \\$A(B + C)\\$** → **Invalid**\n",
    "\n",
    "* \\$B\\$: \\$5 \\times 3\\$\n",
    "* \\$C\\$: \\$5 \\times 1\\$\n",
    "  Cannot add matrices of different shapes."
   ]
  },
  {
   "cell_type": "markdown",
   "id": "7b6ada8c-9e44-4c1a-8524-05d3b645c4b9",
   "metadata": {},
   "source": [
    "---\n",
    "\n",
    "### **Final Answer Summary**\n",
    "\n",
    "| Operation  | Allowed? | Dimensions     | Result            |\n",
    "| ---------- | -------- | -------------- | ----------------- |\n",
    "| \\$BA\\$     | ✅        | \\$5 \\times 5\\$ | Matrix of all 3s  |\n",
    "| \\$AB\\$     | ✅        | \\$3 \\times 3\\$ | Matrix of all 5s  |\n",
    "| \\$ABD\\$    | ✅        | \\$3 \\times 1\\$ | Matrix of all 15s |\n",
    "| \\$DC\\$     | ❌        | —              | Not allowed       |\n",
    "| \\$A(B+C)\\$ | ❌        | —              | Not allowed       |"
   ]
  }
 ],
 "metadata": {
  "kernelspec": {
   "display_name": "Python 3 (ipykernel)",
   "language": "python",
   "name": "python3"
  },
  "language_info": {
   "codemirror_mode": {
    "name": "ipython",
    "version": 3
   },
   "file_extension": ".py",
   "mimetype": "text/x-python",
   "name": "python",
   "nbconvert_exporter": "python",
   "pygments_lexer": "ipython3",
   "version": "3.12.6"
  }
 },
 "nbformat": 4,
 "nbformat_minor": 5
}
