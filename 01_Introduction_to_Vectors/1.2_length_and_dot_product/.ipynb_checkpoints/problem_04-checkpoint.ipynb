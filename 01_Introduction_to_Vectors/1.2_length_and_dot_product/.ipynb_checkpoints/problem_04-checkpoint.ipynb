{
 "cells": [
  {
   "cell_type": "markdown",
   "id": "6f213205-b15e-4f0c-80b5-76b21dc7646d",
   "metadata": {},
   "source": [
    "### **Problems**\n",
    "\n",
    "For any unit vectors $\\mathbf{v}$ and $\\mathbf{w}$, find the dot products (actual numbers) of\n",
    "\n",
    "**(a)** $\\mathbf{v}$ and $-\\mathbf{v}$  \n",
    "**(b)** $\\mathbf{v} + \\mathbf{w}$ and $\\mathbf{v} - \\mathbf{w}$  \n",
    "**(c)** $\\mathbf{v} - 2\\mathbf{w}$ and $\\mathbf{v} + 2\\mathbf{w}$"
   ]
  },
  {
   "cell_type": "markdown",
   "id": "c207ddc6-26d7-4482-8607-696c4447e01a",
   "metadata": {},
   "source": [
    "---\n",
    "\n",
    "### **Solutions**\n",
    "\n",
    "We use the properties of the dot product: $\\mathbf{a} \\cdot \\mathbf{b} = \\|\\mathbf{a}\\|\\|\\mathbf{b}\\|\\cos\\theta$ and linearity. Since $\\mathbf{v}$ and $\\mathbf{w}$ are unit vectors, $\\mathbf{v} \\cdot \\mathbf{v} = 1$ and $\\mathbf{w} \\cdot \\mathbf{w} = 1$.\n",
    "\n",
    "**(a)** $\\mathbf{v} \\cdot (-\\mathbf{v})$\n",
    "$= -(\\mathbf{v} \\cdot \\mathbf{v}) = -(1) = \\boxed{-1}$\n",
    "\n",
    "**(b)** $(\\mathbf{v} + \\mathbf{w}) \\cdot (\\mathbf{v} - \\mathbf{w})$\n",
    "$= \\mathbf{v} \\cdot \\mathbf{v} - \\mathbf{v} \\cdot \\mathbf{w} + \\mathbf{w} \\cdot \\mathbf{v} - \\mathbf{w} \\cdot \\mathbf{w}$\n",
    "$= 1 - \\mathbf{v} \\cdot \\mathbf{w} + \\mathbf{v} \\cdot \\mathbf{w} - 1 = \\boxed{0}$\n",
    "\n",
    "**(c)** $(\\mathbf{v} - 2\\mathbf{w}) \\cdot (\\mathbf{v} + 2\\mathbf{w})$\n",
    "$= \\mathbf{v} \\cdot \\mathbf{v} + 2\\mathbf{v} \\cdot \\mathbf{w} - 2\\mathbf{w} \\cdot \\mathbf{v} - 4\\mathbf{w} \\cdot \\mathbf{w}$\n",
    "$= 1 + 2\\mathbf{v} \\cdot \\mathbf{w} - 2\\mathbf{v} \\cdot \\mathbf{w} - 4(1) = \\boxed{-3}$"
   ]
  }
 ],
 "metadata": {
  "kernelspec": {
   "display_name": "Python 3 (ipykernel)",
   "language": "python",
   "name": "python3"
  },
  "language_info": {
   "codemirror_mode": {
    "name": "ipython",
    "version": 3
   },
   "file_extension": ".py",
   "mimetype": "text/x-python",
   "name": "python",
   "nbconvert_exporter": "python",
   "pygments_lexer": "ipython3",
   "version": "3.12.6"
  }
 },
 "nbformat": 4,
 "nbformat_minor": 5
}
