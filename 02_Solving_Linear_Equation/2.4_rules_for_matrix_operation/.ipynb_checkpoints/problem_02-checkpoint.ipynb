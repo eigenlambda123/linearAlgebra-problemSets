{
 "cells": [
  {
   "cell_type": "markdown",
   "id": "0f0176ef-aa12-47b4-b7c3-557c02fb106c",
   "metadata": {},
   "source": [
    "### **Problem 2**\n",
    "\n",
    "Given matrices and standard matrix multiplication rules, identify **what rows, columns, or matrices** you use to compute the following:\n",
    "\n",
    "- (a) the second column of AB?\n",
    "- (b) the first row of AB?\n",
    "- (c) the entry in row 3, column 5 of AB?\n",
    "- (d) the entry in row 1, column 1 of CDE?"
   ]
  },
  {
   "cell_type": "markdown",
   "id": "d9d2445c-db0d-4916-b662-69c7a53fc109",
   "metadata": {},
   "source": [
    "---\n",
    "### **Solutions**\n",
    "\n",
    "### **(a)** The **second column** of \\$AB\\$\n",
    "\n",
    "> Multiply **matrix A** by the **second column of B**\n",
    "\n",
    "* Explanation: To get column *j* of a product \\$AB\\$, multiply \\$A\\$ by column *j* of \\$B\\$.\n",
    "\n",
    "\n",
    "### **(b)** The **first row** of \\$AB\\$\n",
    "\n",
    "> Multiply the **first row of A** by **matrix B**\n",
    "\n",
    "* Explanation: To get row *i* of \\$AB\\$, multiply row *i* of \\$A\\$ (as a 1×n vector) by the full matrix \\$B\\$.\n",
    "\n",
    "\n",
    "### **(c)** The **entry in row 3, column 5** of \\$AB\\$\n",
    "\n",
    "> Take **row 3 of A** and **column 5 of B**, compute their **dot product**\n",
    "\n",
    "* Explanation: The \\$(i, j)\\$ entry of \\$AB\\$ is the dot product of row *i* of \\$A\\$ and column *j* of \\$B\\$.\n",
    "\n",
    "\n",
    "### **(d)** The **entry in row 1, column 1** of \\$CDE\\$\n",
    "\n",
    "> Take **row 1 of C**, multiply with **matrix D**, then multiply result with **column 1 of E**\n",
    "\n",
    "* More precisely:\n",
    "\n",
    "  * First: Compute \\$CD\\$\n",
    "  * Then: Use **row 1 of \\$CD\\$** and **column 1 of \\$E\\$**, take dot product\n",
    "\n",
    "* Alternative view (associativity): Compute \\$(CD)E\\$, and look at entry (1,1)"
   ]
  },
  {
   "cell_type": "markdown",
   "id": "a1e43204-3556-46ee-a988-39dddca63706",
   "metadata": {},
   "source": [
    "---\n",
    "\n",
    "### **Final Answers Summary**\n",
    "\n",
    "| Part | What to Multiply                                   | Type of Operation       |\n",
    "| ---- | -------------------------------------------------- | ----------------------- |\n",
    "| (a)  | \\$A \\cdot\\$ (2nd column of \\$B\\$)                  | Matrix × Column Vector  |\n",
    "| (b)  | (1st row of \\$A\\$) \\$\\cdot B\\$                     | Row Vector × Matrix     |\n",
    "| (c)  | (3rd row of \\$A\\$) \\$\\cdot\\$ (5th column of \\$B\\$) | Dot Product             |\n",
    "| (d)  | Row 1 of \\$(CD)\\$ \\$\\cdot\\$ Column 1 of \\$E\\$      | Dot Product after mult. |"
   ]
  }
 ],
 "metadata": {
  "kernelspec": {
   "display_name": "Python 3 (ipykernel)",
   "language": "python",
   "name": "python3"
  },
  "language_info": {
   "codemirror_mode": {
    "name": "ipython",
    "version": 3
   },
   "file_extension": ".py",
   "mimetype": "text/x-python",
   "name": "python",
   "nbconvert_exporter": "python",
   "pygments_lexer": "ipython3",
   "version": "3.12.6"
  }
 },
 "nbformat": 4,
 "nbformat_minor": 5
}
