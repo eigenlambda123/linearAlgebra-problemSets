{
 "cells": [
  {
   "cell_type": "markdown",
   "id": "96c5f260-121b-4ca2-8816-2f9add3fcd3a",
   "metadata": {},
   "source": [
    "### **Problems**\n",
    "Every combination of $\\mathbf{v} = (1, -2, 1)$ and $\\mathbf{w} = (0, 1, -1)$ has components that add to \\_\\_\\_\\_\\_.\n",
    "\n",
    "Find $c$ and $d$ so that $c\\mathbf{v} + d\\mathbf{w} = (3, 3, -6)$. Why is $(3, 3, 6)$ impossible?"
   ]
  },
  {
   "cell_type": "markdown",
   "id": "360de507-0bce-4030-a6c5-2b1630bd2a51",
   "metadata": {},
   "source": [
    "---\n",
    "\n",
    "### **Solution**\n",
    "\n",
    "#### **(a) The Sum of the Components**\n",
    "\n",
    "Every combination of $\\mathbf{v} = (1, -2, 1)$ and $\\mathbf{w} = (0, 1, -1)$ has components that add to **0**.\n",
    "\n",
    "**Reasoning:**\n",
    "Let's consider a general linear combination: $c\\mathbf{v} + d\\mathbf{w}$.\n",
    "1. Calculate the vector: $c(1, -2, 1) + d(0, 1, -1) = (c, -2c, c) + (0, d, -d) = (c, -2c+d, c-d)$.\n",
    "2. Now, sum the three components of the resulting vector: $c + (-2c + d) + (c - d)$.\n",
    "3. Simplify the sum: $c - 2c + d + c - d = 0$.\n",
    "\n",
    "No matter what values of $c$ and $d$ you choose, the sum of the components will always be zero. This is a property of the subspace formed by $\\mathbf{v}$ and $\\mathbf{w}$.\n",
    "\n",
    "\n",
    "#### **(b) Finding $c$ and $d$**\n",
    "\n",
    "We need to find $c$ and $d$ such that:\n",
    "$c\\mathbf{v} + d\\mathbf{w} = (3, 3, -6)$\n",
    "\n",
    "Set up the equation based on the components:\n",
    "$c(1, -2, 1) + d(0, 1, -1) = (3, 3, -6)$\n",
    "\n",
    "This gives us a system of equations:\n",
    "1. $c = 3$\n",
    "2. $-2c + d = 3$\n",
    "3. $c - d = -6$\n",
    "\n",
    "Substitute $c = 3$ from equation (1) into equation (2):\n",
    "$-2(3) + d = 3$\n",
    "$-6 + d = 3$\n",
    "$d = 9$\n",
    "\n",
    "Now, check if these values satisfy equation (3):\n",
    "$c - d = 3 - 9 = -6$. This matches.\n",
    "\n",
    "**Answer:** $c = 3$, $d = 9$.\n",
    "\n",
    "\n",
    "#### **(c) Why is $(3, 3, 6)$ impossible?**\n",
    "\n",
    "From Part 1, we concluded that **every** linear combination of $\\mathbf{v}$ and $\\mathbf{w}$ must have components that sum to zero.\n",
    "\n",
    "Let's check the sum of the components for the vector $(3, 3, 6)$:\n",
    "$3 + 3 + 6 = 12$.\n",
    "\n",
    "Since $12 \\neq 0$, the vector $(3, 3, 6)$ lies outside the subspace (the plane of all possible linear combinations) spanned by $\\mathbf{v}$ and $\\mathbf{w}$. Therefore, there are no scalars $c$ and $d$ that can produce it. It is impossible."
   ]
  }
 ],
 "metadata": {
  "kernelspec": {
   "display_name": "Python 3 (ipykernel)",
   "language": "python",
   "name": "python3"
  },
  "language_info": {
   "codemirror_mode": {
    "name": "ipython",
    "version": 3
   },
   "file_extension": ".py",
   "mimetype": "text/x-python",
   "name": "python",
   "nbconvert_exporter": "python",
   "pygments_lexer": "ipython3",
   "version": "3.12.6"
  }
 },
 "nbformat": 4,
 "nbformat_minor": 5
}
