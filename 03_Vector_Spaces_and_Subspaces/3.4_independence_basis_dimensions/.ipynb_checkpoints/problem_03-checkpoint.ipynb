{
 "cells": [
  {
   "cell_type": "markdown",
   "id": "4ad32834-d54b-4031-a378-36f542b6fa1c",
   "metadata": {},
   "source": [
    "### **Problems**\n",
    "\n",
    "3. Prove that if $a = 0$ or $d = 0$ or $f = 0$ (3 cases), the columns of $U$ are dependent:\n",
    "\n",
    "$$\n",
    "U = \\begin{bmatrix}\n",
    "a & b & c \\\\\n",
    "0 & d & e \\\\\n",
    "0 & 0 & f\n",
    "\\end{bmatrix}\n",
    "$$"
   ]
  },
  {
   "cell_type": "markdown",
   "id": "e33f704a-1d31-4470-ab47-ab6d9deed55f",
   "metadata": {},
   "source": [
    "---\n",
    "\n",
    "### **Solutions**\n",
    "\n",
    "**Given matrix:**\n",
    "$$ U = \\begin{bmatrix}\n",
    "a & b & c \\\\\n",
    "0 & d & e \\\\\n",
    "0 & 0 & f\n",
    "\\end{bmatrix} $$\n",
    "\n",
    "#### **When $a = 0$**\n",
    "The first column becomes the zero vector:\n",
    "$$ \\text{Col}_1 = \\begin{bmatrix}0\\\\0\\\\0\\end{bmatrix} $$\n",
    "\n",
    "- The zero vector makes any set linearly dependent\n",
    "- Therefore, columns are dependent when $a=0$\n",
    "\n",
    "#### **When $d = 0$**\n",
    "The matrix reduces to:\n",
    "$$ U = \\begin{bmatrix}\n",
    "a & b & c \\\\\n",
    "0 & 0 & e \\\\\n",
    "0 & 0 & f\n",
    "\\end{bmatrix} $$\n",
    "\n",
    "- Column 2 = $\\frac{b}{a}$·Column 1 + 0·Column 3\n",
    "- Explicit linear dependence exists\n",
    "- Columns are dependent when $d=0$\n",
    "\n",
    "#### **When $f = 0$**\n",
    "The matrix becomes:\n",
    "$$ U = \\begin{bmatrix}\n",
    "a & b & c \\\\\n",
    "0 & d & e \\\\\n",
    "0 & 0 & 0\n",
    "\\end{bmatrix} $$\n",
    "\n",
    "- The third row is entirely zeros\n",
    "- Maximum rank is 2 < 3 columns\n",
    "- Columns must be dependent when $f=0$\n",
    "\n",
    "#### Unified Proof via Determinant\n",
    "For upper triangular $U$:\n",
    "$$ \\det(U) = a\\cdot d\\cdot f $$\n",
    "\n",
    "- $\\det(U) = 0$ when any diagonal entry is zero\n",
    "- $\\det(U) = 0$ ⇔ columns are dependent\n",
    "- Therefore columns are dependent if $a=0$ or $d=0$ or $f=0$\n",
    "\n",
    "**Conclusion:** In all specified cases, the columns of $U$ are linearly dependent."
   ]
  }
 ],
 "metadata": {
  "kernelspec": {
   "display_name": "Python 3 (ipykernel)",
   "language": "python",
   "name": "python3"
  },
  "language_info": {
   "codemirror_mode": {
    "name": "ipython",
    "version": 3
   },
   "file_extension": ".py",
   "mimetype": "text/x-python",
   "name": "python",
   "nbconvert_exporter": "python",
   "pygments_lexer": "ipython3",
   "version": "3.12.6"
  }
 },
 "nbformat": 4,
 "nbformat_minor": 5
}
