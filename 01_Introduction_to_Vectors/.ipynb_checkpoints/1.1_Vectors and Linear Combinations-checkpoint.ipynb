{
 "cells": [
  {
   "cell_type": "markdown",
   "id": "cae3410e-e768-49a0-88cb-4f9bda6add15",
   "metadata": {},
   "source": [
    "# Problem Reflection"
   ]
  },
  {
   "cell_type": "markdown",
   "id": "eef8e89c-e648-44d6-b70f-c348def2a996",
   "metadata": {},
   "source": [
    "### Problem 1.1 (*Finding Unknowns*)\n",
    "\n",
    "**Problem Statement 1:**\n",
    "\n",
    "![Problem 1.1 Finding Unknowns](images/1.1%20Finding%20Unknowns.png)\n",
    "\n",
    "\n",
    "**Initial Approach:**\n",
    "\n",
    "* I started by adding vectors **u**, **v**, and **w** together.\n",
    "* For the first question, the answer is actually provided. I noticed **w** lies in the plane spanned by **u** and **v**, since **w = u + v**.\n",
    "* For the second question, I needed to find scalars **c** and **d** such that **cu + dv = w**.\n",
    "* I tried various integer combinations mentally and found that **c = -1** and **d = -1** satisfy the equation.\n",
    "\n",
    "**Final Answer:**\n",
    "\n",
    "* First Problem: **w** lies in the span of **u** and **v**, specifically **w = u + v**.\n",
    "* Second Problem: **c = -1**, **d = -1**.\n",
    "\n",
    "**Topic/Idea:**\n",
    "\n",
    "* Vector Addition\n",
    "* Span of Vectors\n",
    "* Vector Dependence and Independence\n",
    "* Geometric Interpretation of Vectors (plane in 3D space)"
   ]
  },
  {
   "cell_type": "markdown",
   "id": "0b9c4062-25a0-412d-a541-88dcf8fda2dd",
   "metadata": {},
   "source": [
    "---"
   ]
  },
  {
   "cell_type": "markdown",
   "id": "ecd40348-e411-44c9-89be-fc49a86cac8e",
   "metadata": {},
   "source": [
    "### Problem 1.1 (*Finding Unknowns V2*)\n",
    "\n",
    "**Problem Statement 2:**\n",
    "\n",
    "![Problem 1.1 Finding Unknowns](images/1.1%20Finding%20Unknowns%20(Independence).png)\n",
    "\n",
    "**Initial Approach:**\n",
    "\n",
    "* The first problem is straightforward: vectors **v** and **w** span the space if they are independent.\n",
    "* Knowing independence is key to covering the entire space, so the answer involves choosing vectors forming a basis.\n",
    "* I concluded the answer to be the standard basis vectors in $\\mathbb{R}^4$:\n",
    "\n",
    "$$\n",
    "\\mathbf{u} = (1, 0, 0, 0), \\quad\n",
    "\\mathbf{v} = (0, 1, 0, 0), \\quad\n",
    "\\mathbf{w} = (0, 0, 1, 0), \\quad\n",
    "\\mathbf{z} = (0, 0, 0, 1)\n",
    "$$\n",
    "\n",
    "**Final Answer:**\n",
    "\n",
    "* First Problem: **v** and **w** span the space if independent.\n",
    "* Second Problem: Standard basis vectors in $\\mathbb{R}^4$:\n",
    "\n",
    "$$\n",
    "\\mathbf{u} = (1, 0, 0, 0), \\quad\n",
    "\\mathbf{v} = (0, 1, 0, 0), \\quad\n",
    "\\mathbf{w} = (0, 0, 1, 0), \\quad\n",
    "\\mathbf{z} = (0, 0, 0, 1)\n",
    "$$\n",
    "\n",
    "**Topic/Idea:**\n",
    "\n",
    "* Linear Combinations  \n",
    "* Linear Independence  \n",
    "* Span of Vectors  "
   ]
  }
 ],
 "metadata": {
  "kernelspec": {
   "display_name": "Python 3 (ipykernel)",
   "language": "python",
   "name": "python3"
  },
  "language_info": {
   "codemirror_mode": {
    "name": "ipython",
    "version": 3
   },
   "file_extension": ".py",
   "mimetype": "text/x-python",
   "name": "python",
   "nbconvert_exporter": "python",
   "pygments_lexer": "ipython3",
   "version": "3.12.6"
  }
 },
 "nbformat": 4,
 "nbformat_minor": 5
}
