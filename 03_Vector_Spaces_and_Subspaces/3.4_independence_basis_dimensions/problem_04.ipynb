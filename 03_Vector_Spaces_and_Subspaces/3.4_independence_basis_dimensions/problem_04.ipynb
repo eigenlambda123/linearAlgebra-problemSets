{
 "cells": [
  {
   "cell_type": "markdown",
   "id": "b743002f-3400-47d5-9a8f-1a5b861f4595",
   "metadata": {},
   "source": [
    "### **Problems**\n",
    "\n",
    "**Given:**  \n",
    "If $a$, $d$, $f$ in Question 3 are all nonzero, show that the only solution to $Ux = 0$ is $x = 0$. Then the upper triangular matrix $U$ has independent columns.\n",
    "\n",
    "**Matrix from Question 3:**\n",
    "$$\n",
    "U = \\begin{bmatrix}\n",
    "a & b & c \\\\\n",
    "0 & d & e \\\\\n",
    "0 & 0 & f\n",
    "\\end{bmatrix}\n",
    "$$\n",
    "\n",
    "**To Prove:**  \n",
    "1. The homogeneous system $Ux = 0$ has only the trivial solution $x = 0$ when $a, d, f \\neq 0$.  \n",
    "2. Conclude that the columns of $U$ are linearly independent."
   ]
  },
  {
   "cell_type": "markdown",
   "id": "68bbc109-d336-4856-b4c7-24036fcb7fd8",
   "metadata": {},
   "source": [
    "--- \n",
    "\n",
    "### **Solutions**\n",
    "\n",
    "**Given:**  \n",
    "$$ U = \\begin{bmatrix}\n",
    "a & b & c \\\\\n",
    "0 & d & e \\\\\n",
    "0 & 0 & f\n",
    "\\end{bmatrix} \\quad \\text{with } a, d, f \\neq 0 $$\n",
    "\n",
    "**To prove:**  \n",
    "The only solution to $Ux = 0$ is $x = 0$, implying the columns are linearly independent.\n",
    "\n",
    "#### **Set up the system $Ux = 0$**\n",
    "For $x = \\begin{bmatrix}x_1 \\\\ x_2 \\\\ x_3\\end{bmatrix}$:\n",
    "$$\n",
    "\\begin{cases}\n",
    "a x_1 + b x_2 + c x_3 = 0 \\quad \\text{(Row 1)} \\\\\n",
    "d x_2 + e x_3 = 0 \\quad \\text{(Row 2)} \\\\\n",
    "f x_3 = 0 \\quad \\text{(Row 3)}\n",
    "\\end{cases}\n",
    "$$\n",
    "\n",
    "#### **Solve for $x_3$ (Row 3)**\n",
    "$$ f x_3 = 0 \\implies x_3 = 0 \\quad \\text{(since } f \\neq 0\\text{)} $$\n",
    "\n",
    "#### **Solve for $x_2$ (Row 2)**\n",
    "Substitute $x_3 = 0$ into Row 2:\n",
    "$$ d x_2 = 0 \\implies x_2 = 0 \\quad \\text{(since } d \\neq 0\\text{)} $$\n",
    "\n",
    "#### **Solve for $x_1$ (Row 1)**\n",
    "Substitute $x_2 = x_3 = 0$ into Row 1:\n",
    "$$ a x_1 = 0 \\implies x_1 = 0 \\quad \\text{(since } a \\neq 0\\text{)} $$\n",
    "\n",
    "#### **Conclusion**\n",
    "The only solution is the trivial solution:\n",
    "$$ x = \\begin{bmatrix}0 \\\\ 0 \\\\ 0\\end{bmatrix} $$\n",
    "\n",
    "**Thus**, the columns of $U$ are linearly independent when $a, d, f \\neq 0$.  "
   ]
  }
 ],
 "metadata": {
  "kernelspec": {
   "display_name": "Python 3 (ipykernel)",
   "language": "python",
   "name": "python3"
  },
  "language_info": {
   "codemirror_mode": {
    "name": "ipython",
    "version": 3
   },
   "file_extension": ".py",
   "mimetype": "text/x-python",
   "name": "python",
   "nbconvert_exporter": "python",
   "pygments_lexer": "ipython3",
   "version": "3.12.6"
  }
 },
 "nbformat": 4,
 "nbformat_minor": 5
}
