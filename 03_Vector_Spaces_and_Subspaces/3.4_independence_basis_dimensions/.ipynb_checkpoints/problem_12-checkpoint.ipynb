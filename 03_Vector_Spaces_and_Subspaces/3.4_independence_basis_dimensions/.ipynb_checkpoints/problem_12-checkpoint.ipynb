{
 "cells": [
  {
   "cell_type": "markdown",
   "id": "f41495eb-352c-4f0b-8069-74a0d52b86c6",
   "metadata": {},
   "source": [
    "### **Problems**\n",
    "\n",
    "**Statement:**  \n",
    "1. The vector $ \\mathbf{b} $ is in the subspace spanned by the columns of $ A $ when  \n",
    "   $$[ A\\mathbf{x} = \\mathbf{b} ]$$\n",
    "   has a solution.  \n",
    "\n",
    "2. The vector $ \\mathbf{c} $ is in the row space of $ A $ when  \n",
    "   $$[ \\mathbf{c}^T = \\mathbf{y}^T A ] $$\n",
    "   has a solution.  \n",
    "\n",
    "**True or False:**  \n",
    "If the zero vector is in the row space, the rows are dependent."
   ]
  },
  {
   "cell_type": "markdown",
   "id": "c0ad1581-22c0-4862-be17-f38305d5c137",
   "metadata": {},
   "source": [
    "---\n",
    "\n",
    "### **Solutions**\n",
    "\n",
    "#### **1. Column Space Condition**\n",
    "\n",
    "   The vector $\\mathbf{b}$ is in the subspace spanned by the columns of $A$ when\n",
    "\n",
    "   $$\n",
    "   A\\mathbf{x} = \\mathbf{b}\n",
    "   $$\n",
    "\n",
    "   has a solution.\n",
    "\n",
    "#### **2. Row Space Condition**\n",
    "   The vector $\\mathbf{c}$ is in the row space of $A$ when\n",
    "\n",
    "   $$\n",
    "   \\mathbf{c}^T = \\mathbf{y}^T A\n",
    "   $$\n",
    "\n",
    "   has a solution.\n",
    "\n",
    "#### **True or False Statement**\n",
    "\n",
    "   > If the zero vector is in the row space, the rows are dependent.\n",
    "\n",
    "   **False.** Every subspace (including the row space) **always** contains the zero vector via the trivial linear combination\n",
    "\n",
    "   $$\n",
    "   \\mathbf{0} = 0\\cdot r_1 + 0\\cdot r_2 + \\cdots + 0\\cdot r_m.\n",
    "   $$\n",
    "\n",
    "   Dependence requires a **nontrivial** combination of the rows equaling zero. For example, in the identity matrix $I_2$, the rows $(1,0)$ and $(0,1)$ are independent, yet the row space still contains $\\mathbf{0}$.\n"
   ]
  }
 ],
 "metadata": {
  "kernelspec": {
   "display_name": "Python 3 (ipykernel)",
   "language": "python",
   "name": "python3"
  },
  "language_info": {
   "codemirror_mode": {
    "name": "ipython",
    "version": 3
   },
   "file_extension": ".py",
   "mimetype": "text/x-python",
   "name": "python",
   "nbconvert_exporter": "python",
   "pygments_lexer": "ipython3",
   "version": "3.12.6"
  }
 },
 "nbformat": 4,
 "nbformat_minor": 5
}
