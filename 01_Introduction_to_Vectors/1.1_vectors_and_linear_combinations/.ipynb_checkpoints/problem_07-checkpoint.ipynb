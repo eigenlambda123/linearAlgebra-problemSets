{
 "cells": [
  {
   "cell_type": "markdown",
   "id": "81707fb4-018c-44a8-bdef-12a8a6218f0c",
   "metadata": {},
   "source": [
    "### **Problems**\n",
    "\n",
    "In the $xy$ plane mark all nine of these linear combinations:\n",
    "\n",
    "$$\n",
    "c\\begin{bmatrix} 2 \\\\ 1 \\end{bmatrix} + d\\begin{bmatrix} 0 \\\\ 1 \\end{bmatrix} \\quad \\text{with} \\quad c = 0,1,2 \\quad \\text{and} \\quad d = 0,1,2.\n",
    "$$"
   ]
  },
  {
   "cell_type": "markdown",
   "id": "700def67-9df9-44b1-b3e3-18e95f78f7f1",
   "metadata": {},
   "source": [
    "---\n",
    "\n",
    "### **Solutions**\n",
    "\n",
    "The nine linear combinations are calculated by evaluating the sum for each pair (c, d) where c and d are in {0, 1, 2}.\n",
    "\n",
    "The general combination is:\n",
    "$$\n",
    "c\\begin{bmatrix} 2 \\\\\\ 1 \\end{bmatrix} + d\\begin{bmatrix} 0 \\\\\\ 1 \\end{bmatrix} = \\begin{bmatrix} 2c \\\\\\ c + d \\end{bmatrix}\n",
    "$$\n",
    "\n",
    "**The nine points are:**\n",
    "\n",
    "| c | d | Vector (x, y) |\n",
    "| :-- | :-- | :------------- |\n",
    "| 0 | 0 | (0, 0) |\n",
    "| 0 | 1 | (0, 1) |\n",
    "| 0 | 2 | (0, 2) |\n",
    "| 1 | 0 | (2, 1) |\n",
    "| 1 | 1 | (2, 2) |\n",
    "| 1 | 2 | (2, 3) |\n",
    "| 2 | 0 | (4, 2) |\n",
    "| 2 | 1 | (4, 3) |\n",
    "| 2 | 2 | (4, 4) |\n",
    "\n",
    "**To mark them in the $xy$-plane:** Plot the points listed above. They all lie on the vertical lines \\(x = 0\\), \\(x = 2\\), and \\(x = 4\\). The pattern forms a parallelogram grid starting from the origin."
   ]
  }
 ],
 "metadata": {
  "kernelspec": {
   "display_name": "Python 3 (ipykernel)",
   "language": "python",
   "name": "python3"
  },
  "language_info": {
   "codemirror_mode": {
    "name": "ipython",
    "version": 3
   },
   "file_extension": ".py",
   "mimetype": "text/x-python",
   "name": "python",
   "nbconvert_exporter": "python",
   "pygments_lexer": "ipython3",
   "version": "3.12.6"
  }
 },
 "nbformat": 4,
 "nbformat_minor": 5
}
