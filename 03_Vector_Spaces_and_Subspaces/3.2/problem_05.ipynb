{
 "cells": [
  {
   "cell_type": "markdown",
   "id": "e9540443-df13-43be-a409-5fb4cab63020",
   "metadata": {},
   "source": [
    "### **(a) A square matrix has no free variables.**\n",
    "**False**.  \n",
    "- **Counterexample**: \n",
    "  $$A = \\begin{bmatrix} 1 & 2 \\\\ 2 & 4 \\end{bmatrix}$$\n",
    "  reduces to \n",
    "  $$\\begin{bmatrix} 1 & 2 \\\\ 0 & 0 \\end{bmatrix}$$ \n",
    "  with 1 pivot and 1 free variable.\n",
    "---\n",
    "\n",
    "### **(b) An invertible matrix has no free variables.**\n",
    "**True**.  \n",
    "- **Reason**: An invertible $n \\times n$ matrix has full rank ($r=n$), meaning all columns are pivot columns. By the Counting Theorem, $n - r = 0$ free variables.\n",
    "---\n",
    "\n",
    "### **(c) An $m \\times n$ matrix has no more than $n$ pivot variables.**  \n",
    "**True**.  \n",
    "- **Reason**: Pivots must occur in distinct columns. The maximum number of pivots is $\\min(m,n)$, which is always $\\leq n$.\n",
    "---\n",
    "\n",
    "### **(d) An $m \\times n$ matrix has no more than $m$ pivot variables.**  \n",
    "**True**.  \n",
    "- **Reason**: Each pivot requires a distinct row. The maximum rank is $\\min(m,n)$, so pivot count $\\leq m$.\n"
   ]
  }
 ],
 "metadata": {
  "kernelspec": {
   "display_name": "Python 3 (ipykernel)",
   "language": "python",
   "name": "python3"
  },
  "language_info": {
   "codemirror_mode": {
    "name": "ipython",
    "version": 3
   },
   "file_extension": ".py",
   "mimetype": "text/x-python",
   "name": "python",
   "nbconvert_exporter": "python",
   "pygments_lexer": "ipython3",
   "version": "3.12.6"
  }
 },
 "nbformat": 4,
 "nbformat_minor": 5
}
