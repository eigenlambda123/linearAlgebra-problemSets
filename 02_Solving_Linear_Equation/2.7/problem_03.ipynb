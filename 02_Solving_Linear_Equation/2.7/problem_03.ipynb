{
 "cells": [
  {
   "cell_type": "markdown",
   "id": "70e850e7-0d3e-495c-8066-874d6352bb63",
   "metadata": {},
   "source": [
    "### **Problems**\n",
    "\n",
    "#### **(a) Order of Operations**\n",
    "**Problem Statement:**  \n",
    "Given the matrix expression $((AB)^{-1})^\\top$, determine whether it equals $(A^{-1})^\\top (B^{-1})^\\top$ or $(B^{-1})^\\top (A^{-1})^\\top$.\n",
    "\n",
    "**Given:**  \n",
    "- $A$ and $B$ are invertible matrices.\n",
    "- The transpose and inverse operations are involved.\n",
    "\n",
    "#### **(b) Triangular Matrix Property**  \n",
    "**Problem Statement:**  \n",
    "If $U$ is an **upper triangular** matrix, what type of triangular matrix is $(U^{-1})^\\top$?\n",
    "\n",
    "**Given:**  \n",
    "- $U$ is square and upper triangular.\n",
    "- Consider both inverse and transpose operations.\n"
   ]
  },
  {
   "cell_type": "markdown",
   "id": "2449aea4-f8ad-4488-95c3-e9b235858456",
   "metadata": {},
   "source": [
    "\n",
    "---\n",
    "\n",
    "### **Solutions**\n",
    "\n",
    "#### **(a) Solution: Order of Operations**\n",
    "1. **Inverse of Product:**\n",
    "   $$(AB)^{-1} = B^{-1}A^{-1}$$\n",
    "   (Note the reversal of order).\n",
    "\n",
    "2. **Transpose of Inverse:**\n",
    "   $$((AB)^{-1})^\\top = (B^{-1}A^{-1})^\\top = (A^{-1})^\\top (B^{-1})^\\top$$\n",
    "   (Transpose reverses multiplication order again).\n",
    "\n",
    "**Conclusion:**\n",
    "$$\\boxed{((AB)^{-1})^\\top = (A^{-1})^\\top (B^{-1})^\\top}$$\n",
    "\n",
    "#### **(b) Solution: Triangular Matrix Property**\n",
    "1. **Inverse of Upper Triangular:**\n",
    "   - $U^{-1}$ remains **upper triangular**.\n",
    "\n",
    "2. **Transpose of Upper Triangular:**\n",
    "   - $(U^{-1})^\\top$ becomes **lower triangular** (transpose swaps rows and columns).\n",
    "\n",
    "**Verification Example:**\n",
    "Let $U = \\begin{bmatrix} 1 & 2 \\\\ 0 & 1 \\end{bmatrix}$:\n",
    "- $U^{-1} = \\begin{bmatrix} 1 & -2 \\\\ 0 & 1 \\end{bmatrix}$ (upper triangular).\n",
    "- $(U^{-1})^\\top = \\begin{bmatrix} 1 & 0 \\\\ -2 & 1 \\end{bmatrix}$ (lower triangular).\n",
    "\n",
    "**Conclusion:**\n",
    "$$\\boxed{(U^{-1})^\\top \\text{ is lower triangular}}$$"
   ]
  }
 ],
 "metadata": {
  "kernelspec": {
   "display_name": "Python 3 (ipykernel)",
   "language": "python",
   "name": "python3"
  },
  "language_info": {
   "codemirror_mode": {
    "name": "ipython",
    "version": 3
   },
   "file_extension": ".py",
   "mimetype": "text/x-python",
   "name": "python",
   "nbconvert_exporter": "python",
   "pygments_lexer": "ipython3",
   "version": "3.12.6"
  }
 },
 "nbformat": 4,
 "nbformat_minor": 5
}
