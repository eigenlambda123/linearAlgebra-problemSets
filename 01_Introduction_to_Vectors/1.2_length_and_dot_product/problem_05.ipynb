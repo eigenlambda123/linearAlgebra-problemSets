{
 "cells": [
  {
   "cell_type": "markdown",
   "id": "c44fa818-edc2-44bd-a2ba-64c0a9a0fdcb",
   "metadata": {},
   "source": [
    "### **Problems**\n",
    "\n",
    "Find unit vectors $\\mathbf{u}_1$ and $\\mathbf{u}_2$ in the directions of $\\mathbf{v} = (1,3)$ and $\\mathbf{w} = (2,1,2)$.\n",
    "\n",
    "Find unit vectors $\\mathbf{U}_1$ and $\\mathbf{U}_2$ that are perpendicular to $\\mathbf{u}_1$ and $\\mathbf{u}_2$."
   ]
  },
  {
   "cell_type": "code",
   "execution_count": null,
   "id": "59e7272b-6d97-4519-8d80-98e820254ccc",
   "metadata": {},
   "outputs": [],
   "source": []
  }
 ],
 "metadata": {
  "kernelspec": {
   "display_name": "Python 3 (ipykernel)",
   "language": "python",
   "name": "python3"
  },
  "language_info": {
   "codemirror_mode": {
    "name": "ipython",
    "version": 3
   },
   "file_extension": ".py",
   "mimetype": "text/x-python",
   "name": "python",
   "nbconvert_exporter": "python",
   "pygments_lexer": "ipython3",
   "version": "3.12.6"
  }
 },
 "nbformat": 4,
 "nbformat_minor": 5
}
