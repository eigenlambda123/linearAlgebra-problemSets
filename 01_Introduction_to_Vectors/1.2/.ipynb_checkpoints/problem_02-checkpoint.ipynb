{
 "cells": [
  {
   "cell_type": "markdown",
   "id": "91187365-dfb8-45ab-b1c8-efed403130ab",
   "metadata": {},
   "source": [
    "### **Problems**\n",
    "\n",
    "* Compute the lengths $||u||$ and $||v||$ and $||w||$ of those vectors. Check the Schwarz inequalities $|u \\cdot v| \\leq ||u||\\,||v||$ and $||v + w|| \\leq ||v|| + ||w||$.\n",
    "\n",
    "$$\n",
    "u = \\begin{bmatrix} \n",
    "-0.6 \\\\ \n",
    "0.8 \n",
    "\\end{bmatrix}, \\quad \n",
    "v = \\begin{bmatrix} \n",
    "4 \\\\ \n",
    "3 \n",
    "\\end{bmatrix}, \\quad \n",
    "w = \\begin{bmatrix} \n",
    "1 \\\\ \n",
    "2 \n",
    "\\end{bmatrix}.\n",
    "$$"
   ]
  },
  {
   "cell_type": "markdown",
   "id": "010c2a61-f7a4-4db9-90d0-5ba8aee33f06",
   "metadata": {},
   "source": [
    "### **Solutions**\n",
    "\n",
    "**(a)** Length of vector $u$:\n",
    "$$\n",
    "||u|| = \\sqrt{(-0.6)^2 + (0.8)^2} = \\sqrt{0.36 + 0.64} = \\sqrt{1} = \\boxed{1}\n",
    "$$\n",
    "\n",
    "**(b)** Length of vector $v$:\n",
    "$$\n",
    "||v|| = \\sqrt{4^2 + 3^2} = \\sqrt{16 + 9} = \\sqrt{25} = \\boxed{5}\n",
    "$$\n",
    "\n",
    "**(c)** Length of vector $w$:\n",
    "$$\n",
    "||w|| = \\sqrt{1^2 + 2^2} = \\sqrt{1 + 4} = \\sqrt{5} \\approx \\boxed{2.236}\n",
    "$$\n",
    "\n",
    "**(d)** Schwarz inequality verification:\n",
    "First compute $u \\cdot v = (-0.6)(4) + (0.8)(3) = -2.4 + 2.4 = 0$\n",
    "Then:\n",
    "$$\n",
    "|u \\cdot v| = 0 \\leq ||u||\\,||v|| = 1 \\times 5 = 5 \\quad \\text{✓ (holds)}\n",
    "$$\n",
    "\n",
    "**(e)** Triangle inequality verification:\n",
    "First compute $v + w = \\begin{bmatrix}5\\\\5\\end{bmatrix}$,\n",
    "$||v + w|| = \\sqrt{5^2 + 5^2} = \\sqrt{50} \\approx 7.071$\n",
    "Then:\n",
    "$$\n",
    "||v + w|| \\approx 7.071 \\leq ||v|| + ||w|| = 5 + 2.236 \\approx 7.236 \\quad \\text{✓ (holds)}\n",
    "$$\n",
    "\n",
    "**Summary of Results:**\n",
    "1. $||u|| = \\boxed{1}$\n",
    "2. $||v|| = \\boxed{5}$\n",
    "3. $||w|| \\approx \\boxed{2.236}$\n",
    "4. Schwarz inequality holds ($0 \\leq 5$)\n",
    "5. Triangle inequality holds ($7.071 \\leq 7.236$)"
   ]
  }
 ],
 "metadata": {
  "kernelspec": {
   "display_name": "Python 3 (ipykernel)",
   "language": "python",
   "name": "python3"
  },
  "language_info": {
   "codemirror_mode": {
    "name": "ipython",
    "version": 3
   },
   "file_extension": ".py",
   "mimetype": "text/x-python",
   "name": "python",
   "nbconvert_exporter": "python",
   "pygments_lexer": "ipython3",
   "version": "3.12.6"
  }
 },
 "nbformat": 4,
 "nbformat_minor": 5
}
