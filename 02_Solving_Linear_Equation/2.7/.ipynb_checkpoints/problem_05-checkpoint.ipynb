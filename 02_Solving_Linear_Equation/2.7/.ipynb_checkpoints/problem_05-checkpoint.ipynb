{
 "cells": [
  {
   "cell_type": "markdown",
   "id": "9d544eb6-299f-4af6-927d-351ddc40dd01",
   "metadata": {},
   "source": [
    "### **Problems**\n",
    "\n",
    "#### **(a) Vector-Matrix-Vector Multiplication**\n",
    "Compute the scalar value produced by:\n",
    "$$\n",
    "x^\\top A y = \\begin{bmatrix} 0 & 1 \\end{bmatrix} \\begin{bmatrix} 1 & 2 & 3 \\\\ 4 & 5 & 6 \\end{bmatrix} \\begin{bmatrix} 0 \\\\ 1 \\\\ 0 \\end{bmatrix} = \\underline{\\hspace{2cm}}\n",
    "$$\n",
    "\n",
    "**Given:**\n",
    "- Row vector: $x^\\top = \\begin{bmatrix} 0 & 1 \\end{bmatrix}$\n",
    "- Matrix: $A = \\begin{bmatrix} 1 & 2 & 3 \\\\ 4 & 5 & 6 \\end{bmatrix}$\n",
    "- Column vector: $y = \\begin{bmatrix} 0 \\\\ 1 \\\\ 0 \\end{bmatrix}$\n",
    "\n",
    "\n",
    "#### **(b) Intermediate Step: Row Vector Times Matrix**\n",
    "Compute the row vector $x^\\top A$:\n",
    "$$\n",
    "x^\\top A = \\begin{bmatrix} 0 & 1 \\end{bmatrix} \\begin{bmatrix} 1 & 2 & 3 \\\\ 4 & 5 & 6 \\end{bmatrix} = \\underline{\\hspace{2cm}}\n",
    "$$\n",
    "\n",
    "**Follow-up:**  \n",
    "Multiply this result by $y$ to verify consistency with part (a).\n",
    "\n",
    "\n",
    "#### **(c) Alternative Approach: Matrix Times Column Vector**\n",
    "First compute $Ay$, then multiply by $x^\\top$:\n",
    "$$\n",
    "Ay = \\begin{bmatrix} 1 & 2 & 3 \\\\ 4 & 5 & 6 \\end{bmatrix} \\begin{bmatrix} 0 \\\\ 1 \\\\ 0 \\end{bmatrix} = \\underline{\\hspace{2cm}}\n",
    "$$\n",
    "\n",
    "**Follow-up:**  \n",
    "Multiply $x^\\top$ by this result to verify consistency with part (a)."
   ]
  },
  {
   "cell_type": "markdown",
   "id": "6a5f8afa-ddd1-4b3c-97e3-453357eb1144",
   "metadata": {},
   "source": [
    "---\n",
    "\n",
    "### **Solutions**\n",
    "\n",
    "#### **(a) Final Computation**\n",
    "1. Multiply $A$ and $y$:\n",
    "   $$\n",
    "   Ay = \\begin{bmatrix} 1(0)+2(1)+3(0) \\\\ 4(0)+5(1)+6(0) \\end{bmatrix} = \\begin{bmatrix} 2 \\\\ 5 \\end{bmatrix}\n",
    "   $$\n",
    "2. Multiply $x^\\top$ and $Ay$:\n",
    "   $$\n",
    "   x^\\top Ay = \\begin{bmatrix} 0 & 1 \\end{bmatrix} \\begin{bmatrix} 2 \\\\ 5 \\end{bmatrix} = \\boxed{5}\n",
    "   $$\n",
    "\n",
    "#### **(b) Intermediate Row Vector**\n",
    "$$\n",
    "x^\\top A = \\begin{bmatrix} 0(1)+1(4) & 0(2)+1(5) & 0(3)+1(6) \\end{bmatrix} = \\boxed{\\begin{bmatrix} 4 & 5 & 6 \\end{bmatrix}}\n",
    "$$\n",
    "\n",
    "**Verification:**  \n",
    "$\\begin{bmatrix} 4 & 5 & 6 \\end{bmatrix} \\begin{bmatrix} 0 \\\\ 1 \\\\ 0 \\end{bmatrix} = 5$ ✓ (matches part (a)).\n",
    "\n",
    "#### **(c) Alternative Column Vector**\n",
    "$$\n",
    "Ay = \\boxed{\\begin{bmatrix} 2 \\\\ 5 \\end{bmatrix}}\n",
    "$$\n",
    "\n",
    "**Verification:**  \n",
    "$\\begin{bmatrix} 0 & 1 \\end{bmatrix} \\begin{bmatrix} 2 \\\\ 5 \\end{bmatrix} = 5$ ✓ (matches part (a))."
   ]
  }
 ],
 "metadata": {
  "kernelspec": {
   "display_name": "Python 3 (ipykernel)",
   "language": "python",
   "name": "python3"
  },
  "language_info": {
   "codemirror_mode": {
    "name": "ipython",
    "version": 3
   },
   "file_extension": ".py",
   "mimetype": "text/x-python",
   "name": "python",
   "nbconvert_exporter": "python",
   "pygments_lexer": "ipython3",
   "version": "3.12.6"
  }
 },
 "nbformat": 4,
 "nbformat_minor": 5
}
