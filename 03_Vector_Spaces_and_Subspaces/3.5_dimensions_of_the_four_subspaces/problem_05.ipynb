{
 "cells": [
  {
   "cell_type": "markdown",
   "id": "4ebadd4e-d6dd-47dc-a308-fc0b7a2f0032",
   "metadata": {},
   "source": [
    "### **Problems**\n",
    "\n",
    "If $V$ is the subspace spanned by $(1,1, 1)$ and $(2,1, 0)$, find a matrix $A$ that has $V$ as its row space. Find a matrix $B$ that has $V$ as its nullspace. Multiply $AB$."
   ]
  },
  {
   "cell_type": "markdown",
   "id": "33bf516e-bc2d-462d-b061-e2e7d10d84ad",
   "metadata": {},
   "source": [
    "---\n",
    "\n",
    "### **Solutions**\n",
    "Let $V = \\text{span}\\{(1,1,1), (2,1,0)\\}$.\n",
    "\n",
    "**Matrix $A$ with $V$ as its row space:**\n",
    "Since $V$ is spanned by two linearly independent vectors, we can take these as the rows of $A$. Thus,\n",
    "$$\n",
    "\\boxed{A = \\begin{bmatrix} 1 & 1 & 1 \\\\ 2 & 1 & 0 \\end{bmatrix}}\n",
    "$$\n",
    "This matrix has row space exactly $V$.\n",
    "\n",
    "**Matrix $B$ with $V$ as its nullspace:**\n",
    "The nullspace of $B$ should be $V$. Since $V$ is a 2-dimensional subspace of $\\mathbb{R}^3$, the nullity of $B$ is 2. By the rank-nullity theorem, if $B$ is $m \\times 3$, then $\\text{rank}(B) = 3 - 2 = 1$. So $B$ should have rank 1, and its row space must be orthogonal to $V$ (since the nullspace is the orthogonal complement of the row space).\n",
    "\n",
    "A basis for $V^\\perp$ (the orthogonal complement of $V$) can be found by solving for vectors orthogonal to both $(1,1,1)$ and $(2,1,0)$. Let $\\mathbf{x} = (x_1, x_2, x_3)$ be such that:\n",
    "$$\n",
    "\\begin{aligned}\n",
    "x_1 + x_2 + x_3 &= 0, \\\\\n",
    "2x_1 + x_2 &= 0.\n",
    "\\end{aligned}\n",
    "$$\n",
    "From the second equation, $x_2 = -2x_1$. Substituting into the first:\n",
    "$$\n",
    "x_1 - 2x_1 + x_3 = 0 \\implies -x_1 + x_3 = 0 \\implies x_3 = x_1.\n",
    "$$\n",
    "So $\\mathbf{x} = (x_1, -2x_1, x_1) = x_1(1, -2, 1)$. Thus, $V^\\perp$ is spanned by $(1, -2, 1)$.\n",
    "\n",
    "Therefore, we can take $B$ to be a matrix whose row space is spanned by $(1, -2, 1)$. For example,\n",
    "$$\n",
    "\\boxed{B = \\begin{bmatrix} 1 & -2 & 1 \\end{bmatrix}}\n",
    "$$\n",
    "Then the nullspace of $B$ is exactly $V$ (since $V$ is the orthogonal complement of the row space of $B$).\n",
    "\n",
    "**Multiply $AB$:**\n",
    "$$\n",
    "A = \\begin{bmatrix} 1 & 1 & 1 \\\\ 2 & 1 & 0 \\end{bmatrix}, \\quad B = \\begin{bmatrix} 1 & -2 & 1 \\end{bmatrix}.\n",
    "$$\n",
    "Then,\n",
    "$$\n",
    "AB = \\begin{bmatrix} 1 & 1 & 1 \\\\ 2 & 1 & 0 \\end{bmatrix} \\begin{bmatrix} 1 \\\\ -2 \\\\ 1 \\end{bmatrix} = \\begin{bmatrix} 1\\cdot1 + 1\\cdot(-2) + 1\\cdot1 \\\\ 2\\cdot1 + 1\\cdot(-2) + 0\\cdot1 \\end{bmatrix} = \\begin{bmatrix} 1 - 2 + 1 \\\\ 2 - 2 + 0 \\end{bmatrix} = \\begin{bmatrix} 0 \\\\ 0 \\end{bmatrix}.\n",
    "$$\n",
    "So $AB = 0$."
   ]
  }
 ],
 "metadata": {
  "kernelspec": {
   "display_name": "Python 3 (ipykernel)",
   "language": "python",
   "name": "python3"
  },
  "language_info": {
   "codemirror_mode": {
    "name": "ipython",
    "version": 3
   },
   "file_extension": ".py",
   "mimetype": "text/x-python",
   "name": "python",
   "nbconvert_exporter": "python",
   "pygments_lexer": "ipython3",
   "version": "3.12.6"
  }
 },
 "nbformat": 4,
 "nbformat_minor": 5
}
