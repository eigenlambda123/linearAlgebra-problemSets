{
 "cells": [
  {
   "cell_type": "markdown",
   "id": "ca202330-88fe-499e-ad86-27ef5b90e609",
   "metadata": {},
   "source": [
    "### **Problems**\n",
    "\n",
    "Find the linear combination $3\\mathbf{s}_1 + 4\\mathbf{s}_2 + 5\\mathbf{s}_3 = \\mathbf{b}$. Then write $\\mathbf{b}$ as a matrix-vector multiplication $S\\mathbf{x}$, with $3, 4, 5$ in $\\mathbf{x}$. Compute the three dot products (row of $S$) $\\cdot$ $\\mathbf{x}$:\n",
    "\n",
    "$$\n",
    "\\mathbf{s}_1 = \\begin{bmatrix} 1 \\\\ 1 \\\\ 1 \\end{bmatrix} \\quad \n",
    "\\mathbf{s}_2 = \\begin{bmatrix} 0 \\\\ 1 \\\\ 1 \\end{bmatrix} \\quad \n",
    "\\mathbf{s}_3 = \\begin{bmatrix} 0 \\\\ 0 \\\\ 1 \\end{bmatrix}\n",
    "$$\n",
    "\n",
    "go into the columns of $S$."
   ]
  },
  {
   "cell_type": "code",
   "execution_count": null,
   "id": "d9a51dd9-3ff7-4d8e-83eb-6d8ff0606636",
   "metadata": {},
   "outputs": [],
   "source": []
  }
 ],
 "metadata": {
  "kernelspec": {
   "display_name": "Python 3 (ipykernel)",
   "language": "python",
   "name": "python3"
  },
  "language_info": {
   "codemirror_mode": {
    "name": "ipython",
    "version": 3
   },
   "file_extension": ".py",
   "mimetype": "text/x-python",
   "name": "python",
   "nbconvert_exporter": "python",
   "pygments_lexer": "ipython3",
   "version": "3.12.6"
  }
 },
 "nbformat": 4,
 "nbformat_minor": 5
}
