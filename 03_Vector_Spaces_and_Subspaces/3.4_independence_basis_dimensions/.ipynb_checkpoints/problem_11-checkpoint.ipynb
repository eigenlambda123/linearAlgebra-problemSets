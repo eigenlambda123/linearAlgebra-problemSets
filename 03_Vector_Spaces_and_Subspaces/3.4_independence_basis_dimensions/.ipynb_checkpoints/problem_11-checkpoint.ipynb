{
 "cells": [
  {
   "cell_type": "markdown",
   "id": "3f4c3e4f-1a4a-4deb-a922-8ed219d79c62",
   "metadata": {},
   "source": [
    "### **Problems**\n",
    "\n",
    "**Describe the subspace of $\\mathbb{R}^3$ (line, plane, or all of $\\mathbb{R}^3$) spanned by:**\n",
    "\n",
    "#### **(a)** The vectors:\n",
    "$$ \\mathbf{v}_1 = \\begin{pmatrix}1 \\\\ 1 \\\\ -1\\end{pmatrix},\\quad \\mathbf{v}_2 = \\begin{pmatrix}-1 \\\\ -1 \\\\ 1\\end{pmatrix} $$\n",
    "\n",
    "#### **(b)** The vectors:\n",
    "$$ \\mathbf{w}_1 = \\begin{pmatrix}0 \\\\ 1 \\\\ 1\\end{pmatrix},\\quad \\mathbf{w}_2 = \\begin{pmatrix}1 \\\\ 1 \\\\ 0\\end{pmatrix},\\quad \\mathbf{w}_3 = \\begin{pmatrix}0 \\\\ 0 \\\\ 0\\end{pmatrix} $$\n",
    "\n",
    "#### **(c)** All vectors in $\\mathbb{R}^3$ with integer components.\n",
    "\n",
    "#### **(d)** All vectors with strictly positive components:\n",
    "$$ \\begin{pmatrix}x \\\\ y \\\\ z\\end{pmatrix} \\text{ where } x > 0, y > 0, z > 0 $$\n"
   ]
  },
  {
   "cell_type": "markdown",
   "id": "e24cb821-e729-4c65-8f29-a507afaa5556",
   "metadata": {},
   "source": [
    "---\n",
    "\n",
    "### **Solutions**\n",
    "\n",
    "#### **(a) Span of $(1,1,-1)$ and $(-1,-1,1)$**\n",
    "- **Observation:** $\\mathbf{v}_2 = -\\mathbf{v}_1$ (the vectors are scalar multiples).\n",
    "- **Dimensionality:** The span is a **line** through the origin in $\\mathbb{R}^3$.\n",
    "- **Explicit Form:** All vectors of the form $t \\begin{pmatrix}1 \\\\ 1 \\\\ -1\\end{pmatrix}$ for $t \\in \\mathbb{R}$.\n",
    "\n",
    "**Conclusion:**  \n",
    "$\\boxed{\\text{Line}}$ (1-dimensional subspace).\n",
    "\n",
    "\n",
    "#### **(b) Span of $(0,1,1)$, $(1,1,0)$, and $(0,0,0)$**\n",
    "- **Observation:** The zero vector contributes nothing to the span. The other two vectors are linearly independent (not scalar multiples).\n",
    "- **Dimensionality:** The span is a **plane** in $\\mathbb{R}^3$.\n",
    "- **Basis:** $\\left\\{\\begin{pmatrix}0 \\\\ 1 \\\\ 1\\end{pmatrix}, \\begin{pmatrix}1 \\\\ 1 \\\\ 0\\end{pmatrix}\\right\\}$.\n",
    "\n",
    "**Conclusion:**  \n",
    "$\\boxed{\\text{Plane}}$ (2-dimensional subspace).\n",
    "\n",
    "\n",
    "#### **(c) All integer-component vectors in $\\mathbb{R}^3$**\n",
    "- **Closure Check:**  \n",
    "  - **Addition:** $(1,0,0) + (0,1,0) = (1,1,0)$ (integer, closed).  \n",
    "  - **Scalar Multiplication:** $\\frac{1}{2} \\cdot (1,0,0) = \\left(\\frac{1}{2},0,0\\right)$ (non-integer, **not closed**).\n",
    "- **Conclusion:**  \n",
    "  $\\boxed{\\text{Not a subspace}}$.  \n",
    "  *Fails scalar multiplication for non-integer scalars.*\n",
    "\n",
    "\n",
    "#### **(d) All vectors with $x>0, y>0, z>0$**\n",
    "- **Closure Check:**  \n",
    "  - **Addition:** $(1,1,1) + (1,1,1) = (2,2,2)$ (positive, closed).  \n",
    "  - **Scalar Multiplication:** $-1 \\cdot (1,1,1) = (-1,-1,-1)$ (negative, **not closed**).  \n",
    "  - **Zero Vector:** $(0,0,0)$ is excluded.\n",
    "- **Conclusion:**  \n",
    "  $\\boxed{\\text{Not a subspace}}$.  \n",
    "  *Fails closure under scalar multiplication and lacks the zero vector.*"
   ]
  }
 ],
 "metadata": {
  "kernelspec": {
   "display_name": "Python 3 (ipykernel)",
   "language": "python",
   "name": "python3"
  },
  "language_info": {
   "codemirror_mode": {
    "name": "ipython",
    "version": 3
   },
   "file_extension": ".py",
   "mimetype": "text/x-python",
   "name": "python",
   "nbconvert_exporter": "python",
   "pygments_lexer": "ipython3",
   "version": "3.12.6"
  }
 },
 "nbformat": 4,
 "nbformat_minor": 5
}
