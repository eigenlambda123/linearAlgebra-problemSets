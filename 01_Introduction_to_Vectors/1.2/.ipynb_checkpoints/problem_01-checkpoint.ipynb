{
 "cells": [
  {
   "cell_type": "markdown",
   "id": "d96b1fa6-dc3e-4975-aede-3cf3e9ea8fd8",
   "metadata": {},
   "source": [
    "### **Problem**\n",
    "\n",
    "* Calculate the dot products $u \\cdot v$ and $u \\cdot w$ and $u \\cdot (v + w)$ and $w \\cdot v$:\n",
    "\n",
    "$$\n",
    "u = \\begin{bmatrix}\n",
    "-0.6 \\\\\n",
    "0.8\n",
    "\\end{bmatrix}\n",
    "\\quad v = \\begin{bmatrix}\n",
    "4 \\\\\n",
    "3\n",
    "\\end{bmatrix}\n",
    "\\quad w = \\begin{bmatrix}\n",
    "1 \\\\\n",
    "2\n",
    "\\end{bmatrix}.\n",
    "$$\n",
    "\n"
   ]
  },
  {
   "cell_type": "markdown",
   "id": "1c9c47df-0215-4694-b819-38b3b362bbe6",
   "metadata": {},
   "source": [
    "### **Solution**\n",
    "\n",
    "The problem asks for four dot product calculations involving vectors **u**, **v**, and **w**. I computed each as follows:\n",
    "\n",
    "1. **u · v**\n",
    "   $$\n",
    "   \\mathbf{u} \\cdot \\mathbf{v} = (-0.6)(4) + (0.8)(3) = -2.4 + 2.4 = \\boxed{0}\n",
    "   $$\n",
    "\n",
    "2. **u · w**\n",
    "   $$\n",
    "   \\mathbf{u} \\cdot \\mathbf{w} = (-0.6)(1) + (0.8)(2) = -0.6 + 1.6 = \\boxed{1}\n",
    "   $$\n",
    "\n",
    "3. **u · (v + w)**\n",
    "   - First compute:  \n",
    "     $$\n",
    "     \\mathbf{v} + \\mathbf{w} = (4 + 1, 3 + 2) = (5, 5)\n",
    "     $$\n",
    "   - Then:  \n",
    "     $$\n",
    "     \\mathbf{u} \\cdot (\\mathbf{v} + \\mathbf{w}) = (-0.6)(5) + (0.8)(5) = -3 + 4 = \\boxed{1}\n",
    "     $$\n",
    "\n",
    "4. **v · w**\n",
    "   $$\n",
    "   \\mathbf{v} \\cdot \\mathbf{w} = (4)(1) + (3)(2) = 4 + 6 = \\boxed{10}\n",
    "   $$\n",
    "\n",
    "**Final Answers**:\n",
    "\n",
    "- **u · v** = **0**  \n",
    "- **u · w** = **1**  \n",
    "- **u · (v + w)** = **1**  \n",
    "- **v · w** = **10**"
   ]
  }
 ],
 "metadata": {
  "kernelspec": {
   "display_name": "Python 3 (ipykernel)",
   "language": "python",
   "name": "python3"
  },
  "language_info": {
   "codemirror_mode": {
    "name": "ipython",
    "version": 3
   },
   "file_extension": ".py",
   "mimetype": "text/x-python",
   "name": "python",
   "nbconvert_exporter": "python",
   "pygments_lexer": "ipython3",
   "version": "3.12.6"
  }
 },
 "nbformat": 4,
 "nbformat_minor": 5
}
