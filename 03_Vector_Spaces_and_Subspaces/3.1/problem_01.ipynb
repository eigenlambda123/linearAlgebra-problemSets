{
 "cells": [
  {
   "cell_type": "markdown",
   "id": "da9dd638-8547-475e-9a2b-97ece9d650b3",
   "metadata": {},
   "source": [
    "### **Problems**  \n",
    "**Question**:  \n",
    "Suppose $(x_1, x_2) + (y_1, y_2)$ is defined as $(x_1 + y_2, x_2 + y_1)$, with scalar multiplication $c x = (c x_1, c x_2)$. **Which of the eight axioms are not satisfied?**\n",
    "\n",
    "**Given**:  \n",
    "- **Non-standard addition**: $(x_1, x_2) + (y_1, y_2) = (x_1 + y_2, x_2 + y_1)$.  \n",
    "- **Standard scalar multiplication**: $c x = (c x_1, c x_2)$.  \n",
    "\n",
    "**Tasks**:  \n",
    "- Verify each axiom (1)-(8) for this definition.\n",
    "- Identify which axioms fail.  \n"
   ]
  },
  {
   "cell_type": "markdown",
   "id": "b6b2386d-0cae-4441-a5b9-9a9137d3eb41",
   "metadata": {},
   "source": [
    "\n",
    "---\n",
    "\n",
    "### **Solutions**  \n",
    "1. **Axiom 1 (Commutativity)**:  \n",
    "   $$(x_1, x_2) + (y_1, y_2) = (x_1 + y_2, x_2 + y_1)$$  \n",
    "   $$(y_1, y_2) + (x_1, x_2) = (y_1 + x_2, y_2 + x_1)$$  \n",
    "   **Result**: Not equal unless $x_2 + y_1 = x_1 + y_2$. **Fails** in general.  \n",
    "\n",
    "2. **Axiom 3 (Zero Vector)**:  \n",
    "   Requires $(x_1, x_2) + (0_1, 0_2) = (x_1, x_2)$.  \n",
    "   But $(x_1 + 0_2, x_2 + 0_1) = (x_1, x_2)$ only if $0_2 = 0$ and $0_1 = 0$.  \n",
    "   **Result**: Holds if zero vector is $\\mathbf{0} = (0, 0)$.  \n",
    "\n",
    "3. **Axiom 4 (Additive Inverse)**:  \n",
    "   For $(x_1, x_2) + (-x_1, -x_2) = (x_1 - x_2, x_2 - x_1) \\neq (0, 0)$ unless $x_1 = x_2$.  \n",
    "   **Result**: **Fails** (no consistent $-x$ exists).  \n",
    "\n",
    "4. **Axioms 2, 5-8**:  \n",
    "   - **Axiom 2 (Associativity)**: Holds (verify by expansion).  \n",
    "   - **Axioms 5-8**: Hold because scalar multiplication is standard.  \n",
    "\n",
    "**Conclusion**:  \n",
    "Axioms **1 (Commutativity)** and **4 (Additive Inverse)** are **not satisfied**. "
   ]
  }
 ],
 "metadata": {
  "kernelspec": {
   "display_name": "Python 3 (ipykernel)",
   "language": "python",
   "name": "python3"
  },
  "language_info": {
   "codemirror_mode": {
    "name": "ipython",
    "version": 3
   },
   "file_extension": ".py",
   "mimetype": "text/x-python",
   "name": "python",
   "nbconvert_exporter": "python",
   "pygments_lexer": "ipython3",
   "version": "3.12.6"
  }
 },
 "nbformat": 4,
 "nbformat_minor": 5
}
