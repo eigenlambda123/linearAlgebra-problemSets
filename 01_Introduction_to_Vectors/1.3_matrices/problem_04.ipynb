{
 "cells": [
  {
   "cell_type": "markdown",
   "id": "a61b0787-778a-473b-a87f-21aea62ded6b",
   "metadata": {},
   "source": [
    "### **Problems**\n",
    "\n",
    "Find a combination $x_{1}\\mathbf{w}_{1} + x_{2}\\mathbf{w}_{2} + x_{3}\\mathbf{w}_{3}$ that gives the zero vector with $x_{1} = 1$:\n",
    "\n",
    "$$\n",
    "\\mathbf{w}_{1} = \\begin{bmatrix} 1 \\\\ 2 \\\\ 3 \\end{bmatrix} \\quad\n",
    "\\mathbf{w}_{2} = \\begin{bmatrix} 4 \\\\ 5 \\\\ 6 \\end{bmatrix} \\quad\n",
    "\\mathbf{w}_{3} = \\begin{bmatrix} 7 \\\\ 8 \\\\ 9 \\end{bmatrix}.\n",
    "$$\n",
    "\n",
    "Those vectors are (independent) (dependent). The three vectors lie in a \\_\\_\\_\\_. The matrix $W$ with those three columns is _not invertible_."
   ]
  },
  {
   "cell_type": "code",
   "execution_count": null,
   "id": "67a8cef3-b4c1-4d0b-b548-49948e19647d",
   "metadata": {},
   "outputs": [],
   "source": []
  }
 ],
 "metadata": {
  "kernelspec": {
   "display_name": "Python 3 (ipykernel)",
   "language": "python",
   "name": "python3"
  },
  "language_info": {
   "codemirror_mode": {
    "name": "ipython",
    "version": 3
   },
   "file_extension": ".py",
   "mimetype": "text/x-python",
   "name": "python",
   "nbconvert_exporter": "python",
   "pygments_lexer": "ipython3",
   "version": "3.12.6"
  }
 },
 "nbformat": 4,
 "nbformat_minor": 5
}
