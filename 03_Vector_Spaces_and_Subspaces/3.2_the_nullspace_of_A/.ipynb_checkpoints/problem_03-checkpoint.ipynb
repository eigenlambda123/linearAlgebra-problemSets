{
 "cells": [
  {
   "cell_type": "markdown",
   "id": "c4ea7dd2-99b2-4a6f-8cb5-836b5ac2fe60",
   "metadata": {},
   "source": [
    "### **Part (a): Matrix $A$**\n",
    "\n",
    "### Given\n",
    "Echelon form $U$ from Problem 1(a):\n",
    "$$\n",
    "U = \\begin{bmatrix} \n",
    "1 & 2 & 2 & 4 & 6 \\\\ \n",
    "0 & 0 & 1 & 2 & 3 \\\\ \n",
    "0 & 0 & 0 & 0 & 0 \n",
    "\\end{bmatrix}\n",
    "$$\n",
    "\n",
    "### Reduced Echelon Form $R$\n",
    "1. Eliminate entries above pivot in column 3:\n",
    "   - $R_1 \\leftarrow R_1 - 2R_2$\n",
    "   $$\n",
    "   R = \\begin{bmatrix} \n",
    "   1 & 2 & 0 & 0 & 0 \\\\ \n",
    "   0 & 0 & 1 & 2 & 3 \\\\ \n",
    "   0 & 0 & 0 & 0 & 0 \n",
    "   \\end{bmatrix}\n",
    "   $$\n",
    "\n",
    "### Nullspace Verification\n",
    "**True**: The nullspace of $R$ equals the nullspace of $U$.  \n",
    "**Reason**: Row operations preserve the solution space of $A\\mathbf{x}=\\mathbf{0}$. The reduced form $R$ is obtained through invertible row operations on $U$, so their nullspaces are identical."
   ]
  },
  {
   "cell_type": "markdown",
   "id": "3bf30af9-17a5-4463-8fe9-fa69c49e524d",
   "metadata": {},
   "source": [
    "---\n",
    "\n",
    "### **Part (b): Matrix $B$**\n",
    "\n",
    "### Given\n",
    "Echelon form $U$ from Problem 1(b):\n",
    "$$\n",
    "U = \\begin{bmatrix} \n",
    "1 & 2 & 1 \\\\ \n",
    "0 & 4 & 4 \\\\ \n",
    "0 & 0 & 0 \n",
    "\\end{bmatrix}\n",
    "$$\n",
    "\n",
    "### Reduced Echelon Form $R$\n",
    "1. Make pivot in row 2 equal to 1:\n",
    "   - $R_2 \\leftarrow \\frac{1}{4}R_2$\n",
    "2. Eliminate entries above pivot in column 2:\n",
    "   - $R_1 \\leftarrow R_1 - 2R_2$\n",
    "   $$\n",
    "   R = \\begin{bmatrix} \n",
    "   1 & 0 & -1 \\\\ \n",
    "   0 & 1 & 1 \\\\ \n",
    "   0 & 0 & 0 \n",
    "   \\end{bmatrix}\n",
    "   $$\n",
    "\n",
    "### Nullspace Verification\n",
    "**True**: The nullspace of $R$ equals the nullspace of $U$.  \n",
    "**Reason**: Elementary row operations do not change the linear relations between columns. Both forms $U$ and $R$ represent equivalent systems with identical solutions to $B\\mathbf{x}=\\mathbf{0}$."
   ]
  }
 ],
 "metadata": {
  "kernelspec": {
   "display_name": "Python 3 (ipykernel)",
   "language": "python",
   "name": "python3"
  },
  "language_info": {
   "codemirror_mode": {
    "name": "ipython",
    "version": 3
   },
   "file_extension": ".py",
   "mimetype": "text/x-python",
   "name": "python",
   "nbconvert_exporter": "python",
   "pygments_lexer": "ipython3",
   "version": "3.12.6"
  }
 },
 "nbformat": 4,
 "nbformat_minor": 5
}
