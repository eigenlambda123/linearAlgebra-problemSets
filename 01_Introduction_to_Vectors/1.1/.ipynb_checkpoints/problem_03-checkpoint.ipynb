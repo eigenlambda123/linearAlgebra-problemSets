{
 "cells": [
  {
   "cell_type": "markdown",
   "id": "f300366c-58cd-43f1-beba-c47694767003",
   "metadata": {},
   "source": [
    "### **Problem**\n",
    "\n",
    "Given:\n",
    "\n",
    "* \\$\\vec{v} + \\vec{w} = \\begin{bmatrix} 5 \\ 1 \\end{bmatrix}\\$\n",
    "* \\$\\vec{v} - \\vec{w} = \\begin{bmatrix} 1 \\ 5 \\end{bmatrix}\\$\n",
    "\n",
    "Find:\n",
    "\n",
    "1. \\$\\vec{v}\\$ and \\$\\vec{w}\\$\n",
    "2. \\$3\\vec{v} + \\vec{w}\\$\n",
    "3. General formula for \\$c\\vec{v} + d\\vec{w}\\$"
   ]
  },
  {
   "cell_type": "markdown",
   "id": "8bb6c740-7fc3-496e-8dd2-bfa51ab0e365",
   "metadata": {},
   "source": [
    "---\n",
    "\n",
    "### **Solution**\n",
    "\n",
    "#### **Step 1: Solve for \\$\\vec{v}\\$ and \\$\\vec{w}\\$**\n",
    "\n",
    "Add the two equations:\n",
    "\n",
    "$$\n",
    "(\\vec{v} + \\vec{w}) + (\\vec{v} - \\vec{w}) = \\begin{bmatrix} 5 \\\\ 1 \\end{bmatrix} + \\begin{bmatrix} 1 \\\\ 5 \\end{bmatrix} = \\begin{bmatrix} 6 \\\\ 6 \\end{bmatrix}\n",
    "$$\n",
    "\n",
    "$$\n",
    "2\\vec{v} = \\begin{bmatrix} 6 \\\\ 6 \\end{bmatrix} \\Rightarrow \\vec{v} = \\begin{bmatrix} 3 \\\\ 3 \\end{bmatrix}\n",
    "$$\n",
    "\n",
    "Now plug \\$\\vec{v}\\$ into one of the original equations:\n",
    "\n",
    "$$\n",
    "\\vec{v} + \\vec{w} = \\begin{bmatrix} 5 \\\\ 1 \\end{bmatrix} \\Rightarrow \\begin{bmatrix} 3 \\\\ 3 \\end{bmatrix} + \\vec{w} = \\begin{bmatrix} 5 \\\\ 1 \\end{bmatrix}\n",
    "$$\n",
    "\n",
    "$$\n",
    "\\vec{w} = \\begin{bmatrix} 2 \\\\ -2 \\end{bmatrix}\n",
    "$$\n",
    "\n",
    "\n",
    "#### **Step 2: Compute \\$3\\vec{v} + \\vec{w}\\$**\n",
    "\n",
    "$$\n",
    "3\\vec{v} + \\vec{w} = 3 \\cdot \\begin{bmatrix} 3 \\\\ 3 \\end{bmatrix} + \\begin{bmatrix} 2 \\\\ -2 \\end{bmatrix} \n",
    "= \\begin{bmatrix} 9 \\\\ 9 \\end{bmatrix} + \\begin{bmatrix} 2 \\\\ -2 \\end{bmatrix} = \\begin{bmatrix} 11 \\\\ 7 \\end{bmatrix}\n",
    "$$\n",
    "\n",
    "\n",
    "#### **Step 3: General Formula for \\$c\\vec{v} + d\\vec{w}\\$**\n",
    "\n",
    "Using:\n",
    "\n",
    "$$\n",
    "\\vec{v} = \\begin{bmatrix} 3 \\\\ 3 \\end{bmatrix}, \\quad \\vec{w} = \\begin{bmatrix} 2 \\\\ -2 \\end{bmatrix}\n",
    "$$\n",
    "\n",
    "Then:\n",
    "\n",
    "$$\n",
    "c\\vec{v} + d\\vec{w} = c \\cdot \\begin{bmatrix} 3 \\\\ 3 \\end{bmatrix} + d \\cdot \\begin{bmatrix} 2 \\\\ -2 \\end{bmatrix}\n",
    "= \\begin{bmatrix} 3c + 2d \\\\ 3c - 2d \\end{bmatrix}\n",
    "$$"
   ]
  },
  {
   "cell_type": "markdown",
   "id": "529212de-d9b7-42bb-8438-fd5a4470da05",
   "metadata": {},
   "source": [
    "---\n",
    "\n",
    "### **Final Answers**\n",
    "\n",
    "- $\\vec{v} = \\begin{bmatrix} 3 \\\\ 3 \\end{bmatrix}$  \n",
    "- $\\vec{w} = \\begin{bmatrix} 2 \\\\ -2 \\end{bmatrix}$  \n",
    "- $3\\vec{v} + \\vec{w} = \\begin{bmatrix} 11 \\\\ 7 \\end{bmatrix}$  \n",
    "- $c\\vec{v} + d\\vec{w} = \\begin{bmatrix} 3c + 2d \\\\ 3c - 2d \\end{bmatrix}$\n",
    "\n"
   ]
  }
 ],
 "metadata": {
  "kernelspec": {
   "display_name": "Python 3 (ipykernel)",
   "language": "python",
   "name": "python3"
  },
  "language_info": {
   "codemirror_mode": {
    "name": "ipython",
    "version": 3
   },
   "file_extension": ".py",
   "mimetype": "text/x-python",
   "name": "python",
   "nbconvert_exporter": "python",
   "pygments_lexer": "ipython3",
   "version": "3.12.6"
  }
 },
 "nbformat": 4,
 "nbformat_minor": 5
}
