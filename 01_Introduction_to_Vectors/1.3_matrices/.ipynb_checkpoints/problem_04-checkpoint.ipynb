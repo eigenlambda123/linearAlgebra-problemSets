{
 "cells": [
  {
   "cell_type": "markdown",
   "id": "a61b0787-778a-473b-a87f-21aea62ded6b",
   "metadata": {},
   "source": [
    "### **Problems**\n",
    "\n",
    "Find a combination $x_{1}\\mathbf{w}_{1} + x_{2}\\mathbf{w}_{2} + x_{3}\\mathbf{w}_{3}$ that gives the zero vector with $x_{1} = 1$:\n",
    "\n",
    "$$\n",
    "\\mathbf{w}_{1} = \\begin{bmatrix} 1 \\\\ 2 \\\\ 3 \\end{bmatrix} \\quad\n",
    "\\mathbf{w}_{2} = \\begin{bmatrix} 4 \\\\ 5 \\\\ 6 \\end{bmatrix} \\quad\n",
    "\\mathbf{w}_{3} = \\begin{bmatrix} 7 \\\\ 8 \\\\ 9 \\end{bmatrix}.\n",
    "$$\n",
    "\n",
    "Those vectors are (independent) (dependent). The three vectors lie in a \\_\\_\\_\\_. The matrix $W$ with those three columns is _not invertible_."
   ]
  },
  {
   "cell_type": "markdown",
   "id": "4a159f87-8b97-4340-b86f-4c0c4eb721ff",
   "metadata": {},
   "source": [
    "---\n",
    "\n",
    "### **Solutions**\n",
    "\n",
    "**Find the combination:**\n",
    "We want $1\\cdot\\mathbf{w}_1 + x_2\\mathbf{w}_2 + x_3\\mathbf{w}_3 = \\mathbf{0}$.\n",
    "\n",
    "This gives:\n",
    "- From first component: $1 + 4x_2 + 7x_3 = 0$\n",
    "- From second component: $2 + 5x_2 + 8x_3 = 0$\n",
    "- From third component: $3 + 6x_2 + 9x_3 = 0$\n",
    "\n",
    "Subtract first equation from second: $(2-1) + (5-4)x_2 + (8-7)x_3 = 0$ ⇒ $1 + x_2 + x_3 = 0$\n",
    "\n",
    "Subtract second from third: $(3-2) + (6-5)x_2 + (9-8)x_3 = 0$ ⇒ $1 + x_2 + x_3 = 0$\n",
    "\n",
    "Both give the same equation: $x_2 + x_3 = -1$\n",
    "\n",
    "Try $x_2 = 1$, then $x_3 = -2$:\n",
    "Check first equation: $1 + 4(1) + 7(-2) = 1 + 4 - 14 = -9$ ✗\n",
    "\n",
    "Try $x_2 = -2$, then $x_3 = 1$:\n",
    "Check first equation: $1 + 4(-2) + 7(1) = 1 - 8 + 7 = 0$ ✓\n",
    "\n",
    "**One solution:** $x_1 = 1$, $x_2 = -2$, $x_3 = 1$\n",
    "\n",
    "**Answers:**\n",
    "- The vectors are **dependent**\n",
    "- The three vectors lie in a **plane**\n",
    "- The matrix $W$ is **not invertible**"
   ]
  }
 ],
 "metadata": {
  "kernelspec": {
   "display_name": "Python 3 (ipykernel)",
   "language": "python",
   "name": "python3"
  },
  "language_info": {
   "codemirror_mode": {
    "name": "ipython",
    "version": 3
   },
   "file_extension": ".py",
   "mimetype": "text/x-python",
   "name": "python",
   "nbconvert_exporter": "python",
   "pygments_lexer": "ipython3",
   "version": "3.12.6"
  }
 },
 "nbformat": 4,
 "nbformat_minor": 5
}
