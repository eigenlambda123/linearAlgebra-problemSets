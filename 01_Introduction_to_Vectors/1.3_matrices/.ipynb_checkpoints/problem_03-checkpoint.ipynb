{
 "cells": [
  {
   "cell_type": "markdown",
   "id": "f50ac935-c7e3-4b74-ae8f-acaee6a537e9",
   "metadata": {},
   "source": [
    "### **Problems**\n",
    "\n",
    "Solve these three equations for $y_1, y_2, y_3$ in terms of $c_1, c_2, c_3$:\n",
    "\n",
    "$$\n",
    "S\\mathbf{y} = \\mathbf{c} \\qquad \n",
    "\\begin{bmatrix}\n",
    "1 & 0 & 0 \\\\\n",
    "1 & 1 & 0 \\\\\n",
    "1 & 1 & 1\n",
    "\\end{bmatrix}\n",
    "\\begin{bmatrix}\n",
    "y_1 \\\\\n",
    "y_2 \\\\\n",
    "y_3\n",
    "\\end{bmatrix}\n",
    "=\n",
    "\\begin{bmatrix}\n",
    "c_1 \\\\\n",
    "c_2 \\\\\n",
    "c_3\n",
    "\\end{bmatrix}.\n",
    "$$\n",
    "\n",
    "Write the solution $\\mathbf{y}$ as a matrix $A = S^{-1}$ times the vector $\\mathbf{c}$. Are the columns of $S$ independent or dependent?"
   ]
  },
  {
   "cell_type": "code",
   "execution_count": null,
   "id": "bad4db45-a727-4868-a5eb-d7ba11e97a87",
   "metadata": {},
   "outputs": [],
   "source": []
  }
 ],
 "metadata": {
  "kernelspec": {
   "display_name": "Python 3 (ipykernel)",
   "language": "python",
   "name": "python3"
  },
  "language_info": {
   "codemirror_mode": {
    "name": "ipython",
    "version": 3
   },
   "file_extension": ".py",
   "mimetype": "text/x-python",
   "name": "python",
   "nbconvert_exporter": "python",
   "pygments_lexer": "ipython3",
   "version": "3.12.6"
  }
 },
 "nbformat": 4,
 "nbformat_minor": 5
}
