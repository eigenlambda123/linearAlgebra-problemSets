{
 "cells": [
  {
   "cell_type": "markdown",
   "id": "a4ac306d-6fc4-4389-894e-ece6bdab232b",
   "metadata": {},
   "source": [
    "### **Vector Space Axioms**  \n",
    "The first problems 1-8 concern general vector spaces (not necessarily column vectors). A **vector space** must satisfy these eight axioms for vector addition ($x + y$) and scalar multiplication ($c x$):\n",
    "\n",
    "1. **Commutativity**:  \n",
    "   $$x + y = y + x$$\n",
    "\n",
    "2. **Associativity**:  \n",
    "   $$x + (y + z) = (x + y) + z$$\n",
    "\n",
    "3. **Zero Vector**:  \n",
    "   There exists a unique vector $\\mathbf{0}$ such that:  \n",
    "   $$x + \\mathbf{0} = x \\quad \\forall x$$\n",
    "\n",
    "4. **Additive Inverse**:  \n",
    "   For each $x$, there exists a unique $-x$ such that:  \n",
    "   $$x + (-x) = \\mathbf{0}$$\n",
    "\n",
    "5. **Multiplicative Identity**:  \n",
    "   $$1 \\cdot x = x$$\n",
    "\n",
    "6. **Scalar Multiplication Associativity**:  \n",
    "   $$(c_1 c_2) x = c_1 (c_2 x)$$\n",
    "\n",
    "7. **Distributivity (Vector Addition)**:  \n",
    "   $$c (x + y) = c x + c y$$\n",
    "\n",
    "8. **Distributivity (Scalar Addition)**:  \n",
    "   $$(c_1 + c_2) x = c_1 x + c_2 x$$\n"
   ]
  }
 ],
 "metadata": {
  "kernelspec": {
   "display_name": "Python 3 (ipykernel)",
   "language": "python",
   "name": "python3"
  },
  "language_info": {
   "codemirror_mode": {
    "name": "ipython",
    "version": 3
   },
   "file_extension": ".py",
   "mimetype": "text/x-python",
   "name": "python",
   "nbconvert_exporter": "python",
   "pygments_lexer": "ipython3",
   "version": "3.12.6"
  }
 },
 "nbformat": 4,
 "nbformat_minor": 5
}
