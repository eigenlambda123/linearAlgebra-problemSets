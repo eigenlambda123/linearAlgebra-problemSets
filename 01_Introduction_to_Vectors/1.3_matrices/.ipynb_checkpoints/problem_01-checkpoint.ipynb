{
 "cells": [
  {
   "cell_type": "markdown",
   "id": "ca202330-88fe-499e-ad86-27ef5b90e609",
   "metadata": {},
   "source": [
    "### **Problems**\n",
    "\n",
    "Find the linear combination $3\\mathbf{s}_1 + 4\\mathbf{s}_2 + 5\\mathbf{s}_3 = \\mathbf{b}$. Then write $\\mathbf{b}$ as a matrix-vector multiplication $S\\mathbf{x}$, with $3, 4, 5$ in $\\mathbf{x}$. Compute the three dot products (row of $S$) $\\cdot$ $\\mathbf{x}$:\n",
    "\n",
    "$$\n",
    "\\mathbf{s}_1 = \\begin{bmatrix} 1 \\\\ 1 \\\\ 1 \\end{bmatrix} \\quad \n",
    "\\mathbf{s}_2 = \\begin{bmatrix} 0 \\\\ 1 \\\\ 1 \\end{bmatrix} \\quad \n",
    "\\mathbf{s}_3 = \\begin{bmatrix} 0 \\\\ 0 \\\\ 1 \\end{bmatrix}\n",
    "$$\n",
    "\n",
    "go into the columns of $S$."
   ]
  },
  {
   "cell_type": "markdown",
   "id": "f582aea7-03a2-4a20-86c8-a4437fbbc9a4",
   "metadata": {},
   "source": [
    "---\n",
    "\n",
    "### **Solutions**\n",
    "\n",
    "**(a) Linear Combination:**\n",
    "$$\n",
    "\\mathbf{b} = 3\\begin{bmatrix}1\\\\1\\\\1\\end{bmatrix} + 4\\begin{bmatrix}0\\\\1\\\\1\\end{bmatrix} + 5\\begin{bmatrix}0\\\\0\\\\1\\end{bmatrix} = \\begin{bmatrix}3\\\\3\\\\3\\end{bmatrix} + \\begin{bmatrix}0\\\\4\\\\4\\end{bmatrix} + \\begin{bmatrix}0\\\\0\\\\5\\end{bmatrix} = \\begin{bmatrix}3\\\\7\\\\12\\end{bmatrix}\n",
    "$$\n",
    "\n",
    "**(b) Matrix-Vector Multiplication:**\n",
    "Matrix $S$ has columns $\\mathbf{s}_1, \\mathbf{s}_2, \\mathbf{s}_3$:\n",
    "$$\n",
    "S = \\begin{bmatrix}1&0&0\\\\1&1&0\\\\1&1&1\\end{bmatrix}, \\quad \\mathbf{x} = \\begin{bmatrix}3\\\\4\\\\5\\end{bmatrix}\n",
    "$$\n",
    "$$\n",
    "S\\mathbf{x} = \\begin{bmatrix}1&0&0\\\\1&1&0\\\\1&1&1\\end{bmatrix}\\begin{bmatrix}3\\\\4\\\\5\\end{bmatrix} = \\begin{bmatrix}3\\\\3+4\\\\3+4+5\\end{bmatrix} = \\begin{bmatrix}3\\\\7\\\\12\\end{bmatrix} = \\mathbf{b}\n",
    "$$\n",
    "\n",
    "**(c) Dot Products (Row of $S$) $\\cdot$ $\\mathbf{x}$:**\n",
    "- Row 1: $(1,0,0) \\cdot (3,4,5) = 3$\n",
    "- Row 2: $(1,1,0) \\cdot (3,4,5) = 3+4=7$\n",
    "- Row 3: $(1,1,1) \\cdot (3,4,5) = 3+4+5=12$"
   ]
  }
 ],
 "metadata": {
  "kernelspec": {
   "display_name": "Python 3 (ipykernel)",
   "language": "python",
   "name": "python3"
  },
  "language_info": {
   "codemirror_mode": {
    "name": "ipython",
    "version": 3
   },
   "file_extension": ".py",
   "mimetype": "text/x-python",
   "name": "python",
   "nbconvert_exporter": "python",
   "pygments_lexer": "ipython3",
   "version": "3.12.6"
  }
 },
 "nbformat": 4,
 "nbformat_minor": 5
}
