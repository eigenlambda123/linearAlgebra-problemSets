{
 "cells": [
  {
   "cell_type": "markdown",
   "id": "2fb6683e-8702-4366-aad6-a76aefb20ef3",
   "metadata": {},
   "source": [
    "### **Problems**\n",
    "\n",
    "**(a)** Describe every vector $\\mathbf{w} = (w_1, w_2)$ that is perpendicular to $\\mathbf{v} = (2, -1)$.\n",
    "\n",
    "**(b)** All vectors perpendicular to $\\mathbf{V} = (1, 1, 1)$ lie on a \\_\\_\\_\\_\\_\\_ in 3 dimensions.\n",
    "\n",
    "**(c)** The vectors perpendicular to both $(1, 1, 1)$ and $(1, 2, 3)$ lie on a \\_\\_\\_\\_\\_\\_."
   ]
  },
  {
   "cell_type": "markdown",
   "id": "9f24d1e0-cf28-4697-a9d8-a82610ce7274",
   "metadata": {},
   "source": [
    "---\n",
    "\n",
    "### **Solutions**\n",
    "\n",
    "\n",
    "**(a)** Vectors are perpendicular if their dot product is zero.\n",
    "$\\mathbf{v} \\cdot \\mathbf{w} = 2w_1 + (-1)w_2 = 0 \\implies 2w_1 - w_2 = 0$\n",
    "So, every vector is of the form $\\mathbf{w} = (t, 2t)$ for any scalar $t$.\n",
    "\n",
    "**(b)** All vectors perpendicular to $\\mathbf{V} = (1, 1, 1)$ satisfy $x + y + z = 0$. This describes a **plane** through the origin in 3D.\n",
    "\n",
    "**(c)** Vectors perpendicular to two independent vectors in 3D are parallel to their cross product. They lie on a **line** (through the origin).\n",
    "\n",
    "**Answers:** (b) plane, (c) line"
   ]
  }
 ],
 "metadata": {
  "kernelspec": {
   "display_name": "Python 3 (ipykernel)",
   "language": "python",
   "name": "python3"
  },
  "language_info": {
   "codemirror_mode": {
    "name": "ipython",
    "version": 3
   },
   "file_extension": ".py",
   "mimetype": "text/x-python",
   "name": "python",
   "nbconvert_exporter": "python",
   "pygments_lexer": "ipython3",
   "version": "3.12.6"
  }
 },
 "nbformat": 4,
 "nbformat_minor": 5
}
