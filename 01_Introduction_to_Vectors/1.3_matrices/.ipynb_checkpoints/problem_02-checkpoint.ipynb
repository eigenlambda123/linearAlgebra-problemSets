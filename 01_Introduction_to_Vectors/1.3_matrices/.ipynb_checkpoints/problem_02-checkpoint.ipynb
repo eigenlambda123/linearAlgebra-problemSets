{
 "cells": [
  {
   "cell_type": "markdown",
   "id": "df029fb2-4586-4955-b8c7-47fe1494ec5b",
   "metadata": {},
   "source": [
    "### **Problems**\n",
    "\n",
    "Solve these equations $S\\mathbf{y} = \\mathbf{b}$ with $\\mathbf{s}_1, \\mathbf{s}_2, \\mathbf{s}_3$ in the columns of $S$:\n",
    "\n",
    "$$\n",
    "\\begin{bmatrix}\n",
    "1 & 0 & 0 \\\\\n",
    "1 & 1 & 0 \\\\\n",
    "1 & 1 & 1\n",
    "\\end{bmatrix}\n",
    "\\begin{bmatrix}\n",
    "y_1 \\\\\n",
    "y_2 \\\\\n",
    "y_3\n",
    "\\end{bmatrix}\n",
    "=\n",
    "\\begin{bmatrix}\n",
    "1 \\\\\n",
    "1 \\\\\n",
    "1\n",
    "\\end{bmatrix}\n",
    "\\quad \\text{and} \\quad \n",
    "\\begin{bmatrix}\n",
    "1 & 0 & 0 \\\\\n",
    "1 & 1 & 0 \\\\\n",
    "1 & 1 & 1\n",
    "\\end{bmatrix}\n",
    "\\begin{bmatrix}\n",
    "y_1 \\\\\n",
    "y_2 \\\\\n",
    "y_3\n",
    "\\end{bmatrix}\n",
    "=\n",
    "\\begin{bmatrix}\n",
    "1 \\\\\n",
    "4 \\\\\n",
    "9\n",
    "\\end{bmatrix}.\n",
    "$$\n",
    "\n",
    "$S$ is a sum matrix. The sum of the first 5 odd numbers is \\_\\_\\_\\_\\_\\_."
   ]
  },
  {
   "cell_type": "markdown",
   "id": "859deefc-f675-447b-a6a3-561dab46267e",
   "metadata": {},
   "source": [
    "---\n",
    "\n",
    "### **Solutions**\n",
    "\n",
    "\n",
    "**(a) First System:**\n",
    "From $S\\mathbf{y} = \\begin{bmatrix}1\\\\1\\\\1\\end{bmatrix}$:\n",
    "- Row 1: $y_1 = 1$\n",
    "- Row 2: $y_1 + y_2 = 1 \\Rightarrow 1 + y_2 = 1 \\Rightarrow y_2 = 0$\n",
    "- Row 3: $y_1 + y_2 + y_3 = 1 \\Rightarrow 1 + 0 + y_3 = 1 \\Rightarrow y_3 = 0$\n",
    "\n",
    "**Solution:** $\\mathbf{y} = (1, 0, 0)$\n",
    "\n",
    "**(b) Second System:**\n",
    "From $S\\mathbf{y} = \\begin{bmatrix}1\\\\4\\\\9\\end{bmatrix}$:\n",
    "- Row 1: $y_1 = 1$\n",
    "- Row 2: $y_1 + y_2 = 4 \\Rightarrow 1 + y_2 = 4 \\Rightarrow y_2 = 3$\n",
    "- Row 3: $y_1 + y_2 + y_3 = 9 \\Rightarrow 1 + 3 + y_3 = 9 \\Rightarrow y_3 = 5$\n",
    "\n",
    "**Solution:** $\\mathbf{y} = (1, 3, 5)$\n",
    "\n",
    "**(c) Sum Matrix Property:** The second solution shows $1 + 3 + 5 = 9$, which are the first 3 odd numbers. The sum of the first 5 odd numbers is $1 + 3 + 5 + 7 + 9 = 25$.\n"
   ]
  }
 ],
 "metadata": {
  "kernelspec": {
   "display_name": "Python 3 (ipykernel)",
   "language": "python",
   "name": "python3"
  },
  "language_info": {
   "codemirror_mode": {
    "name": "ipython",
    "version": 3
   },
   "file_extension": ".py",
   "mimetype": "text/x-python",
   "name": "python",
   "nbconvert_exporter": "python",
   "pygments_lexer": "ipython3",
   "version": "3.12.6"
  }
 },
 "nbformat": 4,
 "nbformat_minor": 5
}
