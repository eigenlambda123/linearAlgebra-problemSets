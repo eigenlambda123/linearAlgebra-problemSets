{
 "cells": [
  {
   "cell_type": "markdown",
   "id": "bc7d3190-4b63-4c44-888b-93c3b58aa2d3",
   "metadata": {},
   "source": [
    "### **Problems**\n",
    "\n",
    "Construct a matrix with the required property or explain why this is impossible:\n",
    "\n",
    "**(a)** Column space contains $\\begin{bmatrix} 1 \\\\ 0 \\\\ 1 \\end{bmatrix}$, $\\begin{bmatrix} 0 \\\\ 0 \\\\ 1 \\end{bmatrix}$, row space contains $\\begin{bmatrix} 1 \\\\ 2 \\end{bmatrix}^{T}$, $\\begin{bmatrix} 2 \\\\ 5 \\end{bmatrix}^{T}$.\n",
    "\n",
    "**(b)** Column space has basis $\\begin{bmatrix} 1 \\\\ 1 \\\\ 3 \\end{bmatrix}$, nullspace has basis $\\begin{bmatrix} 3 \\\\ 1 \\\\ 1 \\end{bmatrix}$.\n",
    "\n",
    "**(c)** Dimension of nullspace $= 1 +$ dimension of left nullspace.\n",
    "\n",
    "**(d)** Nullspace contains $\\begin{bmatrix} 1 \\\\ 3 \\end{bmatrix}$, column space contains $\\begin{bmatrix} -3 \\\\ -1\\end{bmatrix}$.\n",
    "\n",
    "**(e)** Row space $=$ column space, nullspace $\\neq$ left nullspace.\n",
    "\n",
    "---"
   ]
  },
  {
   "cell_type": "markdown",
   "id": "ed14d146-3399-425b-a707-81685dd4120b",
   "metadata": {},
   "source": [
    "### **Solutions**\n",
    "\n",
    "**(a) This is possible.**\n",
    "\n",
    "The column space contains two linearly independent vectors, so $\\text{rank}(A) \\geq 2$. The row space vectors are also linearly independent and exist in $\\mathbb{R}^2$, so $A$ must be a $3 \\times 2$ matrix with rank 2. One such matrix is:\n",
    "\n",
    "$$\n",
    "A = \\begin{bmatrix} 1 & 0 \\\\ 0 & 0 \\\\ 1 & 1 \\end{bmatrix}\n",
    "$$\n",
    "\n",
    "- Column space: Contains $\\begin{bmatrix} 1 \\\\ 0 \\\\ 1 \\end{bmatrix}$ (first column) and $\\begin{bmatrix} 0 \\\\ 0 \\\\ 1 \\end{bmatrix}$ (sum of columns).\n",
    "- Row space: Rows are $\\begin{bmatrix} 1 & 0 \\end{bmatrix}$, $\\begin{bmatrix} 0 & 0 \\end{bmatrix}$, $\\begin{bmatrix} 1 & 1 \\end{bmatrix}$. The span includes $\\begin{bmatrix} 1 & 2 \\end{bmatrix}$ and $\\begin{bmatrix} 2 & 5 \\end{bmatrix}$ (e.g., $\\begin{bmatrix} 1 & 2 \\end{bmatrix} = (-1)\\begin{bmatrix} 1 & 0 \\end{bmatrix} + 2\\begin{bmatrix} 1 & 1 \\end{bmatrix}$).\n",
    "\n",
    "**(b) This is impossible.**\n",
    "\n",
    "The column space basis vector is in $\\mathbb{R}^3$, so $A$ has 3 rows. The nullspace basis vector is also in $\\mathbb{R}^3$, so $A$ must have 3 columns. With rank 1 and nullity 1, we have $3 - 1 = 2$ nullity, but only one nullspace basis vector is given. Moreover, any vector in the nullspace must be orthogonal to the row space. The given nullspace vector $\\begin{bmatrix} 3 \\\\ 1 \\\\ 1 \\end{bmatrix}$ is not orthogonal to the column space vector $\\begin{bmatrix} 1 \\\\ 1 \\\\ 3 \\end{bmatrix}$ (their dot product is $3 + 1 + 3 = 7 \\neq 0$), which violates the fundamental theorem.\n",
    "\n",
    "**(c) This is possible.**\n",
    "\n",
    "Let $m$ be rows, $n$ columns, and $r$ rank. We want:\n",
    "\n",
    "$$n - r = 1 + (m - r) \\implies n = m + 1$$\n",
    "\n",
    "For example, let $m = 2$, $n = 3$, $r = 1$. Then:\n",
    "\n",
    "- Nullity = $3 - 1 = 2$\n",
    "- Left nullity = $2 - 1 = 1$\n",
    "- $2 = 1 + 1$ holds.\n",
    "\n",
    "A valid matrix is:\n",
    "\n",
    "$$\n",
    "A = \\begin{bmatrix} 1 & 0 & 0 \\\\ 0 & 0 & 0 \\end{bmatrix}\n",
    "$$\n",
    "\n",
    "**(d) This is possible.**\n",
    "\n",
    "We want a matrix $A$ such that $A \\begin{bmatrix} 1 \\\\ 3 \\end{bmatrix} = \\mathbf{0}$ and $\\begin{bmatrix} -3 \\\\ -1 \\end{bmatrix}$ is in the column space. Let $A$ be $2 \\times 2$. From $A \\begin{bmatrix} 1 \\\\ 3 \\end{bmatrix} = \\mathbf{0}$, the columns are linearly dependent. Let $A = \\begin{bmatrix} -9 & 3 \\\\ -3 & 1 \\end{bmatrix}$:\n",
    "\n",
    "- $A \\begin{bmatrix} 1 \\\\ 3 \\end{bmatrix} = \\begin{bmatrix} -9 + 9 \\\\ -3 + 3 \\end{bmatrix} = \\mathbf{0}$\n",
    "- Column space is spanned by $\\begin{bmatrix} -9 \\\\ -3 \\end{bmatrix}$ (or $\\begin{bmatrix} 3 \\\\ 1 \\end{bmatrix}$), and $\\begin{bmatrix} -3 \\\\ -1 \\end{bmatrix} = (-1) \\cdot \\begin{bmatrix} 3 \\\\ 1 \\end{bmatrix}$ is in the column space.\n",
    "\n",
    "**(e) This is impossible.**\n",
    "\n",
    "If row space = column space, then $A$ and $A^T$ have the same column space. For real matrices, this implies $A$ is symmetric ($A = A^T$). For symmetric matrices, the nullspace and left nullspace are identical ($A\\mathbf{x} = \\mathbf{0} \\iff A^T\\mathbf{x} = \\mathbf{0}$). Thus, nullspace $\\neq$ left nullspace is impossible."
   ]
  }
 ],
 "metadata": {
  "kernelspec": {
   "display_name": "Python 3 (ipykernel)",
   "language": "python",
   "name": "python3"
  },
  "language_info": {
   "codemirror_mode": {
    "name": "ipython",
    "version": 3
   },
   "file_extension": ".py",
   "mimetype": "text/x-python",
   "name": "python",
   "nbconvert_exporter": "python",
   "pygments_lexer": "ipython3",
   "version": "3.12.6"
  }
 },
 "nbformat": 4,
 "nbformat_minor": 5
}
