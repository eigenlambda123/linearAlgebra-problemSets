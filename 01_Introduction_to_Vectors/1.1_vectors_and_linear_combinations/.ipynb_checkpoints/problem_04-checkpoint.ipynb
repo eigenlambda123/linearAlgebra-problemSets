{
 "cells": [
  {
   "cell_type": "markdown",
   "id": "dc7db47c-e328-4a2f-bcca-6f919a98e522",
   "metadata": {},
   "source": [
    "### **Problem**\n",
    "\n",
    "Let\n",
    "\\$\\vec{v} = \\begin{bmatrix} 2 \\ 1 \\end{bmatrix}, \\quad \\vec{w} = \\begin{bmatrix} 1 \\ 2 \\end{bmatrix}\\$\n",
    "\n",
    "Find the components of:\n",
    "**(a)** \\$3\\vec{v} + \\vec{w}\\$\n",
    "**(b)** \\$c\\vec{v} + d\\vec{w}\\$\n"
   ]
  },
  {
   "cell_type": "markdown",
   "id": "5fe5f333-119d-44ac-a86d-ea6863909e3f",
   "metadata": {},
   "source": [
    "---\n",
    "\n",
    "### **Solution**\n",
    "\n",
    "**(a)**\n",
    "\n",
    "$$\n",
    "3\\vec{v} + \\vec{w} = 3 \\cdot \\begin{bmatrix} 2 \\\\ 1 \\end{bmatrix} + \\begin{bmatrix} 1 \\\\ 2 \\end{bmatrix} \n",
    "= \\begin{bmatrix} 6 \\\\ 3 \\end{bmatrix} + \\begin{bmatrix} 1 \\\\ 2 \\end{bmatrix} \n",
    "= \\begin{bmatrix} 7 \\\\ 5 \\end{bmatrix}\n",
    "$$\n",
    "\n",
    "**(b)**\n",
    "\n",
    "$$\n",
    "c\\vec{v} + d\\vec{w} = c \\cdot \\begin{bmatrix} 2 \\\\ 1 \\end{bmatrix} + d \\cdot \\begin{bmatrix} 1 \\\\ 2 \\end{bmatrix}\n",
    "= \\begin{bmatrix} 2c \\\\ c \\end{bmatrix} + \\begin{bmatrix} d \\\\ 2d \\end{bmatrix}\n",
    "= \\begin{bmatrix} 2c + d \\\\ c + 2d \\end{bmatrix}\n",
    "$$"
   ]
  },
  {
   "cell_type": "markdown",
   "id": "2232492c-b7b9-46a5-9408-c9aa0fb418f1",
   "metadata": {},
   "source": [
    "---\n",
    "\n",
    "### **Final Answers**\n",
    "\n",
    "* \\$3\\vec{v} + \\vec{w} = \\begin{bmatrix} 7 \\ 5 \\end{bmatrix}\\$\n",
    "* \\$c\\vec{v} + d\\vec{w} = \\begin{bmatrix} 2c + d \\ c + 2d \\end{bmatrix}\\$\n"
   ]
  }
 ],
 "metadata": {
  "kernelspec": {
   "display_name": "Python 3 (ipykernel)",
   "language": "python",
   "name": "python3"
  },
  "language_info": {
   "codemirror_mode": {
    "name": "ipython",
    "version": 3
   },
   "file_extension": ".py",
   "mimetype": "text/x-python",
   "name": "python",
   "nbconvert_exporter": "python",
   "pygments_lexer": "ipython3",
   "version": "3.12.6"
  }
 },
 "nbformat": 4,
 "nbformat_minor": 5
}
