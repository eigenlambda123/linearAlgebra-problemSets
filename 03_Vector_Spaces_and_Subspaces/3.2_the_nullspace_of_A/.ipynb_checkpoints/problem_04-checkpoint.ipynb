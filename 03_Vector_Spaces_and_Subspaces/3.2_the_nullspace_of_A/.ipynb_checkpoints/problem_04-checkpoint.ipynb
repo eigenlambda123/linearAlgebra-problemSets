{
 "cells": [
  {
   "cell_type": "markdown",
   "id": "117a5329-4030-4d62-95a5-629e43d3f485",
   "metadata": {},
   "source": [
    "### **Part (a): Matrix $A$**\n",
    "\n",
    "### Given\n",
    "$$\n",
    "A = \\begin{bmatrix} \n",
    "-1 & 3 & 5 \\\\ \n",
    "-2 & 6 & 10 \n",
    "\\end{bmatrix}\n",
    "$$\n",
    "\n",
    "### Solution\n",
    "1. **Row Reduction**:\n",
    "   - $R_2 \\leftarrow R_2 - 2R_1$ yields:\n",
    "   $$\n",
    "   U = \\begin{bmatrix} \n",
    "   -1 & 3 & 5 \\\\ \n",
    "   0 & 0 & 0 \n",
    "   \\end{bmatrix}\n",
    "   $$\n",
    "\n",
    "2. **Pivot and Free Variables**:\n",
    "   - Pivot column: 1 ($x_1$)\n",
    "   - Free variables: $x_2$, $x_3$\n",
    "\n",
    "3. **Special Solutions**:\n",
    "   - For $x_2=1$, $x_3=0$:\n",
    "     $$-x_1 + 3(1) + 5(0) = 0 \\Rightarrow x_1 = 3$$\n",
    "     Solution: $\\boxed{\\begin{bmatrix} 3 \\\\ 1 \\\\ 0 \\end{bmatrix}}$\n",
    "   \n",
    "   - For $x_3=1$, $x_2=0$:\n",
    "     $$-x_1 + 3(0) + 5(1) = 0 \\Rightarrow x_1 = 5$$\n",
    "     Solution: $\\boxed{\\begin{bmatrix} 5 \\\\ 0 \\\\ 1 \\end{bmatrix}}$\n"
   ]
  },
  {
   "cell_type": "markdown",
   "id": "527c0895-391a-440d-9b69-85e0bd47fec6",
   "metadata": {},
   "source": [
    "---\n",
    "### Part (b): Matrix $B$**\n",
    "\n",
    "### Given\n",
    "$$\n",
    "B = \\begin{bmatrix} \n",
    "-1 & 3 & 5 \\\\ \n",
    "-2 & 6 & 7 \n",
    "\\end{bmatrix}\n",
    "$$\n",
    "\n",
    "### Solution\n",
    "1. **Row Reduction**:\n",
    "   - $R_2 \\leftarrow R_2 - 2R_1$ yields:\n",
    "   $$\n",
    "   U = \\begin{bmatrix} \n",
    "   -1 & 3 & 5 \\\\ \n",
    "   0 & 0 & -3 \n",
    "   \\end{bmatrix}\n",
    "   $$\n",
    "   - Scale rows: $R_1 \\leftarrow -R_1$, $R_2 \\leftarrow -\\frac{1}{3}R_2$:\n",
    "   $$\n",
    "   R = \\begin{bmatrix} \n",
    "   1 & -3 & -5 \\\\ \n",
    "   0 & 0 & 1 \n",
    "   \\end{bmatrix}\n",
    "   $$\n",
    "\n",
    "2. **Pivot and Free Variables**:\n",
    "   - Pivot columns: 1 and 3 ($x_1$, $x_3$)\n",
    "   - Free variable: $x_2$\n",
    "\n",
    "3. **Special Solution**:\n",
    "   - For $x_2=1$:\n",
    "     $$x_3 = 0 \\text{ (from row 2)}$$\n",
    "     $$x_1 - 3(1) - 5(0) = 0 \\Rightarrow x_1 = 3$$\n",
    "     Solution: $\\boxed{\\begin{bmatrix} 3 \\\\ 1 \\\\ 0 \\end{bmatrix}}$"
   ]
  },
  {
   "cell_type": "markdown",
   "id": "5c968a74-6679-4c9b-a53a-b74220fb8bba",
   "metadata": {},
   "source": [
    "---\n",
    "\n",
    "### **Counting Theorem**\n",
    "For an $m \\times n$ matrix:  \n",
    "**Number of pivot variables** ($r$) + **Number of free variables** ($n-r$) = $\\boxed{n}$  \n",
    "\n",
    "### Verification:\n",
    "- **Matrix A**: $r=1$, $n-r=2$ ⇒ $1+2=3$  \n",
    "- **Matrix B**: $r=2$, $n-r=1$ ⇒ $2+1=3$"
   ]
  }
 ],
 "metadata": {
  "kernelspec": {
   "display_name": "Python 3 (ipykernel)",
   "language": "python",
   "name": "python3"
  },
  "language_info": {
   "codemirror_mode": {
    "name": "ipython",
    "version": 3
   },
   "file_extension": ".py",
   "mimetype": "text/x-python",
   "name": "python",
   "nbconvert_exporter": "python",
   "pygments_lexer": "ipython3",
   "version": "3.12.6"
  }
 },
 "nbformat": 4,
 "nbformat_minor": 5
}
